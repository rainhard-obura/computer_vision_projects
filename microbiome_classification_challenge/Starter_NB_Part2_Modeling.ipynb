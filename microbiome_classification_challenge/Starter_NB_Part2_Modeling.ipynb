{
  "cells": [
    {
      "cell_type": "markdown",
      "id": "03a9ca52-b665-4387-86ab-90a6a4ac1bda",
      "metadata": {
        "id": "03a9ca52-b665-4387-86ab-90a6a4ac1bda"
      },
      "source": [
        "# 🧬 Part 2 of the [MPEG-G Microbiome Classification Challenge](https://zindi.africa/competitions/mpeg-g-microbiome-classification-challenge) starter code.\n",
        "\n",
        "In Part 1 we read in the MPEG-G files using Genie, converted them to fastq. In this notebook we will explore the data about the study participants (Subjects) and the fastq files before we start modeling.\n",
        "\n",
        "In this notebook we will only focus on a centralised model appro\n",
        "\n",
        "## 🧠 The Plan for EDA and Modeling\n",
        "\n",
        "1. 📊 Explore the subject information\n",
        "2. 👀 Explore the fastq files\n",
        "3. 🔨 Create features for modeling\n",
        "4. ⏳ Run *** model\n",
        "5. 📤 Format submission file to be submitted to Zindi\n",
        "6. 💡 Next steps and ideasach."
      ]
    },
    {
      "cell_type": "code",
      "source": [
        "!pip install Bio"
      ],
      "metadata": {
        "id": "9MUA5KLFntJZ"
      },
      "id": "9MUA5KLFntJZ",
      "execution_count": null,
      "outputs": []
    },
    {
      "cell_type": "code",
      "source": [
        "# Import packages\n",
        "import os\n",
        "import zipfile\n",
        "import subprocess\n",
        "import random\n",
        "import pandas as pd\n",
        "import numpy as np\n",
        "import matplotlib.pyplot as plt\n",
        "import shutil\n",
        "\n",
        "\n",
        "from Bio import SeqIO\n",
        "from collections import Counter\n",
        "\n",
        "from sklearn.ensemble import RandomForestClassifier\n",
        "from sklearn.model_selection import train_test_split\n",
        "from sklearn.preprocessing import LabelEncoder\n",
        "from sklearn.metrics import classification_report\n",
        "\n",
        "# Errors ignore\n",
        "import warnings\n",
        "warnings.filterwarnings('ignore')"
      ],
      "metadata": {
        "id": "drsxMlhEZ1MG"
      },
      "id": "drsxMlhEZ1MG",
      "execution_count": null,
      "outputs": []
    },
    {
      "cell_type": "code",
      "source": [
        "path = \"\"              # Update to your path"
      ],
      "metadata": {
        "id": "Uxeeyo1FmvWy"
      },
      "id": "Uxeeyo1FmvWy",
      "execution_count": null,
      "outputs": []
    },
    {
      "cell_type": "code",
      "execution_count": null,
      "id": "de63a169-f265-402e-aa44-a16a7165e4e2",
      "metadata": {
        "id": "de63a169-f265-402e-aa44-a16a7165e4e2"
      },
      "outputs": [],
      "source": [
        "# Read in csv files\n",
        "\n",
        "train_df = pd.read_csv(path + \"/Train.csv\")\n",
        "test_df = pd.read_csv(path + \"/Test.csv\")\n",
        "train_subjects_df = pd.read_csv(path + \"/Train_Subjects.csv\")\n",
        "ss = pd.read_csv(path + \"/SampleSubmission.csv\")"
      ]
    },
    {
      "cell_type": "markdown",
      "id": "1b9128a4-d136-4394-9860-6a6396347f8e",
      "metadata": {
        "id": "1b9128a4-d136-4394-9860-6a6396347f8e"
      },
      "source": [
        "### 📊 Step 1: Explore the train, test & subject information"
      ]
    },
    {
      "cell_type": "code",
      "execution_count": null,
      "id": "75e63131-beea-48a1-a4b0-36f36f5054c4",
      "metadata": {
        "id": "75e63131-beea-48a1-a4b0-36f36f5054c4",
        "outputId": "b00d9f24-2046-46f5-cbf0-02901c8b563b"
      },
      "outputs": [
        {
          "data": {
            "text/html": [
              "<div>\n",
              "<style scoped>\n",
              "    .dataframe tbody tr th:only-of-type {\n",
              "        vertical-align: middle;\n",
              "    }\n",
              "\n",
              "    .dataframe tbody tr th {\n",
              "        vertical-align: top;\n",
              "    }\n",
              "\n",
              "    .dataframe thead th {\n",
              "        text-align: right;\n",
              "    }\n",
              "</style>\n",
              "<table border=\"1\" class=\"dataframe\">\n",
              "  <thead>\n",
              "    <tr style=\"text-align: right;\">\n",
              "      <th></th>\n",
              "      <th>filename</th>\n",
              "      <th>SampleType</th>\n",
              "      <th>SubjectID</th>\n",
              "      <th>SampleID</th>\n",
              "    </tr>\n",
              "  </thead>\n",
              "  <tbody>\n",
              "    <tr>\n",
              "      <th>0</th>\n",
              "      <td>ID_LETPJN.mgb</td>\n",
              "      <td>Stool</td>\n",
              "      <td>Subject_BCUNIB</td>\n",
              "      <td>Sample_AFTIWE</td>\n",
              "    </tr>\n",
              "    <tr>\n",
              "      <th>1</th>\n",
              "      <td>ID_NTDGIW.mgb</td>\n",
              "      <td>Stool</td>\n",
              "      <td>Subject_UDAXIH</td>\n",
              "      <td>Sample_JQJVNK</td>\n",
              "    </tr>\n",
              "    <tr>\n",
              "      <th>2</th>\n",
              "      <td>ID_ZISBMF.mgb</td>\n",
              "      <td>Nasal</td>\n",
              "      <td>Subject_VRKADI</td>\n",
              "      <td>Sample_YJWGWW</td>\n",
              "    </tr>\n",
              "    <tr>\n",
              "      <th>3</th>\n",
              "      <td>ID_MDCVXU.mgb</td>\n",
              "      <td>Nasal</td>\n",
              "      <td>Subject_HIFZWD</td>\n",
              "      <td>Sample_VKEHZP</td>\n",
              "    </tr>\n",
              "    <tr>\n",
              "      <th>4</th>\n",
              "      <td>ID_SWAMNY.mgb</td>\n",
              "      <td>Stool</td>\n",
              "      <td>Subject_VGLNCV</td>\n",
              "      <td>Sample_NTDTEQ</td>\n",
              "    </tr>\n",
              "  </tbody>\n",
              "</table>\n",
              "</div>"
            ],
            "text/plain": [
              "        filename SampleType       SubjectID       SampleID\n",
              "0  ID_LETPJN.mgb      Stool  Subject_BCUNIB  Sample_AFTIWE\n",
              "1  ID_NTDGIW.mgb      Stool  Subject_UDAXIH  Sample_JQJVNK\n",
              "2  ID_ZISBMF.mgb      Nasal  Subject_VRKADI  Sample_YJWGWW\n",
              "3  ID_MDCVXU.mgb      Nasal  Subject_HIFZWD  Sample_VKEHZP\n",
              "4  ID_SWAMNY.mgb      Stool  Subject_VGLNCV  Sample_NTDTEQ"
            ]
          },
          "execution_count": 62,
          "metadata": {},
          "output_type": "execute_result"
        }
      ],
      "source": [
        "train_df.head()"
      ]
    },
    {
      "cell_type": "code",
      "execution_count": null,
      "id": "67f0f1b2-cd1e-4795-8a06-5eac59cbe769",
      "metadata": {
        "id": "67f0f1b2-cd1e-4795-8a06-5eac59cbe769",
        "outputId": "f72f97b1-79e5-4e1c-f769-41745c204c4e"
      },
      "outputs": [
        {
          "name": "stdout",
          "output_type": "stream",
          "text": [
            "Number of unique subjects in train_df: 66\n",
            "Number of unique SampleType in train_df: 4\n",
            "Number of unique Files in train_df: 2901\n",
            "Unique values in SampleType: ['Stool' 'Nasal' 'Mouth' 'Skin']\n"
          ]
        },
        {
          "data": {
            "text/html": [
              "<div>\n",
              "<style scoped>\n",
              "    .dataframe tbody tr th:only-of-type {\n",
              "        vertical-align: middle;\n",
              "    }\n",
              "\n",
              "    .dataframe tbody tr th {\n",
              "        vertical-align: top;\n",
              "    }\n",
              "\n",
              "    .dataframe thead th {\n",
              "        text-align: right;\n",
              "    }\n",
              "</style>\n",
              "<table border=\"1\" class=\"dataframe\">\n",
              "  <thead>\n",
              "    <tr style=\"text-align: right;\">\n",
              "      <th></th>\n",
              "      <th>filename</th>\n",
              "      <th>SampleType</th>\n",
              "      <th>SubjectID</th>\n",
              "      <th>SampleID</th>\n",
              "    </tr>\n",
              "  </thead>\n",
              "  <tbody>\n",
              "    <tr>\n",
              "      <th>0</th>\n",
              "      <td>ID_LETPJN.mgb</td>\n",
              "      <td>Stool</td>\n",
              "      <td>Subject_BCUNIB</td>\n",
              "      <td>Sample_AFTIWE</td>\n",
              "    </tr>\n",
              "    <tr>\n",
              "      <th>1</th>\n",
              "      <td>ID_NTDGIW.mgb</td>\n",
              "      <td>Stool</td>\n",
              "      <td>Subject_UDAXIH</td>\n",
              "      <td>Sample_JQJVNK</td>\n",
              "    </tr>\n",
              "    <tr>\n",
              "      <th>2</th>\n",
              "      <td>ID_ZISBMF.mgb</td>\n",
              "      <td>Nasal</td>\n",
              "      <td>Subject_VRKADI</td>\n",
              "      <td>Sample_YJWGWW</td>\n",
              "    </tr>\n",
              "    <tr>\n",
              "      <th>3</th>\n",
              "      <td>ID_MDCVXU.mgb</td>\n",
              "      <td>Nasal</td>\n",
              "      <td>Subject_HIFZWD</td>\n",
              "      <td>Sample_VKEHZP</td>\n",
              "    </tr>\n",
              "    <tr>\n",
              "      <th>4</th>\n",
              "      <td>ID_SWAMNY.mgb</td>\n",
              "      <td>Stool</td>\n",
              "      <td>Subject_VGLNCV</td>\n",
              "      <td>Sample_NTDTEQ</td>\n",
              "    </tr>\n",
              "  </tbody>\n",
              "</table>\n",
              "</div>"
            ],
            "text/plain": [
              "        filename SampleType       SubjectID       SampleID\n",
              "0  ID_LETPJN.mgb      Stool  Subject_BCUNIB  Sample_AFTIWE\n",
              "1  ID_NTDGIW.mgb      Stool  Subject_UDAXIH  Sample_JQJVNK\n",
              "2  ID_ZISBMF.mgb      Nasal  Subject_VRKADI  Sample_YJWGWW\n",
              "3  ID_MDCVXU.mgb      Nasal  Subject_HIFZWD  Sample_VKEHZP\n",
              "4  ID_SWAMNY.mgb      Stool  Subject_VGLNCV  Sample_NTDTEQ"
            ]
          },
          "execution_count": 66,
          "metadata": {},
          "output_type": "execute_result"
        }
      ],
      "source": [
        "print(f\"Number of unique subjects in train_df: {train_df['SubjectID'].nunique()}\")\n",
        "print(f\"Number of unique SampleType in train_df: {train_df['SampleType'].nunique()}\")\n",
        "print(f\"Number of unique Files in train_df: {train_df['filename'].nunique()}\")\n",
        "print(f\"Unique values in SampleType: {train_df['SampleType'].unique()}\")\n",
        "\n",
        "train_df.head()"
      ]
    },
    {
      "cell_type": "code",
      "execution_count": null,
      "id": "037d740c-76cb-4ffe-a95c-1ab6f27d782e",
      "metadata": {
        "id": "037d740c-76cb-4ffe-a95c-1ab6f27d782e",
        "outputId": "1a7fc473-7f41-42b9-ba9c-9485d3b7368b"
      },
      "outputs": [
        {
          "name": "stdout",
          "output_type": "stream",
          "text": [
            "Average number of files per SubjectID in train_df: 43.95\n"
          ]
        },
        {
          "data": {
            "image/png": "[encoded data removed]",
            "text/plain": [
              "<Figure size 1000x600 with 1 Axes>"
            ]
          },
          "metadata": {},
          "output_type": "display_data"
        }
      ],
      "source": [
        "# Visualise the average number of files per SubjectID\n",
        "\n",
        "files_per_subject = train_df.groupby('SubjectID')['filename'].count().reset_index()\n",
        "files_per_subject = files_per_subject.rename(columns={'filename': 'FileCount'})\n",
        "average_files_per_subject = files_per_subject['FileCount'].mean()\n",
        "print(f\"Average number of files per SubjectID in train_df: {average_files_per_subject:.2f}\")\n",
        "plt.figure(figsize=(10, 6))\n",
        "plt.hist(files_per_subject['FileCount'], bins=20, edgecolor='black')\n",
        "plt.title('Distribution of Files per SubjectID in Train Data')\n",
        "plt.xlabel('Number of Files')\n",
        "plt.ylabel('Number of SubjectIDs')\n",
        "plt.grid(axis='y', alpha=0.75)\n",
        "plt.show()"
      ]
    },
    {
      "cell_type": "code",
      "execution_count": null,
      "id": "2816263b-4d90-474b-a74f-c12c2399a4fb",
      "metadata": {
        "id": "2816263b-4d90-474b-a74f-c12c2399a4fb",
        "outputId": "560f93ac-7556-4c82-9ca2-82ee98b685bf"
      },
      "outputs": [
        {
          "name": "stdout",
          "output_type": "stream",
          "text": [
            "Number of unique Files in test_df: 1068\n"
          ]
        },
        {
          "data": {
            "text/html": [
              "<div>\n",
              "<style scoped>\n",
              "    .dataframe tbody tr th:only-of-type {\n",
              "        vertical-align: middle;\n",
              "    }\n",
              "\n",
              "    .dataframe tbody tr th {\n",
              "        vertical-align: top;\n",
              "    }\n",
              "\n",
              "    .dataframe thead th {\n",
              "        text-align: right;\n",
              "    }\n",
              "</style>\n",
              "<table border=\"1\" class=\"dataframe\">\n",
              "  <thead>\n",
              "    <tr style=\"text-align: right;\">\n",
              "      <th></th>\n",
              "      <th>filename</th>\n",
              "    </tr>\n",
              "  </thead>\n",
              "  <tbody>\n",
              "    <tr>\n",
              "      <th>0</th>\n",
              "      <td>ID_YBNOYC.mgb</td>\n",
              "    </tr>\n",
              "    <tr>\n",
              "      <th>1</th>\n",
              "      <td>ID_HPVLUO.mgb</td>\n",
              "    </tr>\n",
              "    <tr>\n",
              "      <th>2</th>\n",
              "      <td>ID_DQGGYD.mgb</td>\n",
              "    </tr>\n",
              "    <tr>\n",
              "      <th>3</th>\n",
              "      <td>ID_XZBUJB.mgb</td>\n",
              "    </tr>\n",
              "    <tr>\n",
              "      <th>4</th>\n",
              "      <td>ID_KRPYRQ.mgb</td>\n",
              "    </tr>\n",
              "  </tbody>\n",
              "</table>\n",
              "</div>"
            ],
            "text/plain": [
              "        filename\n",
              "0  ID_YBNOYC.mgb\n",
              "1  ID_HPVLUO.mgb\n",
              "2  ID_DQGGYD.mgb\n",
              "3  ID_XZBUJB.mgb\n",
              "4  ID_KRPYRQ.mgb"
            ]
          },
          "execution_count": 70,
          "metadata": {},
          "output_type": "execute_result"
        }
      ],
      "source": [
        "print(f\"Number of unique Files in test_df: {test_df['filename'].nunique()}\")\n",
        "test_df.head()"
      ]
    },
    {
      "cell_type": "code",
      "execution_count": null,
      "id": "f322f09d-9a24-4afa-9fbd-75a696ca5bef",
      "metadata": {
        "id": "f322f09d-9a24-4afa-9fbd-75a696ca5bef",
        "outputId": "6810b3d5-ad4c-47b7-e088-375f2852ca64"
      },
      "outputs": [
        {
          "data": {
            "text/html": [
              "<div>\n",
              "<style scoped>\n",
              "    .dataframe tbody tr th:only-of-type {\n",
              "        vertical-align: middle;\n",
              "    }\n",
              "\n",
              "    .dataframe tbody tr th {\n",
              "        vertical-align: top;\n",
              "    }\n",
              "\n",
              "    .dataframe thead th {\n",
              "        text-align: right;\n",
              "    }\n",
              "</style>\n",
              "<table border=\"1\" class=\"dataframe\">\n",
              "  <thead>\n",
              "    <tr style=\"text-align: right;\">\n",
              "      <th></th>\n",
              "      <th>SubjectID</th>\n",
              "      <th>FPG_Mean</th>\n",
              "      <th>FPG_class</th>\n",
              "      <th>IRIS</th>\n",
              "      <th>SSPG</th>\n",
              "      <th>FPG</th>\n",
              "      <th>SSPG.Date</th>\n",
              "      <th>Class</th>\n",
              "      <th>Gender</th>\n",
              "      <th>Ethnicity</th>\n",
              "      <th>Adj.age</th>\n",
              "      <th>BMI</th>\n",
              "      <th>OGTT</th>\n",
              "      <th>OGTT_Class</th>\n",
              "      <th>Longitudinal.HbA1C.Group</th>\n",
              "      <th>A1C_Class</th>\n",
              "      <th>Family</th>\n",
              "    </tr>\n",
              "  </thead>\n",
              "  <tbody>\n",
              "    <tr>\n",
              "      <th>0</th>\n",
              "      <td>Subject_UDAXIH</td>\n",
              "      <td>1.274432</td>\n",
              "      <td>Diabetes</td>\n",
              "      <td>IS</td>\n",
              "      <td>91.5</td>\n",
              "      <td>131.75</td>\n",
              "      <td>8/7/14</td>\n",
              "      <td>Diabetic</td>\n",
              "      <td>M</td>\n",
              "      <td>C</td>\n",
              "      <td>59.48</td>\n",
              "      <td>21.47</td>\n",
              "      <td>2.245</td>\n",
              "      <td>Diabetes</td>\n",
              "      <td>6. Variable Diabetic-PreDM (n = 8)</td>\n",
              "      <td>6.VDP</td>\n",
              "      <td>NaN</td>\n",
              "    </tr>\n",
              "    <tr>\n",
              "      <th>1</th>\n",
              "      <td>Subject_NHOSIZ</td>\n",
              "      <td>0.915833</td>\n",
              "      <td>Normal</td>\n",
              "      <td>Unknown</td>\n",
              "      <td>NaN</td>\n",
              "      <td>NaN</td>\n",
              "      <td>NaN</td>\n",
              "      <td>Prediabetic</td>\n",
              "      <td>M</td>\n",
              "      <td>C</td>\n",
              "      <td>61.17</td>\n",
              "      <td>27.06</td>\n",
              "      <td>1.005</td>\n",
              "      <td>Normal</td>\n",
              "      <td>3. PreDM-to-Normal (n = 10)</td>\n",
              "      <td>3.PN</td>\n",
              "      <td>NaN</td>\n",
              "    </tr>\n",
              "    <tr>\n",
              "      <th>2</th>\n",
              "      <td>Subject_AYZFWN</td>\n",
              "      <td>0.952000</td>\n",
              "      <td>Normal</td>\n",
              "      <td>Unknown</td>\n",
              "      <td>NaN</td>\n",
              "      <td>NaN</td>\n",
              "      <td>NaN</td>\n",
              "      <td>Prediabetic</td>\n",
              "      <td>F</td>\n",
              "      <td>A</td>\n",
              "      <td>56.22</td>\n",
              "      <td>30.61</td>\n",
              "      <td>NaN</td>\n",
              "      <td>NaN</td>\n",
              "      <td>1. Normal (n = 51)</td>\n",
              "      <td>1.Normal</td>\n",
              "      <td>NaN</td>\n",
              "    </tr>\n",
              "    <tr>\n",
              "      <th>3</th>\n",
              "      <td>Subject_KIEGYK</td>\n",
              "      <td>1.160000</td>\n",
              "      <td>Prediabetes</td>\n",
              "      <td>Unknown</td>\n",
              "      <td>NaN</td>\n",
              "      <td>NaN</td>\n",
              "      <td>NaN</td>\n",
              "      <td>Prediabetic</td>\n",
              "      <td>M</td>\n",
              "      <td>C</td>\n",
              "      <td>49.18</td>\n",
              "      <td>23.22</td>\n",
              "      <td>NaN</td>\n",
              "      <td>NaN</td>\n",
              "      <td>1. Normal (n = 51)</td>\n",
              "      <td>1.Normal</td>\n",
              "      <td>NaN</td>\n",
              "    </tr>\n",
              "    <tr>\n",
              "      <th>4</th>\n",
              "      <td>Subject_CBVHYJ</td>\n",
              "      <td>0.880000</td>\n",
              "      <td>Normal</td>\n",
              "      <td>Unknown</td>\n",
              "      <td>NaN</td>\n",
              "      <td>NaN</td>\n",
              "      <td>NaN</td>\n",
              "      <td>Control</td>\n",
              "      <td>F</td>\n",
              "      <td>C</td>\n",
              "      <td>46.04</td>\n",
              "      <td>25.26</td>\n",
              "      <td>0.930</td>\n",
              "      <td>Normal</td>\n",
              "      <td>1. Normal (n = 51)</td>\n",
              "      <td>1.Normal</td>\n",
              "      <td>NaN</td>\n",
              "    </tr>\n",
              "  </tbody>\n",
              "</table>\n",
              "</div>"
            ],
            "text/plain": [
              "        SubjectID  FPG_Mean    FPG_class     IRIS  SSPG     FPG SSPG.Date  \\\n",
              "0  Subject_UDAXIH  1.274432     Diabetes       IS  91.5  131.75    8/7/14   \n",
              "1  Subject_NHOSIZ  0.915833       Normal  Unknown   NaN     NaN       NaN   \n",
              "2  Subject_AYZFWN  0.952000       Normal  Unknown   NaN     NaN       NaN   \n",
              "3  Subject_KIEGYK  1.160000  Prediabetes  Unknown   NaN     NaN       NaN   \n",
              "4  Subject_CBVHYJ  0.880000       Normal  Unknown   NaN     NaN       NaN   \n",
              "\n",
              "         Class Gender Ethnicity  Adj.age    BMI   OGTT OGTT_Class  \\\n",
              "0     Diabetic      M         C    59.48  21.47  2.245   Diabetes   \n",
              "1  Prediabetic      M         C    61.17  27.06  1.005     Normal   \n",
              "2  Prediabetic      F         A    56.22  30.61    NaN        NaN   \n",
              "3  Prediabetic      M         C    49.18  23.22    NaN        NaN   \n",
              "4      Control      F         C    46.04  25.26  0.930     Normal   \n",
              "\n",
              "             Longitudinal.HbA1C.Group A1C_Class Family  \n",
              "0  6. Variable Diabetic-PreDM (n = 8)     6.VDP    NaN  \n",
              "1         3. PreDM-to-Normal (n = 10)      3.PN    NaN  \n",
              "2                  1. Normal (n = 51)  1.Normal    NaN  \n",
              "3                  1. Normal (n = 51)  1.Normal    NaN  \n",
              "4                  1. Normal (n = 51)  1.Normal    NaN  "
            ]
          },
          "execution_count": 72,
          "metadata": {},
          "output_type": "execute_result"
        }
      ],
      "source": [
        "train_subjects_df.head()"
      ]
    },
    {
      "cell_type": "code",
      "execution_count": null,
      "id": "0453d2db-29c9-4955-978a-a82efc3611c7",
      "metadata": {
        "id": "0453d2db-29c9-4955-978a-a82efc3611c7",
        "outputId": "2000d7b9-8f3b-4535-fb7b-ecfc4c968892"
      },
      "outputs": [
        {
          "data": {
            "text/html": [
              "<div>\n",
              "<style scoped>\n",
              "    .dataframe tbody tr th:only-of-type {\n",
              "        vertical-align: middle;\n",
              "    }\n",
              "\n",
              "    .dataframe tbody tr th {\n",
              "        vertical-align: top;\n",
              "    }\n",
              "\n",
              "    .dataframe thead th {\n",
              "        text-align: right;\n",
              "    }\n",
              "</style>\n",
              "<table border=\"1\" class=\"dataframe\">\n",
              "  <thead>\n",
              "    <tr style=\"text-align: right;\">\n",
              "      <th></th>\n",
              "      <th>FPG_Mean</th>\n",
              "      <th>SSPG</th>\n",
              "      <th>FPG</th>\n",
              "      <th>Adj.age</th>\n",
              "      <th>BMI</th>\n",
              "      <th>OGTT</th>\n",
              "    </tr>\n",
              "  </thead>\n",
              "  <tbody>\n",
              "    <tr>\n",
              "      <th>count</th>\n",
              "      <td>66.000000</td>\n",
              "      <td>44.000000</td>\n",
              "      <td>44.000000</td>\n",
              "      <td>66.000000</td>\n",
              "      <td>66.000000</td>\n",
              "      <td>56.000000</td>\n",
              "    </tr>\n",
              "    <tr>\n",
              "      <th>mean</th>\n",
              "      <td>0.940581</td>\n",
              "      <td>149.815000</td>\n",
              "      <td>99.937500</td>\n",
              "      <td>54.976212</td>\n",
              "      <td>27.895000</td>\n",
              "      <td>1.371667</td>\n",
              "    </tr>\n",
              "    <tr>\n",
              "      <th>std</th>\n",
              "      <td>0.117552</td>\n",
              "      <td>68.402027</td>\n",
              "      <td>11.397818</td>\n",
              "      <td>10.315599</td>\n",
              "      <td>4.334436</td>\n",
              "      <td>0.455184</td>\n",
              "    </tr>\n",
              "    <tr>\n",
              "      <th>min</th>\n",
              "      <td>0.756000</td>\n",
              "      <td>40.000000</td>\n",
              "      <td>78.000000</td>\n",
              "      <td>29.180000</td>\n",
              "      <td>19.100000</td>\n",
              "      <td>0.640000</td>\n",
              "    </tr>\n",
              "    <tr>\n",
              "      <th>25%</th>\n",
              "      <td>0.870000</td>\n",
              "      <td>90.375000</td>\n",
              "      <td>94.750000</td>\n",
              "      <td>49.772500</td>\n",
              "      <td>25.040000</td>\n",
              "      <td>1.089167</td>\n",
              "    </tr>\n",
              "    <tr>\n",
              "      <th>50%</th>\n",
              "      <td>0.902557</td>\n",
              "      <td>156.935000</td>\n",
              "      <td>97.500000</td>\n",
              "      <td>55.300000</td>\n",
              "      <td>27.195000</td>\n",
              "      <td>1.250000</td>\n",
              "    </tr>\n",
              "    <tr>\n",
              "      <th>75%</th>\n",
              "      <td>1.017500</td>\n",
              "      <td>220.000000</td>\n",
              "      <td>101.937500</td>\n",
              "      <td>61.747500</td>\n",
              "      <td>30.092500</td>\n",
              "      <td>1.533125</td>\n",
              "    </tr>\n",
              "    <tr>\n",
              "      <th>max</th>\n",
              "      <td>1.274432</td>\n",
              "      <td>274.000000</td>\n",
              "      <td>138.000000</td>\n",
              "      <td>75.230000</td>\n",
              "      <td>40.830000</td>\n",
              "      <td>3.087500</td>\n",
              "    </tr>\n",
              "  </tbody>\n",
              "</table>\n",
              "</div>"
            ],
            "text/plain": [
              "        FPG_Mean        SSPG         FPG    Adj.age        BMI       OGTT\n",
              "count  66.000000   44.000000   44.000000  66.000000  66.000000  56.000000\n",
              "mean    0.940581  149.815000   99.937500  54.976212  27.895000   1.371667\n",
              "std     0.117552   68.402027   11.397818  10.315599   4.334436   0.455184\n",
              "min     0.756000   40.000000   78.000000  29.180000  19.100000   0.640000\n",
              "25%     0.870000   90.375000   94.750000  49.772500  25.040000   1.089167\n",
              "50%     0.902557  156.935000   97.500000  55.300000  27.195000   1.250000\n",
              "75%     1.017500  220.000000  101.937500  61.747500  30.092500   1.533125\n",
              "max     1.274432  274.000000  138.000000  75.230000  40.830000   3.087500"
            ]
          },
          "execution_count": 74,
          "metadata": {},
          "output_type": "execute_result"
        }
      ],
      "source": [
        "train_subjects_df.describe()"
      ]
    },
    {
      "cell_type": "markdown",
      "id": "f76d9f93-9348-41ef-960c-f56b45c61a4f",
      "metadata": {
        "id": "f76d9f93-9348-41ef-960c-f56b45c61a4f"
      },
      "source": [
        "### 👀 Step2: Explore the fastq files"
      ]
    },
    {
      "cell_type": "code",
      "execution_count": null,
      "id": "3ead8dc5-5d52-41e1-8517-b93601b56380",
      "metadata": {
        "id": "3ead8dc5-5d52-41e1-8517-b93601b56380"
      },
      "outputs": [],
      "source": [
        "fastq_dir = \"TrainFiles\"\n",
        "all_stats = []\n",
        "\n",
        "for fname in os.listdir(fastq_dir):\n",
        "    if not fname.endswith(\".fastq\"):\n",
        "        continue\n",
        "\n",
        "    path = os.path.join(fastq_dir, fname)\n",
        "    read_lengths = []\n",
        "    gc_counts = []\n",
        "    nt_counts = Counter()\n",
        "\n",
        "    for record in SeqIO.parse(path, \"fastq\"):\n",
        "        seq = str(record.seq)\n",
        "        read_lengths.append(len(seq))\n",
        "        gc_counts.append(seq.count(\"G\") + seq.count(\"C\"))\n",
        "        nt_counts.update(seq)\n",
        "\n",
        "    if read_lengths:\n",
        "        stats = {\n",
        "            \"file\": fname,\n",
        "            \"num_reads\": len(read_lengths),\n",
        "            \"avg_read_length\": sum(read_lengths) / len(read_lengths),\n",
        "            \"avg_gc_content\": sum(gc_counts) / sum(read_lengths),\n",
        "            \"A\": nt_counts[\"A\"],\n",
        "            \"T\": nt_counts[\"T\"],\n",
        "            \"G\": nt_counts[\"G\"],\n",
        "            \"C\": nt_counts[\"C\"]\n",
        "        }\n",
        "        all_stats.append(stats)\n",
        "\n",
        "# Convert to DataFrame\n",
        "df = pd.DataFrame(all_stats)"
      ]
    },
    {
      "cell_type": "code",
      "execution_count": null,
      "id": "19582998-b6ad-4abb-aa4f-3f67190e0a42",
      "metadata": {
        "id": "19582998-b6ad-4abb-aa4f-3f67190e0a42"
      },
      "outputs": [],
      "source": [
        "# Basic feature table to assess the features created from the FASTQ files\n",
        "df.head()"
      ]
    },
    {
      "cell_type": "code",
      "execution_count": null,
      "id": "101659ca-e8f1-42e7-a80d-54c9510aefca",
      "metadata": {
        "id": "101659ca-e8f1-42e7-a80d-54c9510aefca"
      },
      "outputs": [],
      "source": [
        "# Plot: GC content distribution\n",
        "plt.figure()\n",
        "plt.hist(df[\"avg_gc_content\"], bins=20, color='gray')\n",
        "plt.title(\"GC Content Distribution\")\n",
        "plt.xlabel(\"GC Content\")\n",
        "plt.ylabel(\"Number of Files\")\n",
        "plt.show()"
      ]
    },
    {
      "cell_type": "code",
      "execution_count": null,
      "id": "2edec244-da41-49d7-b433-622bb10695d8",
      "metadata": {
        "id": "2edec244-da41-49d7-b433-622bb10695d8"
      },
      "outputs": [],
      "source": [
        "# Define your folder and labels\n",
        "fastq_dir = \"TrainFiles\"\n",
        "labels = ['Nasal', 'Stool', 'Mouth', 'Skin']\n",
        "\n",
        "# List all .fastq files in the folder\n",
        "file_list = [f for f in os.listdir(fastq_dir) if f.endswith(\".fastq\")]\n",
        "\n",
        "# Assign a random label to each file\n",
        "data = {\n",
        "    \"filename\": file_list,\n",
        "    \"label\": [random.choice(labels) for _ in file_list]\n",
        "}\n",
        "\n",
        "# Create the DataFrame\n",
        "df_labels = pd.DataFrame(data)\n",
        "\n",
        "# Optional: sort for cleaner viewing\n",
        "df_labels = df_labels.sort_values(\"filename\").reset_index(drop=True)\n",
        "\n",
        "# Show the result\n",
        "df_labels.head()"
      ]
    },
    {
      "cell_type": "code",
      "execution_count": null,
      "id": "e21c7bcf-fc2e-4676-9668-711a844c91d3",
      "metadata": {
        "id": "e21c7bcf-fc2e-4676-9668-711a844c91d3"
      },
      "outputs": [],
      "source": [
        "# Visualise count of label\n",
        "\n",
        "import matplotlib.pyplot as plt\n",
        "# Count the occurrences of each label\n",
        "label_counts = df_labels['label'].value_counts()\n",
        "\n",
        "# Plotting the label counts\n",
        "plt.figure(figsize=(8, 6))\n",
        "label_counts.plot(kind='bar', color='skyblue')\n",
        "plt.title('Distribution of Labels')\n",
        "plt.xlabel('Label')\n",
        "plt.ylabel('Count')\n",
        "plt.xticks(rotation=45, ha='right')\n",
        "plt.tight_layout()\n",
        "plt.show()"
      ]
    },
    {
      "cell_type": "markdown",
      "id": "85205ada-b4a6-421f-bdc9-f441fc4ae1e6",
      "metadata": {
        "id": "85205ada-b4a6-421f-bdc9-f441fc4ae1e6"
      },
      "source": [
        "### 🔨 Step 3: Create features for modeling (remember to create your new and better features)\n",
        "For example, extract number of specific length sequences (di-nucleotides, tri-nucleotides, k-nucleotides)  \n",
        "\n",
        "Or, use a language model to work directly with  the ACGT data within files.\n",
        "Alternative: try to use compressed data from MPEG-G - this would be a big stretch."
      ]
    },
    {
      "cell_type": "code",
      "execution_count": null,
      "id": "62e9e017-1a7c-40ea-acfa-7f6087da2b57",
      "metadata": {
        "id": "62e9e017-1a7c-40ea-acfa-7f6087da2b57"
      },
      "outputs": [],
      "source": [
        "def extract_features_from_fastq(path):\n",
        "    read_lengths = []\n",
        "    gc_counts = []\n",
        "    nt_counter = Counter()\n",
        "\n",
        "    for record in SeqIO.parse(path, \"fastq\"):\n",
        "        seq = str(record.seq)\n",
        "        read_lengths.append(len(seq))\n",
        "        gc_counts.append(seq.count(\"G\") + seq.count(\"C\"))\n",
        "        nt_counter.update(seq)\n",
        "\n",
        "    if not read_lengths:\n",
        "        return None  # skip empty files\n",
        "\n",
        "    total_len = sum(read_lengths)\n",
        "    return {\n",
        "        \"num_reads\": len(read_lengths),\n",
        "        \"avg_read_len\": total_len / len(read_lengths),\n",
        "        \"gc_content\": sum(gc_counts) / total_len,\n",
        "        \"A\": nt_counter[\"A\"] / total_len,\n",
        "        \"T\": nt_counter[\"T\"] / total_len,\n",
        "        \"G\": nt_counter[\"G\"] / total_len,\n",
        "        \"C\": nt_counter[\"C\"] / total_len,\n",
        "    }"
      ]
    },
    {
      "cell_type": "code",
      "execution_count": null,
      "id": "d245a3da-2dc8-4955-a373-d56bf7a2f115",
      "metadata": {
        "id": "d245a3da-2dc8-4955-a373-d56bf7a2f115"
      },
      "outputs": [],
      "source": [
        "train_dir = \"TrainFiles\"\n",
        "train_features = []\n",
        "\n",
        "for _, row in df_labels.iterrows():\n",
        "    fpath = os.path.join(train_dir, row[\"filename\"])\n",
        "    feats = extract_features_from_fastq(fpath)\n",
        "    if feats:\n",
        "        feats[\"filename\"] = row[\"filename\"]\n",
        "        feats[\"label\"] = row[\"label\"]\n",
        "        train_features.append(feats)\n",
        "\n",
        "df_train = pd.DataFrame(train_features)"
      ]
    },
    {
      "cell_type": "code",
      "execution_count": null,
      "id": "00009ed8-1d0b-43f9-bde2-d5f2e70eacff",
      "metadata": {
        "id": "00009ed8-1d0b-43f9-bde2-d5f2e70eacff"
      },
      "outputs": [],
      "source": [
        "# Encode string labels to integers\n",
        "le = LabelEncoder()\n",
        "df_train[\"label_enc\"] = le.fit_transform(df_train[\"label\"])"
      ]
    },
    {
      "cell_type": "code",
      "execution_count": null,
      "id": "2d09c742-4ae2-43b1-ad57-cedb83d6f258",
      "metadata": {
        "id": "2d09c742-4ae2-43b1-ad57-cedb83d6f258"
      },
      "outputs": [],
      "source": [
        "# Define features & target\n",
        "X = df_train[[\"num_reads\", \"avg_read_len\", \"gc_content\", \"A\", \"T\", \"G\", \"C\"]]\n",
        "y = df_train[\"label_enc\"]"
      ]
    },
    {
      "cell_type": "code",
      "execution_count": null,
      "id": "f5c98015-335c-46d0-aa31-b50d166d3716",
      "metadata": {
        "id": "f5c98015-335c-46d0-aa31-b50d166d3716"
      },
      "outputs": [],
      "source": [
        "X.to_csv(\"X.csv\", index = False)\n",
        "y.to_csv(\"y.csv\", index = False)"
      ]
    },
    {
      "cell_type": "markdown",
      "id": "46bb98fa-d8a2-43f2-8ac7-8778a9c81114",
      "metadata": {
        "id": "46bb98fa-d8a2-43f2-8ac7-8778a9c81114"
      },
      "source": [
        "### ⏳ Step 4: Run RandomForestClassifier model\n"
      ]
    },
    {
      "cell_type": "code",
      "execution_count": null,
      "id": "bd2bdabd-6bf8-43d6-a56c-b62841c36904",
      "metadata": {
        "id": "bd2bdabd-6bf8-43d6-a56c-b62841c36904"
      },
      "outputs": [],
      "source": [
        "# Train/test split for evaluation\n",
        "X_train, X_val, y_train, y_val = train_test_split(X, y, stratify=y, random_state=42)"
      ]
    },
    {
      "cell_type": "code",
      "execution_count": null,
      "id": "275a4fc2-e621-4d95-8e04-77fc71be87b9",
      "metadata": {
        "id": "275a4fc2-e621-4d95-8e04-77fc71be87b9"
      },
      "outputs": [],
      "source": [
        "# Train classifier\n",
        "clf = RandomForestClassifier(n_estimators=10, random_state=42)\n",
        "clf.fit(X_train, y_train)"
      ]
    },
    {
      "cell_type": "code",
      "execution_count": null,
      "id": "79ff4700-37cd-4b90-bed4-04f06591af9f",
      "metadata": {
        "id": "79ff4700-37cd-4b90-bed4-04f06591af9f"
      },
      "outputs": [],
      "source": [
        "# Evaluate\n",
        "y_pred = clf.predict(X_val)\n",
        "print(classification_report(y_val, y_pred, target_names=le.classes_))"
      ]
    },
    {
      "cell_type": "code",
      "execution_count": null,
      "id": "36a1df2a-48a5-4f50-b427-f8f9a43e7ba3",
      "metadata": {
        "id": "36a1df2a-48a5-4f50-b427-f8f9a43e7ba3"
      },
      "outputs": [],
      "source": [
        "test_dir = \"TestFiles\"\n",
        "test_files = [f for f in os.listdir(test_dir) if f.endswith(\".fastq\")]\n",
        "\n",
        "test_features = []\n",
        "for fname in test_files:\n",
        "    path = os.path.join(test_dir, fname)\n",
        "    feats = extract_features_from_fastq(path)\n",
        "    if feats:\n",
        "        feats[\"filename\"] = fname\n",
        "        test_features.append(feats)\n",
        "\n",
        "df_test = pd.DataFrame(test_features)"
      ]
    },
    {
      "cell_type": "code",
      "execution_count": null,
      "id": "62d7105c-9baa-4a08-a279-9d1f8e886985",
      "metadata": {
        "id": "62d7105c-9baa-4a08-a279-9d1f8e886985"
      },
      "outputs": [],
      "source": [
        "# Predict\n",
        "X_test = df_test[[\"num_reads\", \"avg_read_len\", \"gc_content\", \"A\", \"T\", \"G\", \"C\"]]"
      ]
    },
    {
      "cell_type": "code",
      "execution_count": null,
      "id": "c2dff79e-851c-464f-872f-c200bccb375b",
      "metadata": {
        "id": "c2dff79e-851c-464f-872f-c200bccb375b"
      },
      "outputs": [],
      "source": [
        "# Get class probabilities\n",
        "probs = clf.predict_proba(X_test)\n",
        "\n",
        "# Create output DataFrame\n",
        "probs_df = pd.DataFrame(probs, columns=le.inverse_transform(clf.classes_))  # class labels as column names\n",
        "probs_df.insert(0, \"filename\", df_test[\"filename\"])\n",
        "probs_df.head()"
      ]
    },
    {
      "cell_type": "markdown",
      "id": "8170669d-45bd-462e-811a-8f8ba1ad8577",
      "metadata": {
        "id": "8170669d-45bd-462e-811a-8f8ba1ad8577"
      },
      "source": [
        "### 📤 Step 5: Format submission file to be submitted to Zindi"
      ]
    },
    {
      "cell_type": "code",
      "execution_count": null,
      "id": "c000c7ad-5515-4b2f-b422-1305c117c086",
      "metadata": {
        "id": "c000c7ad-5515-4b2f-b422-1305c117c086"
      },
      "outputs": [],
      "source": [
        "# Sort columns to match required order\n",
        "required_order = [\"filename\", \"Mouth\", \"Nasal\", \"Skin\", \"Stool\"]\n",
        "for col in required_order[1:]:\n",
        "    if col not in probs_df.columns:\n",
        "        probs_df[col] = 0.0  # in case some class not seen in train\n",
        "\n",
        "probs_df = probs_df[required_order]\n",
        "probs_df[\"filename\"] = probs_df[\"filename\"].str.replace(\".fastq\", \"\", regex=False)\n",
        "\n",
        "# View\n",
        "probs_df.head()"
      ]
    },
    {
      "cell_type": "code",
      "execution_count": null,
      "id": "d312f351-9911-47a4-b122-39f186ca6240",
      "metadata": {
        "id": "d312f351-9911-47a4-b122-39f186ca6240"
      },
      "outputs": [],
      "source": [
        "# Save to CSV\n",
        "probs_df.to_csv(\"test_predictions_probs.csv\", index=False)"
      ]
    },
    {
      "cell_type": "code",
      "execution_count": null,
      "id": "d5e18396-103f-434c-b5e5-f44d97da054d",
      "metadata": {
        "id": "d5e18396-103f-434c-b5e5-f44d97da054d"
      },
      "outputs": [],
      "source": []
    },
    {
      "cell_type": "code",
      "execution_count": null,
      "id": "c325462b-a464-4605-b59f-ac6c228fe53c",
      "metadata": {
        "id": "c325462b-a464-4605-b59f-ac6c228fe53c"
      },
      "outputs": [],
      "source": []
    }
  ],
  "metadata": {
    "kernelspec": {
      "display_name": "Python 3 (ipykernel)",
      "language": "python",
      "name": "python3"
    },
    "language_info": {
      "codemirror_mode": {
        "name": "ipython",
        "version": 3
      },
      "file_extension": ".py",
      "mimetype": "text/x-python",
      "name": "python",
      "nbconvert_exporter": "python",
      "pygments_lexer": "ipython3",
      "version": "3.12.4"
    },
    "colab": {
      "provenance": []
    }
  },
  "nbformat": 4,
  "nbformat_minor": 5
}