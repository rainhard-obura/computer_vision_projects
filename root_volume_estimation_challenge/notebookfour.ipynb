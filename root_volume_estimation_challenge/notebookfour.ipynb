{
 "cells": [
  {
   "cell_type": "code",
   "execution_count": 1,
   "metadata": {},
   "outputs": [],
   "source": [
    "import pandas as pd\n",
    "from glob import glob\n",
    "from PIL import Image, ImageDraw\n",
    "import cv2\n",
    "import numpy\n",
    "import matplotlib.pyplot as plt\n",
    "import os\n",
    "import random \n",
    "from ultralytics import YOLO\n",
    "from tqdm import tqdm\n",
    "%matplotlib inline\n"
   ]
  },
  {
   "cell_type": "code",
   "execution_count": null,
   "metadata": {},
   "outputs": [],
   "source": [
    "def get_images_labels(path, folder_name):\n",
    "    labels = glob(f'{path}/train_labels/train_labels/{folder_name}*')\n",
    "    labels = sorted(labels)\n",
    "    imgs = glob(f'{path}/data/train/{folder_name.split(\"_\")[0]}/{folder_name}*')\n",
    "    imgs = sorted(imgs)\n",
    "    return labels, imgs\n",
    "\n",
    "def generate_random_color():\n",
    "    \"\"\"Generate a bright, random color.\"\"\"\n",
    "    return tuple(random.randint(100, 255) for _ in range(3))  # RGB values\n",
    "\n",
    "\n",
    "def stack_images_vertically(image_paths):\n",
    "    '''Stack images vertically into a single PIL image cropping to the minimum width'''\n",
    "    images = [Image.open(path) for path in image_paths]\n",
    "    widths, heights = zip(*(i.size for i in images))\n",
    "    min_width = min(widths)\n",
    "    total_height = sum(heights)\n",
    "    stacked_image = Image.new('RGB', (min_width, total_height))\n",
    "    y_offset = 0\n",
    "    for im in images:\n",
    "        if im.width > min_width:\n",
    "            im = im.crop((0,0, min_width, im.height))\n",
    "        stacked_image.paste(im, (0, y_offset))\n",
    "        y_offset += im.height\n",
    "    return stacked_image\n",
    "\n",
    "\n",
    "import os \n",
    "from PIL import Image\n"
   ]
  },
  {
   "cell_type": "code",
   "execution_count": null,
   "metadata": {},
   "outputs": [],
   "source": [
    "import os\n",
    "from PIL import Image\n",
    "def prepare_stacked_data(image_paths, label_paths):\n",
    "    '''\n",
    "    Prepare a stacked image and combined mask string from matching image-label pairs\n",
    "\n",
    "    Args:\n",
    "    image_paths (list): List of paths to image files\n",
    "    label_paths (list): List of paths to label files\n",
    "\n",
    "    Return:\n",
    "        tuple: (stacked_image, combined_masks_str)\n",
    "            - stacked images: PIL image object of the stacked images.\n",
    "            -combined_mask_str: string combining all mask annotations.\n",
    "    '''\n",
    "\n",
    "    # create a dictionary mapping the label base names to their full paths \n",
    "    label_map = {os.path.splitext(os.path.basename(lf))[0]: lf for lf in label_paths}\n",
    "    matching_images = []\n",
    "    matching_labels = []\n",
    "\n",
    "    # match images with corresponding labels\n",
    "    for image_path in image_paths:\n",
    "        image_name = os.path.splitext(os.path.basename(image_path))[0]\n",
    "        if image_name in label_map:\n",
    "            matching_images.append(image_path)\n",
    "            matching_labels.append(label_map[image_name])\n",
    "\n",
    "    #print feedback for debugging\n",
    "    print(f'found {len(image_paths)} images and {len(label_paths)} labels')\n",
    "    print"
   ]
  },
  {
   "cell_type": "code",
   "execution_count": null,
   "metadata": {},
   "outputs": [],
   "source": []
  },
  {
   "cell_type": "code",
   "execution_count": null,
   "metadata": {},
   "outputs": [],
   "source": []
  },
  {
   "cell_type": "code",
   "execution_count": null,
   "metadata": {},
   "outputs": [],
   "source": []
  },
  {
   "cell_type": "code",
   "execution_count": null,
   "metadata": {},
   "outputs": [],
   "source": []
  },
  {
   "cell_type": "code",
   "execution_count": null,
   "metadata": {},
   "outputs": [],
   "source": []
  },
  {
   "cell_type": "code",
   "execution_count": null,
   "metadata": {},
   "outputs": [],
   "source": []
  },
  {
   "cell_type": "code",
   "execution_count": null,
   "metadata": {},
   "outputs": [],
   "source": []
  },
  {
   "cell_type": "code",
   "execution_count": null,
   "metadata": {},
   "outputs": [],
   "source": []
  },
  {
   "cell_type": "code",
   "execution_count": null,
   "metadata": {},
   "outputs": [],
   "source": []
  },
  {
   "cell_type": "code",
   "execution_count": null,
   "metadata": {},
   "outputs": [],
   "source": []
  },
  {
   "cell_type": "code",
   "execution_count": null,
   "metadata": {},
   "outputs": [],
   "source": []
  },
  {
   "cell_type": "code",
   "execution_count": null,
   "metadata": {},
   "outputs": [],
   "source": []
  },
  {
   "cell_type": "code",
   "execution_count": null,
   "metadata": {},
   "outputs": [],
   "source": []
  },
  {
   "cell_type": "code",
   "execution_count": null,
   "metadata": {},
   "outputs": [],
   "source": []
  },
  {
   "cell_type": "code",
   "execution_count": null,
   "metadata": {},
   "outputs": [],
   "source": []
  },
  {
   "cell_type": "code",
   "execution_count": null,
   "metadata": {},
   "outputs": [],
   "source": []
  }
 ],
 "metadata": {
  "kernelspec": {
   "display_name": "deeplearning",
   "language": "python",
   "name": "python3"
  },
  "language_info": {
   "codemirror_mode": {
    "name": "ipython",
    "version": 3
   },
   "file_extension": ".py",
   "mimetype": "text/x-python",
   "name": "python",
   "nbconvert_exporter": "python",
   "pygments_lexer": "ipython3",
   "version": "3.12.8"
  }
 },
 "nbformat": 4,
 "nbformat_minor": 2
}
