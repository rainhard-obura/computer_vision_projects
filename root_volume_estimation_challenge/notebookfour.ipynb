{
 "cells": [
  {
   "cell_type": "code",
   "execution_count": 7,
   "metadata": {},
   "outputs": [],
   "source": [
    "import pandas as pd\n",
    "from glob import glob\n",
    "from PIL import Image, ImageDraw\n",
    "import cv2\n",
    "import numpy as np\n",
    "import matplotlib.pyplot as plt\n",
    "import os\n",
    "import random \n",
    "from ultralytics import YOLO\n",
    "from tqdm import tqdm\n",
    "%matplotlib inline\n"
   ]
  },
  {
   "cell_type": "code",
   "execution_count": 8,
   "metadata": {},
   "outputs": [],
   "source": [
    "def get_images_labels(path, folder_name):\n",
    "    labels = glob(f'{path}/train_labels/train_labels/{folder_name}*')\n",
    "    labels = sorted(labels)\n",
    "    imgs = glob(f'{path}/data/train/{folder_name.split(\"_\")[0]}/{folder_name}*')\n",
    "    imgs = sorted(imgs)\n",
    "    return labels, imgs\n",
    "\n",
    "def generate_random_color():\n",
    "    \"\"\"Generate a bright, random color.\"\"\"\n",
    "    return tuple(random.randint(100, 255) for _ in range(3))  # RGB values\n",
    "\n",
    "\n",
    "def stack_images_vertically(image_paths):\n",
    "    '''Stack images vertically into a single PIL image cropping to the minimum width'''\n",
    "    images = [Image.open(path) for path in image_paths]\n",
    "    widths, heights = zip(*(i.size for i in images))\n",
    "    min_width = min(widths)\n",
    "    total_height = sum(heights)\n",
    "    stacked_image = Image.new('RGB', (min_width, total_height))\n",
    "    y_offset = 0\n",
    "    for im in images:\n",
    "        if im.width > min_width:\n",
    "            im = im.crop((0,0, min_width, im.height))\n",
    "        stacked_image.paste(im, (0, y_offset))\n",
    "        y_offset += im.height\n",
    "    return stacked_image"
   ]
  },
  {
   "cell_type": "code",
   "execution_count": 9,
   "metadata": {},
   "outputs": [],
   "source": [
    "def prepare_stacked_data(image_paths, label_paths):\n",
    "    '''\n",
    "    Prepare a stacked image and combined mask string from matching image-label pairs\n",
    "\n",
    "    Args:\n",
    "    image_paths (list): List of paths to image files\n",
    "    label_paths (list): List of paths to label files\n",
    "\n",
    "    Return:\n",
    "        tuple: (stacked_image, combined_masks_str)\n",
    "            - stacked images: PIL image object of the stacked images.\n",
    "            -combined_mask_str: string combining all mask annotations.\n",
    "    '''\n",
    "\n",
    "    # create a dictionary mapping the label base names to their full paths \n",
    "    label_map = {os.path.splitext(os.path.basename(lf))[0]: lf for lf in label_paths}\n",
    "    matching_images = []\n",
    "    matching_labels = []\n",
    "\n",
    "    # match images with corresponding labels\n",
    "    for image_path in image_paths:\n",
    "        image_name = os.path.splitext(os.path.basename(image_path))[0]\n",
    "        if image_name in label_map:\n",
    "            matching_images.append(image_path)\n",
    "            matching_labels.append(label_map[image_name])\n",
    "\n",
    "    #print feedback for debugging\n",
    "    #print(f'found {len(image_paths)} images and {len(label_paths)} labels')\n",
    "    #print(f'Matched {len(matching_images)} image-label pairs.')\n",
    "    \n",
    "    images = [Image.open(path) for path in matching_images]\n",
    "    if len(images) == 0:\n",
    "        images = [Image.open(path) for path in image_paths]\n",
    "    widths, heights = zip(*(i.size for i in images))\n",
    "    min_width = min(widths)\n",
    "    total_height = sum(heights)\n",
    "\n",
    "    #stack images vertically\n",
    "    stacked_image = Image.new('RGB', (min_width, total_height))\n",
    "    y_offset = 0\n",
    "    for im in images:\n",
    "        im_resized = im.resize((min_width, im.height))\n",
    "        stacked_image.paste(im_resized, (0, y_offset))\n",
    "        y_offset += im.height\n",
    "    # Handle case where no matching pairs were found\n",
    "    combined_mask_lines = []\n",
    "    cummulative_height = 0\n",
    "    for label_path, im_height, im_width in zip(matching_labels, heights, widths):\n",
    "        with open(label_path, 'r') as file:\n",
    "            for line in file:\n",
    "                parts = line.strip().split()\n",
    "                if len(parts) < 3:\n",
    "                    continue\n",
    "                class_id = parts[0]\n",
    "                coords = list(map(float, parts[1:]))\n",
    "                new_coords = []\n",
    "                for x_norm, y_norm in zip(coords[0::2], coords[1::2]):\n",
    "                    x_pixel = int(x_norm * im_width)\n",
    "                    y_pixel = int(y_norm * im_height)\n",
    "                    x_pixel_cropped = min(x_pixel, min_width - 1)\n",
    "                    y_pixel_offset = y_pixel + cummulative_height\n",
    "                    new_x_norm = x_pixel_cropped / min_width\n",
    "                    new_y_norm = y_pixel_offset / total_height\n",
    "                    new_coords.extend([new_x_norm, new_y_norm])\n",
    "                new_line = class_id + \" \" + \" \".join(f'{val:.6f}' for val in new_coords)\n",
    "                combined_mask_lines.append(new_line)\n",
    "\n",
    "        cummulative_height += im_height\n",
    "    combined_masks_str = '\\n'.join(combined_mask_lines)\n",
    "    \n",
    "    return stacked_image, combined_masks_str        "
   ]
  },
  {
   "cell_type": "code",
   "execution_count": 10,
   "metadata": {},
   "outputs": [],
   "source": [
    "def get_polygons_from_mask_str(mask_str, img_width, img_height):\n",
    "    polygons = []\n",
    "    # split into lines (each line is a polygon)\n",
    "    lines = mask_str.strip().split('\\n')\n",
    "    for line in lines:\n",
    "        #split line into parts (class id and coordinates)\n",
    "        parts = lines.strip().split()\n",
    "        if len(parts) < 3:\n",
    "            continue\n",
    "        #convert the coordinates into floats skipping the class id\n",
    "        coords = list(map(float, parts[1:]))\n",
    "        if len(coords) % 2 != 0: #must have an even number for (x, y) pairs\n",
    "            continue\n",
    "        # Group into (x,y) pairs and convert to pixel coordinates\n",
    "        points = [(int(x * img_width), int(y * img_height))\n",
    "                  for x, y in zip(coords[0::2], coords[1::2])]\n",
    "        \n",
    "        #convert to numpy arrayand append to list\n",
    "        polygons.append(np.array(points, dtype=np.int32))\n",
    "    return polygons\n",
    "\n",
    "def visualize(stacked_image, polygons):\n",
    "    #Visualize with polygons\n",
    "    image = np.array(stacked_image)\n",
    "    for polygon in polygons:\n",
    "        if polygon.shape[0]:\n",
    "            color=generate_random_color()\n",
    "            cv2.polylines(image, [polygon.astype(int)], isClosed=True, color = color, thickness=1)\n",
    "    plt.imshow(image)\n",
    "    plt.axis('off')\n",
    "    plt.show()"
   ]
  },
  {
   "cell_type": "code",
   "execution_count": 11,
   "metadata": {},
   "outputs": [
    {
     "name": "stderr",
     "output_type": "stream",
     "text": [
      "100%|██████████| 98/98 [00:06<00:00, 15.65it/s]\n"
     ]
    }
   ],
   "source": [
    "##Main execution\n",
    "\n",
    "#set paths\n",
    "PATH = 'C:/Users/Reinhard/Documents/computer_vision_projects/root_volume_estimation_challenge'\n",
    "train = pd.read_csv('Train.csv')\n",
    "output_dir = './seg/images'\n",
    "labels_dir = './seg/labels'\n",
    "os.makedirs(output_dir, exist_ok=True)\n",
    "os.makedirs(labels_dir, exist_ok=True)\n",
    "\n",
    "#Organizing the data for training\n",
    "\n",
    "for f in tqdm(train.FolderName.unique()):\n",
    "    for side in ['L', 'R']:\n",
    "        labels, imgs = get_images_labels(PATH, f'{f}_{side}_')\n",
    "        if imgs and labels:\n",
    "            stacked_image, mask_str = prepare_stacked_data(imgs, labels)\n",
    "            output_path = f'{output_dir}/{f}_{side}.png'\n",
    "            stacked_image.save(output_path)\n",
    "            with open(output_path.replace('images', 'labels').replace('.png', '.txt'), 'w') as fx:\n",
    "                fx.write(mask_str)\n"
   ]
  },
  {
   "cell_type": "code",
   "execution_count": 12,
   "metadata": {},
   "outputs": [
    {
     "name": "stdout",
     "output_type": "stream",
     "text": [
      "96\n"
     ]
    }
   ],
   "source": [
    "print(len('C:/Users/Reinhard/Documents/computer_vision_projects/root_volume_estimation_challenge/data/train'))"
   ]
  },
  {
   "cell_type": "code",
   "execution_count": 13,
   "metadata": {},
   "outputs": [
    {
     "name": "stdout",
     "output_type": "stream",
     "text": [
      "12\n"
     ]
    }
   ],
   "source": [
    "print(len(labels_dir))"
   ]
  },
  {
   "cell_type": "code",
   "execution_count": 14,
   "metadata": {},
   "outputs": [
    {
     "name": "stdout",
     "output_type": "stream",
     "text": [
      "Label file not found: ./seg/labels\\A2miww5mfx.txt\n"
     ]
    }
   ],
   "source": [
    "image_path = os.path.join(output_dir, 'A2miww5mfx_L.png')\n",
    "label_path = os.path.join(labels_dir, 'A2miww5mfx.txt')\n",
    "\n",
    "image = Image.open(image_path)\n",
    "w, h = image.size\n",
    "\n",
    "if os.path.exists(label_path):\n",
    "    with open(label_path) as f:\n",
    "        mask_str = f.read()\n",
    "    polygons = get_polygons_from_mask_str(mask_str, w, h)\n",
    "    visualize(image, polygons)\n",
    "else:\n",
    "    print(f\"Label file not found: {label_path}\")"
   ]
  },
  {
   "cell_type": "code",
   "execution_count": null,
   "metadata": {},
   "outputs": [],
   "source": [
    "# Create YAML configuration for YOLO\n",
    "yaml_content = \"\"\"\n",
    "path: /raid/ml/root/seg\n",
    "train: images\n",
    "val: images\n",
    "names: \n",
    "    0:root\n",
    "\"\"\"\n",
    "\n",
    "with open (f'./seg/config.yaml', 'w') as f:\n",
    "    f.write(yaml_content.strip())\n",
    "\n",
    "#Train the model on combned images\n",
    "model = YOLO('yolo11l-seg.pt')\n",
    "model.train(data=f'*./seg/config.yaml', epochs=100, imgsz=640)\n"
   ]
  },
  {
   "cell_type": "code",
   "execution_count": null,
   "metadata": {},
   "outputs": [],
   "source": [
    "#Inference and visualization example\n",
    "#select example images\n",
    "\n",
    "folders = train.FoldrName.unique()\n",
    "example_folder = folders[0]\n",
    "example_side = 'L'\n",
    "labels, imgs = get_images_labels(PATH, F'{example_folder}_{example_side}_')\n",
    "stacked_image, _ = prepare_stacked_data(imgs[20:60], labels[20:60])\n",
    "stacked_image"
   ]
  },
  {
   "cell_type": "code",
   "execution_count": null,
   "metadata": {},
   "outputs": [],
   "source": [
    "model = YOLO('./runs/segment/train7/weights/best.pt')\n",
    "\n",
    "#perfrom inference\n",
    "results = model(stacked_image)\n",
    "polygons = results[0].masks.xy\n",
    "visualize(stacked_image, polygons)"
   ]
  },
  {
   "cell_type": "code",
   "execution_count": null,
   "metadata": {},
   "outputs": [],
   "source": []
  },
  {
   "cell_type": "code",
   "execution_count": null,
   "metadata": {},
   "outputs": [],
   "source": []
  },
  {
   "cell_type": "code",
   "execution_count": null,
   "metadata": {},
   "outputs": [],
   "source": []
  },
  {
   "cell_type": "code",
   "execution_count": null,
   "metadata": {},
   "outputs": [],
   "source": []
  },
  {
   "cell_type": "code",
   "execution_count": null,
   "metadata": {},
   "outputs": [],
   "source": []
  },
  {
   "cell_type": "code",
   "execution_count": null,
   "metadata": {},
   "outputs": [],
   "source": []
  },
  {
   "cell_type": "code",
   "execution_count": null,
   "metadata": {},
   "outputs": [],
   "source": []
  }
 ],
 "metadata": {
  "kernelspec": {
   "display_name": "deeplearning",
   "language": "python",
   "name": "python3"
  },
  "language_info": {
   "codemirror_mode": {
    "name": "ipython",
    "version": 3
   },
   "file_extension": ".py",
   "mimetype": "text/x-python",
   "name": "python",
   "nbconvert_exporter": "python",
   "pygments_lexer": "ipython3",
   "version": "3.12.8"
  }
 },
 "nbformat": 4,
 "nbformat_minor": 2
}
