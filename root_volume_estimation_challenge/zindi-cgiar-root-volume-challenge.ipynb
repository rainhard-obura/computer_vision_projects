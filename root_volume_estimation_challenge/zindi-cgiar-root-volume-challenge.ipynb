{
 "cells": [
  {
   "cell_type": "markdown",
   "metadata": {},
   "source": [
    "# Zindi CGIAR Root Volume Challenge\n",
    "\n",
    "As depicted in the picture below, a single cassava plant can have more than one root. The term root volume therefore refers to the total volume of the identified roots of a given plant. In this image, there are at least six roots (labeled from 1 to 6) on the plant.\n",
    "\n",
    "![](https://zindi-public-release.s3.eu-west-2.amazonaws.com/uploads/image_attachment/image/2559/358c9a4b-527c-4fff-8ff1-725e89510cfd.jpg)\n",
    "\n",
    "Each folder contains images for the roots of cassava plants generated for the left and right scans at different depths or layers. A Ground Penetrating Radar is used to non-invasively scan the roots of the cassava plants from each side. The raw data collected by the radar is then processed into images. Seven plants are scanned from both sides (left & right) at any given time. This implies that the maximum number of plants in any given image is 7. However this does not mean that all the 7 plants will always be visible in the image of the corresponding scan. The naming convention for images follows this format: XXXXXXXX_S_NNN.png. The characters in the pattern XXXXXXXX consist of random characters. This information is not relevant to you for this project. The S is the side of the scan. It can be L (left) or R (right) depending on the side from which the scan is performed. The three last characters in the image name are digits. These digits correspond to the depth or layer of the scan. Examples of images found in a folder are XXXXXX_L_001.png, XXXXXXXX_R_001.png, XXXXXXX_L_102.png, and XXXXXXXX_R_102.png. In this instance, there are 204 images in the folder; 102 images for each side with layers ranging from 1 up to 102. No assumption should be made about each folder having the same number of images since a different range of layers may be used.\n",
    "\n",
    "**More about the Competition [here](https://zindi.africa/competitions/cgiar-root-volume-estimation-challenge)**\n",
    "\n",
    "### PS If you find this notebook helpful, please consider giving it an upvote. Otherwise let's dive into the more interesting part"
   ]
  },
  {
   "cell_type": "markdown",
   "metadata": {},
   "source": [
    "# 🌱 Understanding the Competition 🚀  \n",
    "\n",
    "This competition presents a **unique challenge**, and I truly appreciate the effort the organizers have put into designing it! 🎯 Before jumping into coding, let’s take a step back and **understand the task**.  \n",
    "\n",
    "## 🔍 What is Ground Penetrating Radar (GPR)?  \n",
    "\n",
    "The dataset in this competition was collected using **Ground Penetrating Radar (GPR)**. Never heard of GPR before? 🤔 Don't worry, I was also confused at first! So, I checked out a few YouTube videos, and this one does a great job explaining how it works:  \n",
    "\n",
    "[![🎥 Video Thumbnail](https://img.youtube.com/vi/VIDEO_ID/0.jpg)](https://www.youtube.com/watch?v=MfpUA05s0GU)  \n",
    "\n",
    "After watching the video, the **images in the dataset start to make a lot more sense**! 🎉  \n",
    "\n",
    "---\n",
    "\n",
    "## 🏆 Understanding the Task  \n",
    "\n",
    "Each folder in the dataset contains **GPR-scanned images** of cassava plant roots, captured from the **left and right** sides at different depths. 🌿 The scans are processed from raw radar data, allowing us to **analyze root structures without digging up the plants**. 🛠️  \n",
    "\n",
    "At most, an image may contain **up to 7 plants**, though not all may be visible in every scan. 👀  \n",
    "\n",
    "### 🎯 Our mission:  \n",
    "\n",
    "1️⃣ **Segment the root data** – Identify and extract root structures from the GPR images.  \n",
    "2️⃣ **Estimate the root volume** – Use the segmented roots to predict the **total root volume** of each cassava plant.  \n",
    "\n",
    "Since this is a **starter notebook**, we will begin by using the **pre-trained segmentation models** provided by the organizers. These models are:  \n",
    "\n",
    "✅ `best_early.pt` – Trained on **early-stage** cassava root data.  \n",
    "✅ `best_late.pt` – Trained on **late-stage** cassava root data.  \n",
    "✅ `best_full.pt` – Trained on data from **both growth stages**.  \n",
    "\n",
    "You can **use these models**, **fine-tune them**, or **develop your own** from scratch! 💡 The choice is yours!  \n",
    "\n",
    "---\n",
    "\n",
    "## 📂 Dataset Insights  \n",
    "\n",
    "🔹 The images follow the naming pattern: **`XXXXXXXX_S_NNN.png`**, where:  \n",
    "   - `XXXXXXXX` ➝ Random identifier (not relevant to the task).  \n",
    "   - `S` ➝ Scan **side** (`L` = Left, `R` = Right).  \n",
    "   - `NNN` ➝ **Depth** layer (e.g., `001`, `052`, `102`).  \n",
    "\n",
    "🔹 **Left and right images** do not always have the same dimensions. 📏  \n",
    "🔹 **Root visibility varies** at different depths, so choosing the right images is **critical**!  \n",
    "🔹 A **CSV file** provides suggested image ranges, but you're free to experiment.\n",
    "\n",
    "---\n",
    "\n",
    "## 🚀 Next Steps  \n",
    "\n",
    "Now that we understand the task, let’s **load the data** and run the provided models to get our **first results**! 🎉  \n",
    "\n",
    "🔹 **Step 1:** Load the dataset   \n",
    "🔹 **Step 2:** Run the segmentation models <br>\n",
    "🔹 **Step 3:** Generate a new dataset <br>\n",
    "🔹 **Step 4:** Train a new Model on this generated dataset <br>\n",
    "🔹 **Step 5:** Run Inference, submit\n",
    "\n",
    "Let’s dive in! 🔥🚀  \n"
   ]
  },
  {
   "cell_type": "markdown",
   "metadata": {},
   "source": [
    "# Import the Libraries"
   ]
  },
  {
   "cell_type": "code",
   "execution_count": 1,
   "metadata": {
    "_cell_guid": "b1076dfc-b9ad-4769-8c92-a6c4dae69d19",
    "_uuid": "8f2839f25d086af736a60e9eeb907d3b93b6e0e5",
    "execution": {
     "iopub.execute_input": "2025-02-01T20:32:40.972151Z",
     "iopub.status.busy": "2025-02-01T20:32:40.971865Z",
     "iopub.status.idle": "2025-02-01T20:32:47.858155Z",
     "shell.execute_reply": "2025-02-01T20:32:47.85716Z",
     "shell.execute_reply.started": "2025-02-01T20:32:40.972129Z"
    },
    "trusted": true
   },
   "outputs": [],
   "source": [
    "# This Python 3 environment comes with many helpful analytics libraries installed\n",
    "# It is defined by the kaggle/python Docker image: https://github.com/kaggle/docker-python\n",
    "# For example, here's several helpful packages to load\n",
    "\n",
    "import numpy as np # linear algebra\n",
    "import pandas as pd # data processing, CSV file I/O (e.g. pd.read_csv)\n",
    "from PIL import Image\n",
    "from pathlib import Path\n",
    "from ultralytics import YOLO\n",
    "import matplotlib.pyplot as plt\n",
    "import cv2\n",
    "import os\n",
    "from typing import List\n",
    "import re\n",
    "from tqdm import tqdm\n",
    "import lightning as L\n",
    "from torch.utils.data import DataLoader, Dataset\n",
    "import torch\n",
    "from torchvision.transforms import v2\n",
    "from torch import nn"
   ]
  },
  {
   "cell_type": "markdown",
   "metadata": {},
   "source": [
    "# Load the data"
   ]
  },
  {
   "cell_type": "code",
   "execution_count": 2,
   "metadata": {
    "execution": {
     "iopub.execute_input": "2025-02-01T18:59:22.627607Z",
     "iopub.status.busy": "2025-02-01T18:59:22.627264Z",
     "iopub.status.idle": "2025-02-01T18:59:22.63136Z",
     "shell.execute_reply": "2025-02-01T18:59:22.630494Z",
     "shell.execute_reply.started": "2025-02-01T18:59:22.627587Z"
    },
    "trusted": true
   },
   "outputs": [],
   "source": [
    "TRAIN_DATA_PATH = 'data/train'\n",
    "TEST_DATA_PATH = 'data/test'"
   ]
  },
  {
   "cell_type": "code",
   "execution_count": 3,
   "metadata": {
    "execution": {
     "iopub.execute_input": "2025-02-01T18:59:22.633146Z",
     "iopub.status.busy": "2025-02-01T18:59:22.632849Z",
     "iopub.status.idle": "2025-02-01T18:59:22.677498Z",
     "shell.execute_reply": "2025-02-01T18:59:22.676742Z",
     "shell.execute_reply.started": "2025-02-01T18:59:22.633115Z"
    },
    "trusted": true
   },
   "outputs": [],
   "source": [
    "train_df = pd.read_csv('Train.csv')\n",
    "test_df = pd.read_csv(\"Test.csv\")\n",
    "submission_df = pd.read_csv(\"Sample_Submission.csv\")"
   ]
  },
  {
   "cell_type": "code",
   "execution_count": 4,
   "metadata": {
    "execution": {
     "iopub.execute_input": "2025-02-01T18:59:24.908594Z",
     "iopub.status.busy": "2025-02-01T18:59:24.908131Z",
     "iopub.status.idle": "2025-02-01T18:59:24.931785Z",
     "shell.execute_reply": "2025-02-01T18:59:24.930964Z",
     "shell.execute_reply.started": "2025-02-01T18:59:24.908497Z"
    },
    "trusted": true
   },
   "outputs": [
    {
     "data": {
      "text/plain": [
       "Stage\n",
       "Early    370\n",
       "Late      16\n",
       "Name: count, dtype: int64"
      ]
     },
     "execution_count": 4,
     "metadata": {},
     "output_type": "execute_result"
    }
   ],
   "source": [
    "df = train_df[['Stage']].value_counts()\n",
    "df"
   ]
  },
  {
   "cell_type": "code",
   "execution_count": 5,
   "metadata": {},
   "outputs": [
    {
     "data": {
      "text/html": [
       "<div>\n",
       "<style scoped>\n",
       "    .dataframe tbody tr th:only-of-type {\n",
       "        vertical-align: middle;\n",
       "    }\n",
       "\n",
       "    .dataframe tbody tr th {\n",
       "        vertical-align: top;\n",
       "    }\n",
       "\n",
       "    .dataframe thead th {\n",
       "        text-align: right;\n",
       "    }\n",
       "</style>\n",
       "<table border=\"1\" class=\"dataframe\">\n",
       "  <thead>\n",
       "    <tr style=\"text-align: right;\">\n",
       "      <th></th>\n",
       "      <th>ID</th>\n",
       "      <th>FolderName</th>\n",
       "      <th>PlantNumber</th>\n",
       "      <th>Side</th>\n",
       "      <th>Start</th>\n",
       "      <th>End</th>\n",
       "      <th>RootVolume</th>\n",
       "      <th>Genotype</th>\n",
       "      <th>Stage</th>\n",
       "    </tr>\n",
       "  </thead>\n",
       "  <tbody>\n",
       "    <tr>\n",
       "      <th>0</th>\n",
       "      <td>ID_826322_Lbmaya</td>\n",
       "      <td>A6dzrkjqvl</td>\n",
       "      <td>3</td>\n",
       "      <td>L</td>\n",
       "      <td>33</td>\n",
       "      <td>42</td>\n",
       "      <td>0.9</td>\n",
       "      <td>IITA-TMS-IBA000070</td>\n",
       "      <td>Early</td>\n",
       "    </tr>\n",
       "    <tr>\n",
       "      <th>1</th>\n",
       "      <td>ID_718181_Bslpwx</td>\n",
       "      <td>Ypktwvqjbn</td>\n",
       "      <td>7</td>\n",
       "      <td>L</td>\n",
       "      <td>33</td>\n",
       "      <td>41</td>\n",
       "      <td>1.5</td>\n",
       "      <td>IBA154810</td>\n",
       "      <td>Early</td>\n",
       "    </tr>\n",
       "    <tr>\n",
       "      <th>2</th>\n",
       "      <td>ID_465762_L1n61d</td>\n",
       "      <td>Ox18ob0syv</td>\n",
       "      <td>4</td>\n",
       "      <td>R</td>\n",
       "      <td>21</td>\n",
       "      <td>28</td>\n",
       "      <td>2.7</td>\n",
       "      <td>IBA980581</td>\n",
       "      <td>Early</td>\n",
       "    </tr>\n",
       "    <tr>\n",
       "      <th>3</th>\n",
       "      <td>ID_626872_Pbmx2e</td>\n",
       "      <td>Hqcekwpxgu</td>\n",
       "      <td>2</td>\n",
       "      <td>R</td>\n",
       "      <td>30</td>\n",
       "      <td>39</td>\n",
       "      <td>2.6</td>\n",
       "      <td>IITA-TMS-IBA000070</td>\n",
       "      <td>Early</td>\n",
       "    </tr>\n",
       "    <tr>\n",
       "      <th>4</th>\n",
       "      <td>ID_518846_Opko8c</td>\n",
       "      <td>Ummqfuetoc</td>\n",
       "      <td>1</td>\n",
       "      <td>R</td>\n",
       "      <td>17</td>\n",
       "      <td>26</td>\n",
       "      <td>2.7</td>\n",
       "      <td>IBA980581</td>\n",
       "      <td>Early</td>\n",
       "    </tr>\n",
       "  </tbody>\n",
       "</table>\n",
       "</div>"
      ],
      "text/plain": [
       "                 ID  FolderName  PlantNumber Side  Start  End  RootVolume  \\\n",
       "0  ID_826322_Lbmaya  A6dzrkjqvl            3    L     33   42         0.9   \n",
       "1  ID_718181_Bslpwx  Ypktwvqjbn            7    L     33   41         1.5   \n",
       "2  ID_465762_L1n61d  Ox18ob0syv            4    R     21   28         2.7   \n",
       "3  ID_626872_Pbmx2e  Hqcekwpxgu            2    R     30   39         2.6   \n",
       "4  ID_518846_Opko8c  Ummqfuetoc            1    R     17   26         2.7   \n",
       "\n",
       "             Genotype  Stage  \n",
       "0  IITA-TMS-IBA000070  Early  \n",
       "1           IBA154810  Early  \n",
       "2           IBA980581  Early  \n",
       "3  IITA-TMS-IBA000070  Early  \n",
       "4           IBA980581  Early  "
      ]
     },
     "execution_count": 5,
     "metadata": {},
     "output_type": "execute_result"
    }
   ],
   "source": [
    "train_df.head()"
   ]
  },
  {
   "cell_type": "code",
   "execution_count": 6,
   "metadata": {
    "execution": {
     "execution_failed": "2025-02-01T18:58:37.529Z"
    },
    "trusted": true
   },
   "outputs": [
    {
     "data": {
      "text/html": [
       "<div>\n",
       "<style scoped>\n",
       "    .dataframe tbody tr th:only-of-type {\n",
       "        vertical-align: middle;\n",
       "    }\n",
       "\n",
       "    .dataframe tbody tr th {\n",
       "        vertical-align: top;\n",
       "    }\n",
       "\n",
       "    .dataframe thead th {\n",
       "        text-align: right;\n",
       "    }\n",
       "</style>\n",
       "<table border=\"1\" class=\"dataframe\">\n",
       "  <thead>\n",
       "    <tr style=\"text-align: right;\">\n",
       "      <th></th>\n",
       "      <th>ID</th>\n",
       "      <th>FolderName</th>\n",
       "      <th>PlantNumber</th>\n",
       "      <th>Side</th>\n",
       "      <th>Start</th>\n",
       "      <th>End</th>\n",
       "      <th>Genotype</th>\n",
       "      <th>Stage</th>\n",
       "    </tr>\n",
       "  </thead>\n",
       "  <tbody>\n",
       "    <tr>\n",
       "      <th>0</th>\n",
       "      <td>ID_208667_Hnkl8q</td>\n",
       "      <td>L5l1h3kekg</td>\n",
       "      <td>7</td>\n",
       "      <td>L</td>\n",
       "      <td>38</td>\n",
       "      <td>50</td>\n",
       "      <td>IITA-TMS-IBA000070</td>\n",
       "      <td>Early</td>\n",
       "    </tr>\n",
       "    <tr>\n",
       "      <th>1</th>\n",
       "      <td>ID_285249_Jnjvav</td>\n",
       "      <td>Wgutyon8uu</td>\n",
       "      <td>6</td>\n",
       "      <td>R</td>\n",
       "      <td>23</td>\n",
       "      <td>37</td>\n",
       "      <td>TMEB419</td>\n",
       "      <td>Early</td>\n",
       "    </tr>\n",
       "    <tr>\n",
       "      <th>2</th>\n",
       "      <td>ID_697947_Yec6bd</td>\n",
       "      <td>Mylwjeq6tq</td>\n",
       "      <td>3</td>\n",
       "      <td>R</td>\n",
       "      <td>19</td>\n",
       "      <td>42</td>\n",
       "      <td>IBA980581</td>\n",
       "      <td>Early</td>\n",
       "    </tr>\n",
       "    <tr>\n",
       "      <th>3</th>\n",
       "      <td>ID_534638_X3j91f</td>\n",
       "      <td>Pfp24vx905</td>\n",
       "      <td>2</td>\n",
       "      <td>R</td>\n",
       "      <td>27</td>\n",
       "      <td>34</td>\n",
       "      <td>TMEB419</td>\n",
       "      <td>Early</td>\n",
       "    </tr>\n",
       "    <tr>\n",
       "      <th>4</th>\n",
       "      <td>ID_929298_Xvymuz</td>\n",
       "      <td>Mrw7chmalv</td>\n",
       "      <td>4</td>\n",
       "      <td>R</td>\n",
       "      <td>30</td>\n",
       "      <td>43</td>\n",
       "      <td>IBA154810</td>\n",
       "      <td>Early</td>\n",
       "    </tr>\n",
       "  </tbody>\n",
       "</table>\n",
       "</div>"
      ],
      "text/plain": [
       "                 ID  FolderName  PlantNumber Side  Start  End  \\\n",
       "0  ID_208667_Hnkl8q  L5l1h3kekg            7    L     38   50   \n",
       "1  ID_285249_Jnjvav  Wgutyon8uu            6    R     23   37   \n",
       "2  ID_697947_Yec6bd  Mylwjeq6tq            3    R     19   42   \n",
       "3  ID_534638_X3j91f  Pfp24vx905            2    R     27   34   \n",
       "4  ID_929298_Xvymuz  Mrw7chmalv            4    R     30   43   \n",
       "\n",
       "             Genotype  Stage  \n",
       "0  IITA-TMS-IBA000070  Early  \n",
       "1             TMEB419  Early  \n",
       "2           IBA980581  Early  \n",
       "3             TMEB419  Early  \n",
       "4           IBA154810  Early  "
      ]
     },
     "execution_count": 6,
     "metadata": {},
     "output_type": "execute_result"
    }
   ],
   "source": [
    "test_df.head()"
   ]
  },
  {
   "cell_type": "code",
   "execution_count": 8,
   "metadata": {
    "execution": {
     "execution_failed": "2025-02-01T18:58:37.529Z"
    },
    "trusted": true
   },
   "outputs": [
    {
     "data": {
      "text/plain": [
       "((130, 8), (386, 9), (130, 2))"
      ]
     },
     "execution_count": 8,
     "metadata": {},
     "output_type": "execute_result"
    }
   ],
   "source": [
    "test_df.shape, train_df.shape, submission_df.shape"
   ]
  },
  {
   "cell_type": "code",
   "execution_count": 9,
   "metadata": {
    "execution": {
     "execution_failed": "2025-02-01T18:58:37.529Z"
    },
    "trusted": true
   },
   "outputs": [
    {
     "data": {
      "text/html": [
       "<div>\n",
       "<style scoped>\n",
       "    .dataframe tbody tr th:only-of-type {\n",
       "        vertical-align: middle;\n",
       "    }\n",
       "\n",
       "    .dataframe tbody tr th {\n",
       "        vertical-align: top;\n",
       "    }\n",
       "\n",
       "    .dataframe thead th {\n",
       "        text-align: right;\n",
       "    }\n",
       "</style>\n",
       "<table border=\"1\" class=\"dataframe\">\n",
       "  <thead>\n",
       "    <tr style=\"text-align: right;\">\n",
       "      <th></th>\n",
       "      <th>ID</th>\n",
       "      <th>RootVolume</th>\n",
       "    </tr>\n",
       "  </thead>\n",
       "  <tbody>\n",
       "    <tr>\n",
       "      <th>0</th>\n",
       "      <td>ID_208667_Hnkl8q</td>\n",
       "      <td>0</td>\n",
       "    </tr>\n",
       "    <tr>\n",
       "      <th>1</th>\n",
       "      <td>ID_285249_Jnjvav</td>\n",
       "      <td>0</td>\n",
       "    </tr>\n",
       "    <tr>\n",
       "      <th>2</th>\n",
       "      <td>ID_697947_Yec6bd</td>\n",
       "      <td>0</td>\n",
       "    </tr>\n",
       "    <tr>\n",
       "      <th>3</th>\n",
       "      <td>ID_534638_X3j91f</td>\n",
       "      <td>0</td>\n",
       "    </tr>\n",
       "    <tr>\n",
       "      <th>4</th>\n",
       "      <td>ID_929298_Xvymuz</td>\n",
       "      <td>0</td>\n",
       "    </tr>\n",
       "  </tbody>\n",
       "</table>\n",
       "</div>"
      ],
      "text/plain": [
       "                 ID  RootVolume\n",
       "0  ID_208667_Hnkl8q           0\n",
       "1  ID_285249_Jnjvav           0\n",
       "2  ID_697947_Yec6bd           0\n",
       "3  ID_534638_X3j91f           0\n",
       "4  ID_929298_Xvymuz           0"
      ]
     },
     "execution_count": 9,
     "metadata": {},
     "output_type": "execute_result"
    }
   ],
   "source": [
    "submission_df.head()"
   ]
  },
  {
   "cell_type": "code",
   "execution_count": 10,
   "metadata": {
    "execution": {
     "iopub.execute_input": "2025-02-01T18:59:29.948221Z",
     "iopub.status.busy": "2025-02-01T18:59:29.94782Z",
     "iopub.status.idle": "2025-02-01T18:59:29.954831Z",
     "shell.execute_reply": "2025-02-01T18:59:29.954005Z",
     "shell.execute_reply.started": "2025-02-01T18:59:29.948187Z"
    },
    "trusted": true
   },
   "outputs": [
    {
     "data": {
      "text/plain": [
       "Stage\n",
       "Early    125\n",
       "Late       5\n",
       "Name: count, dtype: int64"
      ]
     },
     "execution_count": 10,
     "metadata": {},
     "output_type": "execute_result"
    }
   ],
   "source": [
    "test_df['Stage'].value_counts()"
   ]
  },
  {
   "cell_type": "code",
   "execution_count": 11,
   "metadata": {},
   "outputs": [
    {
     "data": {
      "text/plain": [
       "Genotype\n",
       "TMEB693               34\n",
       "TMEB419               29\n",
       "IITA-TMS-IBA000070    22\n",
       "IBA980581             21\n",
       "IBA154810             19\n",
       "IKN130010              3\n",
       "DIXON                  2\n",
       "Name: count, dtype: int64"
      ]
     },
     "execution_count": 11,
     "metadata": {},
     "output_type": "execute_result"
    }
   ],
   "source": [
    "test_df['Genotype'].value_counts()"
   ]
  },
  {
   "cell_type": "code",
   "execution_count": 12,
   "metadata": {
    "execution": {
     "iopub.execute_input": "2025-02-01T18:59:32.260042Z",
     "iopub.status.busy": "2025-02-01T18:59:32.259666Z",
     "iopub.status.idle": "2025-02-01T18:59:32.266558Z",
     "shell.execute_reply": "2025-02-01T18:59:32.265948Z",
     "shell.execute_reply.started": "2025-02-01T18:59:32.260015Z"
    },
    "trusted": true
   },
   "outputs": [
    {
     "data": {
      "text/plain": [
       "(98, 62)"
      ]
     },
     "execution_count": 12,
     "metadata": {},
     "output_type": "execute_result"
    }
   ],
   "source": [
    "train_df['FolderName'].unique().size, test_df['FolderName'].unique().size"
   ]
  },
  {
   "cell_type": "code",
   "execution_count": 16,
   "metadata": {
    "execution": {
     "iopub.execute_input": "2025-02-01T18:59:33.875751Z",
     "iopub.status.busy": "2025-02-01T18:59:33.87543Z",
     "iopub.status.idle": "2025-02-01T18:59:33.89296Z",
     "shell.execute_reply": "2025-02-01T18:59:33.891959Z",
     "shell.execute_reply.started": "2025-02-01T18:59:33.875725Z"
    },
    "trusted": true
   },
   "outputs": [
    {
     "data": {
      "text/html": [
       "<div>\n",
       "<style scoped>\n",
       "    .dataframe tbody tr th:only-of-type {\n",
       "        vertical-align: middle;\n",
       "    }\n",
       "\n",
       "    .dataframe tbody tr th {\n",
       "        vertical-align: top;\n",
       "    }\n",
       "\n",
       "    .dataframe thead th {\n",
       "        text-align: right;\n",
       "    }\n",
       "</style>\n",
       "<table border=\"1\" class=\"dataframe\">\n",
       "  <thead>\n",
       "    <tr style=\"text-align: right;\">\n",
       "      <th></th>\n",
       "      <th>ID</th>\n",
       "      <th>FolderName</th>\n",
       "      <th>PlantNumber</th>\n",
       "      <th>Side</th>\n",
       "      <th>Start</th>\n",
       "      <th>End</th>\n",
       "      <th>RootVolume</th>\n",
       "      <th>Genotype</th>\n",
       "      <th>Stage</th>\n",
       "    </tr>\n",
       "  </thead>\n",
       "  <tbody>\n",
       "    <tr>\n",
       "      <th>1</th>\n",
       "      <td>ID_718181_Bslpwx</td>\n",
       "      <td>Ypktwvqjbn</td>\n",
       "      <td>7</td>\n",
       "      <td>L</td>\n",
       "      <td>33</td>\n",
       "      <td>41</td>\n",
       "      <td>1.5</td>\n",
       "      <td>IBA154810</td>\n",
       "      <td>Early</td>\n",
       "    </tr>\n",
       "    <tr>\n",
       "      <th>177</th>\n",
       "      <td>ID_737941_Ojh6bl</td>\n",
       "      <td>Ypktwvqjbn</td>\n",
       "      <td>4</td>\n",
       "      <td>L</td>\n",
       "      <td>33</td>\n",
       "      <td>41</td>\n",
       "      <td>0.9</td>\n",
       "      <td>IBA154810</td>\n",
       "      <td>Early</td>\n",
       "    </tr>\n",
       "    <tr>\n",
       "      <th>240</th>\n",
       "      <td>ID_717965_Ps4xjq</td>\n",
       "      <td>Ypktwvqjbn</td>\n",
       "      <td>3</td>\n",
       "      <td>L</td>\n",
       "      <td>33</td>\n",
       "      <td>41</td>\n",
       "      <td>1.5</td>\n",
       "      <td>IBA154810</td>\n",
       "      <td>Early</td>\n",
       "    </tr>\n",
       "    <tr>\n",
       "      <th>343</th>\n",
       "      <td>ID_444311_Tvefbg</td>\n",
       "      <td>Ypktwvqjbn</td>\n",
       "      <td>5</td>\n",
       "      <td>L</td>\n",
       "      <td>33</td>\n",
       "      <td>41</td>\n",
       "      <td>1.7</td>\n",
       "      <td>IBA154810</td>\n",
       "      <td>Early</td>\n",
       "    </tr>\n",
       "  </tbody>\n",
       "</table>\n",
       "</div>"
      ],
      "text/plain": [
       "                   ID  FolderName  PlantNumber Side  Start  End  RootVolume  \\\n",
       "1    ID_718181_Bslpwx  Ypktwvqjbn            7    L     33   41         1.5   \n",
       "177  ID_737941_Ojh6bl  Ypktwvqjbn            4    L     33   41         0.9   \n",
       "240  ID_717965_Ps4xjq  Ypktwvqjbn            3    L     33   41         1.5   \n",
       "343  ID_444311_Tvefbg  Ypktwvqjbn            5    L     33   41         1.7   \n",
       "\n",
       "      Genotype  Stage  \n",
       "1    IBA154810  Early  \n",
       "177  IBA154810  Early  \n",
       "240  IBA154810  Early  \n",
       "343  IBA154810  Early  "
      ]
     },
     "execution_count": 16,
     "metadata": {},
     "output_type": "execute_result"
    }
   ],
   "source": [
    "folder = \"Ypktwvqjbn\"\n",
    "df = train_df[train_df['FolderName'] == folder]\n",
    "\n",
    "df[['FolderName', 'PlantNumber', 'Side', 'Start', 'End', 'RootVolume']]\n",
    "df"
   ]
  },
  {
   "cell_type": "code",
   "execution_count": 17,
   "metadata": {
    "execution": {
     "iopub.execute_input": "2025-02-01T18:59:36.140734Z",
     "iopub.status.busy": "2025-02-01T18:59:36.140283Z",
     "iopub.status.idle": "2025-02-01T18:59:36.155834Z",
     "shell.execute_reply": "2025-02-01T18:59:36.154862Z",
     "shell.execute_reply.started": "2025-02-01T18:59:36.140693Z"
    },
    "trusted": true
   },
   "outputs": [
    {
     "data": {
      "text/plain": [
       "164"
      ]
     },
     "execution_count": 17,
     "metadata": {},
     "output_type": "execute_result"
    }
   ],
   "source": [
    "len(os.listdir(\"data/test/A6dzrkjqvl\"))"
   ]
  },
  {
   "cell_type": "markdown",
   "metadata": {},
   "source": [
    "# Load the segmentation models"
   ]
  },
  {
   "cell_type": "code",
   "execution_count": 18,
   "metadata": {
    "execution": {
     "iopub.execute_input": "2025-02-01T18:59:37.964693Z",
     "iopub.status.busy": "2025-02-01T18:59:37.964251Z",
     "iopub.status.idle": "2025-02-01T18:59:41.847323Z",
     "shell.execute_reply": "2025-02-01T18:59:41.846573Z",
     "shell.execute_reply.started": "2025-02-01T18:59:37.964644Z"
    },
    "trusted": true
   },
   "outputs": [],
   "source": [
    "# Since the organizers didn't provide performance metrics, we will be using all the models (For Now)\n",
    "segmentation_models = {\n",
    "    \"full\" : YOLO(\"Models/Models/best_full.pt\"),\n",
    "    \"early\" : YOLO(\"Models/Models/best_early.pt\"),\n",
    "    \"late\" : YOLO(\"Models/Models/best_late.pt\")\n",
    "}"
   ]
  },
  {
   "cell_type": "code",
   "execution_count": 31,
   "metadata": {
    "execution": {
     "iopub.execute_input": "2025-02-01T18:59:41.848866Z",
     "iopub.status.busy": "2025-02-01T18:59:41.848541Z",
     "iopub.status.idle": "2025-02-01T18:59:45.95697Z",
     "shell.execute_reply": "2025-02-01T18:59:45.956104Z",
     "shell.execute_reply.started": "2025-02-01T18:59:41.848832Z"
    },
    "trusted": true
   },
   "outputs": [
    {
     "name": "stdout",
     "output_type": "stream",
     "text": [
      "\n",
      "image 1/1 c:\\Users\\Reinhard\\Documents\\computer_vision_projects\\root_volume_estimation_challenge\\data\\train\\A2miww5mfx\\A2miww5mfx_L_014.png: 32x640 4 roots, 463.7ms\n",
      "Speed: 0.7ms preprocess, 463.7ms inference, 2.5ms postprocess per image at shape (1, 3, 32, 640)\n"
     ]
    }
   ],
   "source": [
    "sample = \"data/train/A2miww5mfx/A2miww5mfx_L_014.png\"\n",
    "\n",
    "seg_model = segmentation_models['full']\n",
    "results = seg_model(sample)"
   ]
  },
  {
   "cell_type": "code",
   "execution_count": 27,
   "metadata": {
    "execution": {
     "iopub.execute_input": "2025-02-01T18:59:45.958549Z",
     "iopub.status.busy": "2025-02-01T18:59:45.958301Z",
     "iopub.status.idle": "2025-02-01T18:59:45.999889Z",
     "shell.execute_reply": "2025-02-01T18:59:45.999132Z",
     "shell.execute_reply.started": "2025-02-01T18:59:45.958518Z"
    },
    "trusted": true
   },
   "outputs": [
    {
     "data": {
      "image/png": "[encoded data removed]",
      "text/plain": [
       "<PIL.PngImagePlugin.PngImageFile image mode=RGBA size=934x14>"
      ]
     },
     "execution_count": 27,
     "metadata": {},
     "output_type": "execute_result"
    }
   ],
   "source": [
    "sample_image = Image.open(sample)\n",
    "sample_image"
   ]
  },
  {
   "cell_type": "code",
   "execution_count": 21,
   "metadata": {
    "execution": {
     "execution_failed": "2025-02-01T18:58:37.53Z"
    },
    "trusted": true
   },
   "outputs": [
    {
     "data": {
      "text/plain": [
       "'RGBA'"
      ]
     },
     "execution_count": 21,
     "metadata": {},
     "output_type": "execute_result"
    }
   ],
   "source": [
    "sample_image.mode"
   ]
  },
  {
   "cell_type": "code",
   "execution_count": 32,
   "metadata": {
    "execution": {
     "iopub.execute_input": "2025-02-01T18:59:53.948239Z",
     "iopub.status.busy": "2025-02-01T18:59:53.947952Z",
     "iopub.status.idle": "2025-02-01T18:59:54.11942Z",
     "shell.execute_reply": "2025-02-01T18:59:54.118738Z",
     "shell.execute_reply.started": "2025-02-01T18:59:53.948217Z"
    },
    "trusted": true
   },
   "outputs": [
    {
     "data": {
      "text/plain": [
       "<matplotlib.image.AxesImage at 0x1834f8fd520>"
      ]
     },
     "execution_count": 32,
     "metadata": {},
     "output_type": "execute_result"
    },
    {
     "data": {
      "image/png": "[encoded data removed]",
      "text/plain": [
       "<Figure size 640x480 with 1 Axes>"
      ]
     },
     "metadata": {},
     "output_type": "display_data"
    }
   ],
   "source": [
    "img = results[0].plot()\n",
    "plt.imshow(img)"
   ]
  },
  {
   "cell_type": "code",
   "execution_count": 34,
   "metadata": {
    "execution": {
     "iopub.execute_input": "2025-02-01T18:59:56.284329Z",
     "iopub.status.busy": "2025-02-01T18:59:56.283915Z",
     "iopub.status.idle": "2025-02-01T18:59:56.291914Z",
     "shell.execute_reply": "2025-02-01T18:59:56.291065Z",
     "shell.execute_reply.started": "2025-02-01T18:59:56.284293Z"
    },
    "trusted": true
   },
   "outputs": [
    {
     "name": "stdout",
     "output_type": "stream",
     "text": [
      "Bounding Box - X: 451.03765869140625, Y: 3.013875961303711, Width: 25.670867919921875, Height: 6.027751922607422\n",
      "Bounding Box - X: 104.74575805664062, Y: 4.812622547149658, Width: 93.61978912353516, Height: 9.625245094299316\n",
      "Bounding Box - X: 124.95436096191406, Y: 4.5839385986328125, Width: 52.850868225097656, Height: 9.167877197265625\n",
      "Bounding Box - X: 229.66575622558594, Y: 2.718564987182617, Width: 20.830291748046875, Height: 5.437129974365234\n"
     ]
    }
   ],
   "source": [
    "for result in results:\n",
    "    for box in result.boxes.xywh:\n",
    "        x, y, w, h = box  # x, y are center coordinates\n",
    "        print(f\"Bounding Box - X: {x}, Y: {y}, Width: {w}, Height: {h}\")"
   ]
  },
  {
   "cell_type": "code",
   "execution_count": 35,
   "metadata": {
    "execution": {
     "execution_failed": "2025-02-01T18:58:37.53Z"
    },
    "trusted": true
   },
   "outputs": [
    {
     "data": {
      "text/plain": [
       "dict_keys(['full', 'early', 'late'])"
      ]
     },
     "execution_count": 35,
     "metadata": {},
     "output_type": "execute_result"
    }
   ],
   "source": [
    "segmentation_models.keys()"
   ]
  },
  {
   "cell_type": "code",
   "execution_count": 36,
   "metadata": {},
   "outputs": [],
   "source": [
    "# Since the organizers didn't provide performance metrics, we will be using all the models (For Now)\n",
    "segmentation_model = {\n",
    "    \"full\" : YOLO(\"Models/Models/best_full.pt\"),\n",
    "}"
   ]
  },
  {
   "cell_type": "code",
   "execution_count": 37,
   "metadata": {
    "execution": {
     "iopub.execute_input": "2025-02-01T18:59:59.804225Z",
     "iopub.status.busy": "2025-02-01T18:59:59.803932Z",
     "iopub.status.idle": "2025-02-01T18:59:59.81133Z",
     "shell.execute_reply": "2025-02-01T18:59:59.810414Z",
     "shell.execute_reply.started": "2025-02-01T18:59:59.804202Z"
    },
    "trusted": true
   },
   "outputs": [],
   "source": [
    "\n",
    "def get_segmented_images(image_paths, display_image=False):\n",
    "    \"\"\"Extracts and merges segments from images, returning only images with detections.\"\"\"\n",
    "\n",
    "    for model in segmentation_model.keys():\n",
    "        model = segmentation_model[model]\n",
    "        results = model(image_paths, verbose=False)\n",
    "\n",
    "        if len(results[0].boxes.xyxy) != 0:\n",
    "            break\n",
    "\n",
    "    if len(results[0].boxes.xyxy) == 0:\n",
    "        # Incase of no detections, return all the images (Still thinking of better ways to overcome this)\n",
    "        return [Image.open(img) for img in image_paths]\n",
    "        \n",
    "    segmented_images = []\n",
    "    \n",
    "    for img_path, result in zip(image_paths, results):\n",
    "        original_image = Image.open(img_path)\n",
    "        merged_image = Image.new(\"RGBA\", original_image.size, (0, 0, 0, 0))\n",
    "        \n",
    "        # Skip if no detections\n",
    "        if len(result.boxes.xyxy) == 0:\n",
    "            continue \n",
    "            \n",
    "        # Extract and paste segments\n",
    "        for box in result.boxes.xyxy:\n",
    "            x1, y1, x2, y2 = map(int, box.tolist())\n",
    "            segment = original_image.crop((x1, y1, x2, y2))\n",
    "            merged_image.paste(segment, (x1, y1))\n",
    "            \n",
    "        segmented_images.append(merged_image)\n",
    "\n",
    "    # Display Images\n",
    "    if display_image and segmented_images:\n",
    "        fig, axes = plt.subplots(1, len(segmented_images), figsize=(15, 10))\n",
    "        if len(segmented_images) == 1:\n",
    "            axes = [axes]\n",
    "        for ax, img in zip(axes, segmented_images):\n",
    "            ax.imshow(img)\n",
    "            ax.axis(\"off\")\n",
    "        plt.show()\n",
    "\n",
    "    return segmented_images"
   ]
  },
  {
   "cell_type": "markdown",
   "metadata": {},
   "source": [
    "**Explanation** <br>\n",
    "We are going to use `get_segmented_images` function to process a set of images and extracts the regions of interest (i.e., root segments) using a pre-trained segmentation models. It then returns the segmented images where roots are detected, or all images if no detections are made."
   ]
  },
  {
   "cell_type": "code",
   "execution_count": 38,
   "metadata": {
    "execution": {
     "iopub.execute_input": "2025-02-01T19:00:02.278709Z",
     "iopub.status.busy": "2025-02-01T19:00:02.278365Z",
     "iopub.status.idle": "2025-02-01T19:00:03.078411Z",
     "shell.execute_reply": "2025-02-01T19:00:03.077741Z",
     "shell.execute_reply.started": "2025-02-01T19:00:02.278661Z"
    },
    "trusted": true
   },
   "outputs": [
    {
     "data": {
      "image/png": "[encoded data removed]",
      "text/plain": [
       "<Figure size 1500x1000 with 1 Axes>"
      ]
     },
     "metadata": {},
     "output_type": "display_data"
    },
    {
     "data": {
      "text/plain": [
       "[<PIL.Image.Image image mode=RGBA size=934x14>]"
      ]
     },
     "execution_count": 38,
     "metadata": {},
     "output_type": "execute_result"
    }
   ],
   "source": [
    "get_segmented_images([sample], display_image = True)"
   ]
  },
  {
   "cell_type": "code",
   "execution_count": 39,
   "metadata": {
    "execution": {
     "iopub.execute_input": "2025-02-01T19:00:04.788095Z",
     "iopub.status.busy": "2025-02-01T19:00:04.787798Z",
     "iopub.status.idle": "2025-02-01T19:00:04.793322Z",
     "shell.execute_reply": "2025-02-01T19:00:04.792453Z",
     "shell.execute_reply.started": "2025-02-01T19:00:04.788074Z"
    },
    "trusted": true
   },
   "outputs": [],
   "source": [
    "# The function retrieves images from a specified folder\n",
    "# based on the scan side (left or right) and a layer range\n",
    "# (from a starting layer to an ending layer).\n",
    "\n",
    "def get_images_within_range(base_path: Path, folder: str, side: str, start: int, end: int) -> list[Path]:\n",
    "    \"\"\"\n",
    "    Get images from a folder that match the specified side (L/R) and layer range.\n",
    "    \n",
    "    Args:\n",
    "        base_path: Root directory containing all folders\n",
    "        folder: Name of the target folder (e.g., 'Ypktwvqjbn')\n",
    "        side: Scan side to filter ('L' or 'R')\n",
    "        start: Starting layer (inclusive)\n",
    "        end: Ending layer (inclusive)\n",
    "    \"\"\"\n",
    "    folder_path = base_path / folder\n",
    "    \n",
    "    # Get all files in the folder\n",
    "    try:\n",
    "        images = os.listdir(folder_path)\n",
    "    except FileNotFoundError:\n",
    "        return []\n",
    "\n",
    "    # Regex pattern to extract side and layer from filenames\n",
    "    pattern = re.compile(r'_([LR])_(\\d{3})\\.png$')\n",
    "    \n",
    "    selected_images = []\n",
    "    \n",
    "    for img_name in images:\n",
    "        match = pattern.search(img_name)\n",
    "        if match:\n",
    "            # Extract side and layer from filename\n",
    "            img_side = match.group(1)\n",
    "            layer = int(match.group(2))\n",
    "            \n",
    "            # Check if matches criteria\n",
    "            if img_side == side and start <= layer <= end:\n",
    "                selected_images.append(folder_path / img_name)\n",
    "    \n",
    "    return selected_images"
   ]
  },
  {
   "cell_type": "code",
   "execution_count": 40,
   "metadata": {
    "execution": {
     "iopub.execute_input": "2025-02-01T19:00:07.204486Z",
     "iopub.status.busy": "2025-02-01T19:00:07.204171Z",
     "iopub.status.idle": "2025-02-01T19:00:07.217252Z",
     "shell.execute_reply": "2025-02-01T19:00:07.216523Z",
     "shell.execute_reply.started": "2025-02-01T19:00:07.204459Z"
    },
    "trusted": true
   },
   "outputs": [
    {
     "data": {
      "text/plain": [
       "[WindowsPath('data/train/Ypktwvqjbn/Ypktwvqjbn_L_033.png'),\n",
       " WindowsPath('data/train/Ypktwvqjbn/Ypktwvqjbn_L_034.png'),\n",
       " WindowsPath('data/train/Ypktwvqjbn/Ypktwvqjbn_L_035.png'),\n",
       " WindowsPath('data/train/Ypktwvqjbn/Ypktwvqjbn_L_036.png'),\n",
       " WindowsPath('data/train/Ypktwvqjbn/Ypktwvqjbn_L_037.png'),\n",
       " WindowsPath('data/train/Ypktwvqjbn/Ypktwvqjbn_L_038.png'),\n",
       " WindowsPath('data/train/Ypktwvqjbn/Ypktwvqjbn_L_039.png'),\n",
       " WindowsPath('data/train/Ypktwvqjbn/Ypktwvqjbn_L_040.png'),\n",
       " WindowsPath('data/train/Ypktwvqjbn/Ypktwvqjbn_L_041.png')]"
      ]
     },
     "execution_count": 40,
     "metadata": {},
     "output_type": "execute_result"
    }
   ],
   "source": [
    "from pathlib import Path\n",
    "\n",
    "# test and see\n",
    "sample_images = get_images_within_range(Path(TRAIN_DATA_PATH), \"Ypktwvqjbn\", \"L\", 33, 41)\n",
    "sample_images"
   ]
  },
  {
   "cell_type": "code",
   "execution_count": 41,
   "metadata": {
    "execution": {
     "iopub.execute_input": "2025-02-01T19:00:10.78831Z",
     "iopub.status.busy": "2025-02-01T19:00:10.787989Z",
     "iopub.status.idle": "2025-02-01T19:00:11.7431Z",
     "shell.execute_reply": "2025-02-01T19:00:11.742284Z",
     "shell.execute_reply.started": "2025-02-01T19:00:10.788282Z"
    },
    "trusted": true
   },
   "outputs": [
    {
     "data": {
      "text/plain": [
       "[<PIL.PngImagePlugin.PngImageFile image mode=RGBA size=951x14>,\n",
       " <PIL.PngImagePlugin.PngImageFile image mode=RGBA size=951x14>,\n",
       " <PIL.PngImagePlugin.PngImageFile image mode=RGBA size=951x14>,\n",
       " <PIL.PngImagePlugin.PngImageFile image mode=RGBA size=951x14>,\n",
       " <PIL.PngImagePlugin.PngImageFile image mode=RGBA size=951x14>,\n",
       " <PIL.PngImagePlugin.PngImageFile image mode=RGBA size=951x14>,\n",
       " <PIL.PngImagePlugin.PngImageFile image mode=RGBA size=951x14>,\n",
       " <PIL.PngImagePlugin.PngImageFile image mode=RGBA size=951x14>,\n",
       " <PIL.PngImagePlugin.PngImageFile image mode=RGBA size=951x14>]"
      ]
     },
     "execution_count": 41,
     "metadata": {},
     "output_type": "execute_result"
    }
   ],
   "source": [
    "get_segmented_images(sample_images, display_image = True)"
   ]
  },
  {
   "cell_type": "code",
   "execution_count": 42,
   "metadata": {
    "execution": {
     "iopub.execute_input": "2025-02-01T19:54:05.486807Z",
     "iopub.status.busy": "2025-02-01T19:54:05.486417Z",
     "iopub.status.idle": "2025-02-01T19:54:05.492853Z",
     "shell.execute_reply": "2025-02-01T19:54:05.491949Z",
     "shell.execute_reply.started": "2025-02-01T19:54:05.486777Z"
    },
    "trusted": true
   },
   "outputs": [],
   "source": [
    "# finally merge all of the image segments into one\n",
    "def merge_segmented_images(path: Path, folder: str, side: str, start: int, end: int):\n",
    "    images_in_range = get_images_within_range(path, folder, side, start, end)\n",
    "    segmented_images = get_segmented_images(images_in_range)\n",
    "\n",
    "    # Determine final dimensions for the merged image\n",
    "    total_width = sum(img.width for img in segmented_images)  # Sum of all widths\n",
    "    max_height = max(img.height for img in segmented_images)  # Max height among all images\n",
    "\n",
    "    # Create a blank canvas with a transparent background\n",
    "    merged_image = Image.new(\"RGBA\", (total_width, max_height), (0, 0, 0, 0))\n",
    "\n",
    "    # Paste each segmented image next to the previous one (left to right)\n",
    "    x_offset = 0\n",
    "    for img in segmented_images:\n",
    "        merged_image.paste(img, (x_offset, 0), img)  # Paste at correct position\n",
    "        x_offset += img.width  # Move x-offset to the right for the next image\n",
    "\n",
    "    return merged_image"
   ]
  },
  {
   "cell_type": "code",
   "execution_count": 43,
   "metadata": {
    "execution": {
     "iopub.execute_input": "2025-02-01T19:54:10.182668Z",
     "iopub.status.busy": "2025-02-01T19:54:10.182334Z",
     "iopub.status.idle": "2025-02-01T19:54:10.282785Z",
     "shell.execute_reply": "2025-02-01T19:54:10.282066Z",
     "shell.execute_reply.started": "2025-02-01T19:54:10.18263Z"
    },
    "trusted": true
   },
   "outputs": [
    {
     "data": {
      "image/png": "[encoded data removed]",
      "text/plain": [
       "<PIL.Image.Image image mode=RGBA size=7496x14>"
      ]
     },
     "execution_count": 43,
     "metadata": {},
     "output_type": "execute_result"
    }
   ],
   "source": [
    "merged_image = merge_segmented_images(Path(TRAIN_DATA_PATH), \"Ox18ob0syv\", \"R\", 21, 28)\n",
    "merged_image"
   ]
  },
  {
   "cell_type": "code",
   "execution_count": 44,
   "metadata": {
    "execution": {
     "iopub.execute_input": "2025-02-01T19:55:24.366505Z",
     "iopub.status.busy": "2025-02-01T19:55:24.366195Z",
     "iopub.status.idle": "2025-02-01T19:55:24.371266Z",
     "shell.execute_reply": "2025-02-01T19:55:24.370493Z",
     "shell.execute_reply.started": "2025-02-01T19:55:24.366482Z"
    },
    "trusted": true
   },
   "outputs": [],
   "source": [
    "OUTPUT_IMAGE_DIR = Path(\"C:/Users/Reinhard/Documents/computer_vision_projects/root_volume_estimation_challenge/merged_images/\")\n",
    "os.makedirs(OUTPUT_IMAGE_DIR, exist_ok = True)\n",
    "\n",
    "TRAIN_OUTPUT_DIR = OUTPUT_IMAGE_DIR / \"Train\"\n",
    "TEST_OUTPUT_DIR = OUTPUT_IMAGE_DIR / \"Test\"\n",
    "\n",
    "os.makedirs(TRAIN_OUTPUT_DIR, exist_ok = True)\n",
    "os.makedirs(TEST_OUTPUT_DIR, exist_ok = True)"
   ]
  },
  {
   "cell_type": "code",
   "execution_count": 31,
   "metadata": {
    "execution": {
     "iopub.execute_input": "2025-02-01T19:55:27.553487Z",
     "iopub.status.busy": "2025-02-01T19:55:27.553174Z",
     "iopub.status.idle": "2025-02-01T19:55:27.565365Z",
     "shell.execute_reply": "2025-02-01T19:55:27.564668Z",
     "shell.execute_reply.started": "2025-02-01T19:55:27.553464Z"
    },
    "trusted": true
   },
   "outputs": [
    {
     "data": {
      "text/html": [
       "<div>\n",
       "<style scoped>\n",
       "    .dataframe tbody tr th:only-of-type {\n",
       "        vertical-align: middle;\n",
       "    }\n",
       "\n",
       "    .dataframe tbody tr th {\n",
       "        vertical-align: top;\n",
       "    }\n",
       "\n",
       "    .dataframe thead th {\n",
       "        text-align: right;\n",
       "    }\n",
       "</style>\n",
       "<table border=\"1\" class=\"dataframe\">\n",
       "  <thead>\n",
       "    <tr style=\"text-align: right;\">\n",
       "      <th></th>\n",
       "      <th>ID</th>\n",
       "      <th>FolderName</th>\n",
       "      <th>PlantNumber</th>\n",
       "      <th>Side</th>\n",
       "      <th>Start</th>\n",
       "      <th>End</th>\n",
       "      <th>RootVolume</th>\n",
       "      <th>Genotype</th>\n",
       "      <th>Stage</th>\n",
       "    </tr>\n",
       "  </thead>\n",
       "  <tbody>\n",
       "    <tr>\n",
       "      <th>0</th>\n",
       "      <td>ID_826322_Lbmaya</td>\n",
       "      <td>A6dzrkjqvl</td>\n",
       "      <td>3</td>\n",
       "      <td>L</td>\n",
       "      <td>33</td>\n",
       "      <td>42</td>\n",
       "      <td>0.9</td>\n",
       "      <td>IITA-TMS-IBA000070</td>\n",
       "      <td>Early</td>\n",
       "    </tr>\n",
       "    <tr>\n",
       "      <th>1</th>\n",
       "      <td>ID_718181_Bslpwx</td>\n",
       "      <td>Ypktwvqjbn</td>\n",
       "      <td>7</td>\n",
       "      <td>L</td>\n",
       "      <td>33</td>\n",
       "      <td>41</td>\n",
       "      <td>1.5</td>\n",
       "      <td>IBA154810</td>\n",
       "      <td>Early</td>\n",
       "    </tr>\n",
       "    <tr>\n",
       "      <th>2</th>\n",
       "      <td>ID_465762_L1n61d</td>\n",
       "      <td>Ox18ob0syv</td>\n",
       "      <td>4</td>\n",
       "      <td>R</td>\n",
       "      <td>21</td>\n",
       "      <td>28</td>\n",
       "      <td>2.7</td>\n",
       "      <td>IBA980581</td>\n",
       "      <td>Early</td>\n",
       "    </tr>\n",
       "    <tr>\n",
       "      <th>3</th>\n",
       "      <td>ID_626872_Pbmx2e</td>\n",
       "      <td>Hqcekwpxgu</td>\n",
       "      <td>2</td>\n",
       "      <td>R</td>\n",
       "      <td>30</td>\n",
       "      <td>39</td>\n",
       "      <td>2.6</td>\n",
       "      <td>IITA-TMS-IBA000070</td>\n",
       "      <td>Early</td>\n",
       "    </tr>\n",
       "    <tr>\n",
       "      <th>4</th>\n",
       "      <td>ID_518846_Opko8c</td>\n",
       "      <td>Ummqfuetoc</td>\n",
       "      <td>1</td>\n",
       "      <td>R</td>\n",
       "      <td>17</td>\n",
       "      <td>26</td>\n",
       "      <td>2.7</td>\n",
       "      <td>IBA980581</td>\n",
       "      <td>Early</td>\n",
       "    </tr>\n",
       "  </tbody>\n",
       "</table>\n",
       "</div>"
      ],
      "text/plain": [
       "                 ID  FolderName  PlantNumber Side  Start  End  RootVolume  \\\n",
       "0  ID_826322_Lbmaya  A6dzrkjqvl            3    L     33   42         0.9   \n",
       "1  ID_718181_Bslpwx  Ypktwvqjbn            7    L     33   41         1.5   \n",
       "2  ID_465762_L1n61d  Ox18ob0syv            4    R     21   28         2.7   \n",
       "3  ID_626872_Pbmx2e  Hqcekwpxgu            2    R     30   39         2.6   \n",
       "4  ID_518846_Opko8c  Ummqfuetoc            1    R     17   26         2.7   \n",
       "\n",
       "             Genotype  Stage  \n",
       "0  IITA-TMS-IBA000070  Early  \n",
       "1           IBA154810  Early  \n",
       "2           IBA980581  Early  \n",
       "3  IITA-TMS-IBA000070  Early  \n",
       "4           IBA980581  Early  "
      ]
     },
     "execution_count": 31,
     "metadata": {},
     "output_type": "execute_result"
    }
   ],
   "source": [
    "train_df.head()"
   ]
  },
  {
   "cell_type": "markdown",
   "metadata": {},
   "source": [
    "# Generate the new dataset"
   ]
  },
  {
   "cell_type": "code",
   "execution_count": 45,
   "metadata": {
    "execution": {
     "iopub.execute_input": "2025-02-01T19:55:36.493561Z",
     "iopub.status.busy": "2025-02-01T19:55:36.493243Z",
     "iopub.status.idle": "2025-02-01T19:55:36.498603Z",
     "shell.execute_reply": "2025-02-01T19:55:36.497852Z",
     "shell.execute_reply.started": "2025-02-01T19:55:36.493537Z"
    },
    "trusted": true
   },
   "outputs": [],
   "source": [
    "# Iterate through all the  images in the df\n",
    "def generate_merged_images(df, output_path, input_path):\n",
    "    gen_image_paths = []\n",
    "    \n",
    "    for _, row in tqdm(df.iterrows(), total=len(df), desc=\"Merging Images\"):\n",
    "        gen_image = merge_segmented_images(\n",
    "            path=Path(input_path),\n",
    "            folder=row[\"FolderName\"],\n",
    "            side=row[\"Side\"],\n",
    "            start=row[\"Start\"],\n",
    "            end=row[\"End\"]\n",
    "        )\n",
    "        img_path = Path(output_path / f\"{row['ID']}.png\")\n",
    "        gen_image.save(img_path)\n",
    "        gen_image_paths.append(img_path)\n",
    "\n",
    "    df['image segments'] = gen_image_paths\n",
    "    return df"
   ]
  },
  {
   "cell_type": "code",
   "execution_count": 46,
   "metadata": {
    "execution": {
     "iopub.execute_input": "2025-02-01T19:55:39.896972Z",
     "iopub.status.busy": "2025-02-01T19:55:39.896611Z",
     "iopub.status.idle": "2025-02-01T19:56:42.83344Z",
     "shell.execute_reply": "2025-02-01T19:56:42.832745Z",
     "shell.execute_reply.started": "2025-02-01T19:55:39.896945Z"
    },
    "trusted": true
   },
   "outputs": [
    {
     "name": "stderr",
     "output_type": "stream",
     "text": [
      "Merging Images: 100%|██████████| 386/386 [17:48<00:00,  2.77s/it]\n"
     ]
    }
   ],
   "source": [
    "new_train_df = generate_merged_images(train_df, TRAIN_OUTPUT_DIR, TRAIN_DATA_PATH)"
   ]
  },
  {
   "cell_type": "code",
   "execution_count": 30,
   "metadata": {},
   "outputs": [
    {
     "name": "stdout",
     "output_type": "stream",
     "text": [
      "Too many parameters - --filelimit=10\n"
     ]
    }
   ],
   "source": [
    "!tree root_volume_estimation_challenge --filelimit=10"
   ]
  },
  {
   "cell_type": "code",
   "execution_count": 47,
   "metadata": {
    "execution": {
     "iopub.execute_input": "2025-02-01T19:58:09.689262Z",
     "iopub.status.busy": "2025-02-01T19:58:09.688923Z",
     "iopub.status.idle": "2025-02-01T19:58:09.700554Z",
     "shell.execute_reply": "2025-02-01T19:58:09.699907Z",
     "shell.execute_reply.started": "2025-02-01T19:58:09.689238Z"
    },
    "trusted": true
   },
   "outputs": [
    {
     "data": {
      "text/html": [
       "<div>\n",
       "<style scoped>\n",
       "    .dataframe tbody tr th:only-of-type {\n",
       "        vertical-align: middle;\n",
       "    }\n",
       "\n",
       "    .dataframe tbody tr th {\n",
       "        vertical-align: top;\n",
       "    }\n",
       "\n",
       "    .dataframe thead th {\n",
       "        text-align: right;\n",
       "    }\n",
       "</style>\n",
       "<table border=\"1\" class=\"dataframe\">\n",
       "  <thead>\n",
       "    <tr style=\"text-align: right;\">\n",
       "      <th></th>\n",
       "      <th>ID</th>\n",
       "      <th>FolderName</th>\n",
       "      <th>PlantNumber</th>\n",
       "      <th>Side</th>\n",
       "      <th>Start</th>\n",
       "      <th>End</th>\n",
       "      <th>RootVolume</th>\n",
       "      <th>Genotype</th>\n",
       "      <th>Stage</th>\n",
       "      <th>image segments</th>\n",
       "    </tr>\n",
       "  </thead>\n",
       "  <tbody>\n",
       "    <tr>\n",
       "      <th>0</th>\n",
       "      <td>ID_826322_Lbmaya</td>\n",
       "      <td>A6dzrkjqvl</td>\n",
       "      <td>3</td>\n",
       "      <td>L</td>\n",
       "      <td>33</td>\n",
       "      <td>42</td>\n",
       "      <td>0.9</td>\n",
       "      <td>IITA-TMS-IBA000070</td>\n",
       "      <td>Early</td>\n",
       "      <td>C:\\Users\\Reinhard\\Documents\\computer_vision_pr...</td>\n",
       "    </tr>\n",
       "    <tr>\n",
       "      <th>1</th>\n",
       "      <td>ID_718181_Bslpwx</td>\n",
       "      <td>Ypktwvqjbn</td>\n",
       "      <td>7</td>\n",
       "      <td>L</td>\n",
       "      <td>33</td>\n",
       "      <td>41</td>\n",
       "      <td>1.5</td>\n",
       "      <td>IBA154810</td>\n",
       "      <td>Early</td>\n",
       "      <td>C:\\Users\\Reinhard\\Documents\\computer_vision_pr...</td>\n",
       "    </tr>\n",
       "    <tr>\n",
       "      <th>2</th>\n",
       "      <td>ID_465762_L1n61d</td>\n",
       "      <td>Ox18ob0syv</td>\n",
       "      <td>4</td>\n",
       "      <td>R</td>\n",
       "      <td>21</td>\n",
       "      <td>28</td>\n",
       "      <td>2.7</td>\n",
       "      <td>IBA980581</td>\n",
       "      <td>Early</td>\n",
       "      <td>C:\\Users\\Reinhard\\Documents\\computer_vision_pr...</td>\n",
       "    </tr>\n",
       "    <tr>\n",
       "      <th>3</th>\n",
       "      <td>ID_626872_Pbmx2e</td>\n",
       "      <td>Hqcekwpxgu</td>\n",
       "      <td>2</td>\n",
       "      <td>R</td>\n",
       "      <td>30</td>\n",
       "      <td>39</td>\n",
       "      <td>2.6</td>\n",
       "      <td>IITA-TMS-IBA000070</td>\n",
       "      <td>Early</td>\n",
       "      <td>C:\\Users\\Reinhard\\Documents\\computer_vision_pr...</td>\n",
       "    </tr>\n",
       "    <tr>\n",
       "      <th>4</th>\n",
       "      <td>ID_518846_Opko8c</td>\n",
       "      <td>Ummqfuetoc</td>\n",
       "      <td>1</td>\n",
       "      <td>R</td>\n",
       "      <td>17</td>\n",
       "      <td>26</td>\n",
       "      <td>2.7</td>\n",
       "      <td>IBA980581</td>\n",
       "      <td>Early</td>\n",
       "      <td>C:\\Users\\Reinhard\\Documents\\computer_vision_pr...</td>\n",
       "    </tr>\n",
       "  </tbody>\n",
       "</table>\n",
       "</div>"
      ],
      "text/plain": [
       "                 ID  FolderName  PlantNumber Side  Start  End  RootVolume  \\\n",
       "0  ID_826322_Lbmaya  A6dzrkjqvl            3    L     33   42         0.9   \n",
       "1  ID_718181_Bslpwx  Ypktwvqjbn            7    L     33   41         1.5   \n",
       "2  ID_465762_L1n61d  Ox18ob0syv            4    R     21   28         2.7   \n",
       "3  ID_626872_Pbmx2e  Hqcekwpxgu            2    R     30   39         2.6   \n",
       "4  ID_518846_Opko8c  Ummqfuetoc            1    R     17   26         2.7   \n",
       "\n",
       "             Genotype  Stage  \\\n",
       "0  IITA-TMS-IBA000070  Early   \n",
       "1           IBA154810  Early   \n",
       "2           IBA980581  Early   \n",
       "3  IITA-TMS-IBA000070  Early   \n",
       "4           IBA980581  Early   \n",
       "\n",
       "                                      image segments  \n",
       "0  C:\\Users\\Reinhard\\Documents\\computer_vision_pr...  \n",
       "1  C:\\Users\\Reinhard\\Documents\\computer_vision_pr...  \n",
       "2  C:\\Users\\Reinhard\\Documents\\computer_vision_pr...  \n",
       "3  C:\\Users\\Reinhard\\Documents\\computer_vision_pr...  \n",
       "4  C:\\Users\\Reinhard\\Documents\\computer_vision_pr...  "
      ]
     },
     "execution_count": 47,
     "metadata": {},
     "output_type": "execute_result"
    }
   ],
   "source": [
    "new_train_df.head()"
   ]
  },
  {
   "cell_type": "code",
   "execution_count": null,
   "metadata": {
    "execution": {
     "iopub.execute_input": "2025-02-01T19:58:16.722031Z",
     "iopub.status.busy": "2025-02-01T19:58:16.721738Z",
     "iopub.status.idle": "2025-02-01T19:58:37.341654Z",
     "shell.execute_reply": "2025-02-01T19:58:37.340735Z",
     "shell.execute_reply.started": "2025-02-01T19:58:16.722008Z"
    },
    "trusted": true
   },
   "outputs": [
    {
     "name": "stderr",
     "output_type": "stream",
     "text": [
      "Merging Images:   0%|          | 0/130 [00:00<?, ?it/s]"
     ]
    },
    {
     "name": "stderr",
     "output_type": "stream",
     "text": [
      "Merging Images:  70%|███████   | 91/130 [03:19<01:10,  1.80s/it]"
     ]
    }
   ],
   "source": [
    "new_test_df = generate_merged_images(test_df, TEST_OUTPUT_DIR, TEST_DATA_PATH)"
   ]
  },
  {
   "cell_type": "code",
   "execution_count": 36,
   "metadata": {
    "execution": {
     "iopub.execute_input": "2025-02-01T19:59:58.705026Z",
     "iopub.status.busy": "2025-02-01T19:59:58.704637Z",
     "iopub.status.idle": "2025-02-01T19:59:58.71017Z",
     "shell.execute_reply": "2025-02-01T19:59:58.709353Z",
     "shell.execute_reply.started": "2025-02-01T19:59:58.704997Z"
    },
    "trusted": true
   },
   "outputs": [],
   "source": [
    "def display_generated_images(image_paths):\n",
    "    fig, axes = plt.subplots(2, 2, figsize=(10, 10))\n",
    "    axes = axes.flatten()\n",
    "\n",
    "    for i, img_path in enumerate(image_paths[:4]):  # Display first 4 images\n",
    "        image = Image.open(img_path)\n",
    "        axes[i].imshow(image)\n",
    "        axes[i].axis(\"off\")  # Hide axes\n",
    "        axes[i].set_title(f\"Image {i+1}\")\n",
    "\n",
    "    plt.tight_layout()\n",
    "    plt.show()"
   ]
  },
  {
   "cell_type": "code",
   "execution_count": 37,
   "metadata": {
    "execution": {
     "iopub.execute_input": "2025-02-01T20:00:03.946603Z",
     "iopub.status.busy": "2025-02-01T20:00:03.9463Z",
     "iopub.status.idle": "2025-02-01T20:00:04.182989Z",
     "shell.execute_reply": "2025-02-01T20:00:04.18216Z",
     "shell.execute_reply.started": "2025-02-01T20:00:03.946569Z"
    },
    "trusted": true
   },
   "outputs": [
    {
     "data": {
      "image/png": "[encoded data removed]",
      "text/plain": [
       "<Figure size 1000x1000 with 4 Axes>"
      ]
     },
     "metadata": {},
     "output_type": "display_data"
    }
   ],
   "source": [
    "# Display Train\n",
    "\n",
    "display_generated_images(new_train_df['image segments'].values)"
   ]
  },
  {
   "cell_type": "code",
   "execution_count": 38,
   "metadata": {
    "execution": {
     "iopub.execute_input": "2025-02-01T20:00:19.793239Z",
     "iopub.status.busy": "2025-02-01T20:00:19.792938Z",
     "iopub.status.idle": "2025-02-01T20:00:20.022938Z",
     "shell.execute_reply": "2025-02-01T20:00:20.022144Z",
     "shell.execute_reply.started": "2025-02-01T20:00:19.793214Z"
    },
    "trusted": true
   },
   "outputs": [
    {
     "data": {
      "image/png": "[encoded data removed]",
      "text/plain": [
       "<Figure size 1000x1000 with 4 Axes>"
      ]
     },
     "metadata": {},
     "output_type": "display_data"
    }
   ],
   "source": [
    "display_generated_images(new_test_df['image segments'].values)"
   ]
  },
  {
   "cell_type": "code",
   "execution_count": 40,
   "metadata": {},
   "outputs": [
    {
     "data": {
      "text/html": [
       "<div>\n",
       "<style scoped>\n",
       "    .dataframe tbody tr th:only-of-type {\n",
       "        vertical-align: middle;\n",
       "    }\n",
       "\n",
       "    .dataframe tbody tr th {\n",
       "        vertical-align: top;\n",
       "    }\n",
       "\n",
       "    .dataframe thead th {\n",
       "        text-align: right;\n",
       "    }\n",
       "</style>\n",
       "<table border=\"1\" class=\"dataframe\">\n",
       "  <thead>\n",
       "    <tr style=\"text-align: right;\">\n",
       "      <th></th>\n",
       "      <th>ID</th>\n",
       "      <th>FolderName</th>\n",
       "      <th>PlantNumber</th>\n",
       "      <th>Side</th>\n",
       "      <th>Start</th>\n",
       "      <th>End</th>\n",
       "      <th>Genotype</th>\n",
       "      <th>Stage</th>\n",
       "      <th>image segments</th>\n",
       "    </tr>\n",
       "  </thead>\n",
       "  <tbody>\n",
       "    <tr>\n",
       "      <th>0</th>\n",
       "      <td>ID_208667_Hnkl8q</td>\n",
       "      <td>L5l1h3kekg</td>\n",
       "      <td>7</td>\n",
       "      <td>L</td>\n",
       "      <td>38</td>\n",
       "      <td>50</td>\n",
       "      <td>IITA-TMS-IBA000070</td>\n",
       "      <td>Early</td>\n",
       "      <td>C:\\Users\\Reinhard\\Documents\\computer_vision_pr...</td>\n",
       "    </tr>\n",
       "    <tr>\n",
       "      <th>1</th>\n",
       "      <td>ID_285249_Jnjvav</td>\n",
       "      <td>Wgutyon8uu</td>\n",
       "      <td>6</td>\n",
       "      <td>R</td>\n",
       "      <td>23</td>\n",
       "      <td>37</td>\n",
       "      <td>TMEB419</td>\n",
       "      <td>Early</td>\n",
       "      <td>C:\\Users\\Reinhard\\Documents\\computer_vision_pr...</td>\n",
       "    </tr>\n",
       "    <tr>\n",
       "      <th>2</th>\n",
       "      <td>ID_697947_Yec6bd</td>\n",
       "      <td>Mylwjeq6tq</td>\n",
       "      <td>3</td>\n",
       "      <td>R</td>\n",
       "      <td>19</td>\n",
       "      <td>42</td>\n",
       "      <td>IBA980581</td>\n",
       "      <td>Early</td>\n",
       "      <td>C:\\Users\\Reinhard\\Documents\\computer_vision_pr...</td>\n",
       "    </tr>\n",
       "    <tr>\n",
       "      <th>3</th>\n",
       "      <td>ID_534638_X3j91f</td>\n",
       "      <td>Pfp24vx905</td>\n",
       "      <td>2</td>\n",
       "      <td>R</td>\n",
       "      <td>27</td>\n",
       "      <td>34</td>\n",
       "      <td>TMEB419</td>\n",
       "      <td>Early</td>\n",
       "      <td>C:\\Users\\Reinhard\\Documents\\computer_vision_pr...</td>\n",
       "    </tr>\n",
       "    <tr>\n",
       "      <th>4</th>\n",
       "      <td>ID_929298_Xvymuz</td>\n",
       "      <td>Mrw7chmalv</td>\n",
       "      <td>4</td>\n",
       "      <td>R</td>\n",
       "      <td>30</td>\n",
       "      <td>43</td>\n",
       "      <td>IBA154810</td>\n",
       "      <td>Early</td>\n",
       "      <td>C:\\Users\\Reinhard\\Documents\\computer_vision_pr...</td>\n",
       "    </tr>\n",
       "  </tbody>\n",
       "</table>\n",
       "</div>"
      ],
      "text/plain": [
       "                 ID  FolderName  PlantNumber Side  Start  End  \\\n",
       "0  ID_208667_Hnkl8q  L5l1h3kekg            7    L     38   50   \n",
       "1  ID_285249_Jnjvav  Wgutyon8uu            6    R     23   37   \n",
       "2  ID_697947_Yec6bd  Mylwjeq6tq            3    R     19   42   \n",
       "3  ID_534638_X3j91f  Pfp24vx905            2    R     27   34   \n",
       "4  ID_929298_Xvymuz  Mrw7chmalv            4    R     30   43   \n",
       "\n",
       "             Genotype  Stage  \\\n",
       "0  IITA-TMS-IBA000070  Early   \n",
       "1             TMEB419  Early   \n",
       "2           IBA980581  Early   \n",
       "3             TMEB419  Early   \n",
       "4           IBA154810  Early   \n",
       "\n",
       "                                      image segments  \n",
       "0  C:\\Users\\Reinhard\\Documents\\computer_vision_pr...  \n",
       "1  C:\\Users\\Reinhard\\Documents\\computer_vision_pr...  \n",
       "2  C:\\Users\\Reinhard\\Documents\\computer_vision_pr...  \n",
       "3  C:\\Users\\Reinhard\\Documents\\computer_vision_pr...  \n",
       "4  C:\\Users\\Reinhard\\Documents\\computer_vision_pr...  "
      ]
     },
     "execution_count": 40,
     "metadata": {},
     "output_type": "execute_result"
    }
   ],
   "source": [
    "new_test_df.head()"
   ]
  },
  {
   "cell_type": "markdown",
   "metadata": {},
   "source": [
    "# Model Traning"
   ]
  },
  {
   "cell_type": "code",
   "execution_count": 41,
   "metadata": {
    "execution": {
     "iopub.execute_input": "2025-02-01T20:48:53.970302Z",
     "iopub.status.busy": "2025-02-01T20:48:53.96999Z",
     "iopub.status.idle": "2025-02-01T20:48:53.979863Z",
     "shell.execute_reply": "2025-02-01T20:48:53.979095Z",
     "shell.execute_reply.started": "2025-02-01T20:48:53.970278Z"
    },
    "trusted": true
   },
   "outputs": [
    {
     "data": {
      "text/plain": [
       "torch.Size([4, 20, 150])"
      ]
     },
     "execution_count": 41,
     "metadata": {},
     "output_type": "execute_result"
    }
   ],
   "source": [
    "train_transform = v2.Compose([\n",
    "    v2.Resize(size=(20, 150), antialias=True),\n",
    "    v2.RandomHorizontalFlip(p=0.5),\n",
    "    v2.ToImage(),\n",
    "    v2.ToDtype(torch.float32, scale=True),  \n",
    "    v2.Normalize(mean=[0.5], std=[0.5])\n",
    "])\n",
    "\n",
    "# Testing Transform\n",
    "test_transform = v2.Compose([\n",
    "    v2.Resize(size=(20, 150), antialias=True),\n",
    "    v2.ToImage(),\n",
    "    v2.ToDtype(torch.float32, scale=True),  \n",
    "    v2.Normalize(mean=[0.5], std=[0.5])\n",
    "])\n",
    "\n",
    "img = train_transform(sample_image)\n",
    "img.shape"
   ]
  },
  {
   "cell_type": "code",
   "execution_count": 42,
   "metadata": {
    "trusted": true
   },
   "outputs": [
    {
     "data": {
      "text/plain": [
       "<function Image.size>"
      ]
     },
     "execution_count": 42,
     "metadata": {},
     "output_type": "execute_result"
    }
   ],
   "source": [
    "img.size"
   ]
  },
  {
   "cell_type": "code",
   "execution_count": 43,
   "metadata": {
    "execution": {
     "iopub.execute_input": "2025-02-01T20:07:06.909837Z",
     "iopub.status.busy": "2025-02-01T20:07:06.909506Z",
     "iopub.status.idle": "2025-02-01T20:07:06.918568Z",
     "shell.execute_reply": "2025-02-01T20:07:06.917637Z",
     "shell.execute_reply.started": "2025-02-01T20:07:06.909803Z"
    },
    "trusted": true
   },
   "outputs": [
    {
     "data": {
      "text/plain": [
       "Image([[[-1., -1., -1.,  ..., -1., -1., -1.],\n",
       "        [-1., -1., -1.,  ..., -1., -1., -1.],\n",
       "        [-1., -1., -1.,  ..., -1., -1., -1.],\n",
       "        ...,\n",
       "        [-1., -1., -1.,  ..., -1., -1., -1.],\n",
       "        [-1., -1., -1.,  ..., -1., -1., -1.],\n",
       "        [-1., -1., -1.,  ..., -1., -1., -1.]],\n",
       "\n",
       "       [[-1., -1., -1.,  ..., -1., -1., -1.],\n",
       "        [-1., -1., -1.,  ..., -1., -1., -1.],\n",
       "        [-1., -1., -1.,  ..., -1., -1., -1.],\n",
       "        ...,\n",
       "        [-1., -1., -1.,  ..., -1., -1., -1.],\n",
       "        [-1., -1., -1.,  ..., -1., -1., -1.],\n",
       "        [-1., -1., -1.,  ..., -1., -1., -1.]],\n",
       "\n",
       "       [[-1., -1., -1.,  ..., -1., -1., -1.],\n",
       "        [-1., -1., -1.,  ..., -1., -1., -1.],\n",
       "        [-1., -1., -1.,  ..., -1., -1., -1.],\n",
       "        ...,\n",
       "        [-1., -1., -1.,  ..., -1., -1., -1.],\n",
       "        [-1., -1., -1.,  ..., -1., -1., -1.],\n",
       "        [-1., -1., -1.,  ..., -1., -1., -1.]],\n",
       "\n",
       "       [[-1., -1., -1.,  ..., -1., -1., -1.],\n",
       "        [-1., -1., -1.,  ..., -1., -1., -1.],\n",
       "        [-1., -1., -1.,  ..., -1., -1., -1.],\n",
       "        ...,\n",
       "        [-1., -1., -1.,  ..., -1., -1., -1.],\n",
       "        [-1., -1., -1.,  ..., -1., -1., -1.],\n",
       "        [-1., -1., -1.,  ..., -1., -1., -1.]]], )"
      ]
     },
     "execution_count": 43,
     "metadata": {},
     "output_type": "execute_result"
    }
   ],
   "source": [
    "sample_image = Image.open(new_train_df['image segments'].iloc[6])\n",
    "train_transform(sample_image)"
   ]
  },
  {
   "cell_type": "code",
   "execution_count": 44,
   "metadata": {
    "execution": {
     "iopub.execute_input": "2025-02-01T20:58:20.551018Z",
     "iopub.status.busy": "2025-02-01T20:58:20.550657Z",
     "iopub.status.idle": "2025-02-01T20:58:20.556796Z",
     "shell.execute_reply": "2025-02-01T20:58:20.555765Z",
     "shell.execute_reply.started": "2025-02-01T20:58:20.550993Z"
    },
    "trusted": true
   },
   "outputs": [],
   "source": [
    "# define the dataset\n",
    "class RootVolumeDataset(Dataset):\n",
    "    def __init__(self, df : pd.DataFrame, transform = None, is_train = True):\n",
    "        super().__init__()\n",
    "        self.df = df\n",
    "        self.transform = transform\n",
    "        self.is_train = is_train\n",
    "\n",
    "    def __getitem__(self, index):\n",
    "        image = Image.open(self.df['image segments'].iloc[index]).convert(\"RGB\")\n",
    "\n",
    "        if self.transform:\n",
    "            image = self.transform(image)\n",
    "\n",
    "        if self.is_train:\n",
    "            label = self.df['RootVolume'].iloc[index]\n",
    "\n",
    "            return image, torch.tensor(label, dtype=torch.float32)\n",
    "\n",
    "        return image\n",
    "\n",
    "    def __len__(self):\n",
    "        return len(self.df)"
   ]
  },
  {
   "cell_type": "code",
   "execution_count": 45,
   "metadata": {
    "execution": {
     "iopub.execute_input": "2025-02-01T20:49:14.362092Z",
     "iopub.status.busy": "2025-02-01T20:49:14.361807Z",
     "iopub.status.idle": "2025-02-01T20:49:14.369743Z",
     "shell.execute_reply": "2025-02-01T20:49:14.368789Z",
     "shell.execute_reply.started": "2025-02-01T20:49:14.362071Z"
    },
    "trusted": true
   },
   "outputs": [
    {
     "name": "stderr",
     "output_type": "stream",
     "text": [
      "Seed set to 42\n"
     ]
    }
   ],
   "source": [
    "def seed_everything(seed):\n",
    "    torch.manual_seed(seed) \n",
    "    torch.cuda.manual_seed(seed)\n",
    "    torch.cuda.manual_seed_all(seed)\n",
    "    torch.backends.cudnn.deterministic = True \n",
    "    torch.backends.cudnn.benchmark = False\n",
    "    L.pytorch.seed_everything(seed, workers=True)\n",
    "    \n",
    "seed_everything(42)"
   ]
  },
  {
   "cell_type": "code",
   "execution_count": 46,
   "metadata": {
    "execution": {
     "iopub.execute_input": "2025-02-01T20:58:25.301265Z",
     "iopub.status.busy": "2025-02-01T20:58:25.300976Z",
     "iopub.status.idle": "2025-02-01T20:58:25.305077Z",
     "shell.execute_reply": "2025-02-01T20:58:25.304144Z",
     "shell.execute_reply.started": "2025-02-01T20:58:25.301243Z"
    },
    "trusted": true
   },
   "outputs": [],
   "source": [
    "train_dataset = RootVolumeDataset(new_train_df, train_transform)\n",
    "test_dataset = RootVolumeDataset(new_test_df, test_transform, is_train = False)"
   ]
  },
  {
   "cell_type": "code",
   "execution_count": 47,
   "metadata": {
    "execution": {
     "iopub.execute_input": "2025-02-01T20:58:51.46932Z",
     "iopub.status.busy": "2025-02-01T20:58:51.469029Z",
     "iopub.status.idle": "2025-02-01T20:58:51.483739Z",
     "shell.execute_reply": "2025-02-01T20:58:51.483005Z",
     "shell.execute_reply.started": "2025-02-01T20:58:51.469298Z"
    },
    "trusted": true
   },
   "outputs": [
    {
     "data": {
      "text/plain": [
       "(torch.Size([3, 20, 150]), torch.Size([3, 20, 150]))"
      ]
     },
     "execution_count": 47,
     "metadata": {},
     "output_type": "execute_result"
    }
   ],
   "source": [
    "train_dataset[0][0].shape, train_dataset[0][0].shape"
   ]
  },
  {
   "cell_type": "code",
   "execution_count": 48,
   "metadata": {
    "execution": {
     "iopub.execute_input": "2025-02-01T20:59:05.680165Z",
     "iopub.status.busy": "2025-02-01T20:59:05.679873Z",
     "iopub.status.idle": "2025-02-01T20:59:05.684455Z",
     "shell.execute_reply": "2025-02-01T20:59:05.683608Z",
     "shell.execute_reply.started": "2025-02-01T20:59:05.680143Z"
    },
    "trusted": true
   },
   "outputs": [],
   "source": [
    "train_dataloader = DataLoader(\n",
    "    train_dataset,\n",
    "    batch_size=16,\n",
    "    shuffle=True,\n",
    "    num_workers=0,\n",
    "    pin_memory=True\n",
    ")\n",
    "\n",
    "test_dataloader = DataLoader(\n",
    "    test_dataset,\n",
    "    batch_size=16,\n",
    "    shuffle=False,\n",
    "    num_workers=0,\n",
    "    pin_memory=True\n",
    ")"
   ]
  },
  {
   "cell_type": "code",
   "execution_count": 49,
   "metadata": {
    "execution": {
     "iopub.execute_input": "2025-02-01T20:59:10.11011Z",
     "iopub.status.busy": "2025-02-01T20:59:10.109707Z",
     "iopub.status.idle": "2025-02-01T20:59:10.122882Z",
     "shell.execute_reply": "2025-02-01T20:59:10.122194Z",
     "shell.execute_reply.started": "2025-02-01T20:59:10.110073Z"
    },
    "trusted": true
   },
   "outputs": [
    {
     "data": {
      "text/plain": [
       "RootVolumeRegressor(\n",
       "  (conv_layers): Sequential(\n",
       "    (0): Conv2d(3, 16, kernel_size=(3, 3), stride=(1, 1), padding=(1, 1))\n",
       "    (1): ReLU()\n",
       "    (2): MaxPool2d(kernel_size=2, stride=2, padding=0, dilation=1, ceil_mode=False)\n",
       "    (3): Conv2d(16, 32, kernel_size=(3, 3), stride=(1, 1), padding=(1, 1))\n",
       "    (4): ReLU()\n",
       "    (5): MaxPool2d(kernel_size=2, stride=2, padding=0, dilation=1, ceil_mode=False)\n",
       "    (6): Conv2d(32, 64, kernel_size=(3, 3), stride=(1, 1), padding=(1, 1))\n",
       "    (7): ReLU()\n",
       "    (8): AdaptiveAvgPool2d(output_size=(1, 1))\n",
       "  )\n",
       "  (fc): Sequential(\n",
       "    (0): Flatten(start_dim=1, end_dim=-1)\n",
       "    (1): Linear(in_features=64, out_features=32, bias=True)\n",
       "    (2): ReLU()\n",
       "    (3): Linear(in_features=32, out_features=1, bias=True)\n",
       "  )\n",
       "  (criterion): MSELoss()\n",
       ")"
      ]
     },
     "execution_count": 49,
     "metadata": {},
     "output_type": "execute_result"
    }
   ],
   "source": [
    "# simple CNN for the predictions\n",
    "class RootVolumeRegressor(L.LightningModule):\n",
    "    def __init__(self, lr=1e-3):\n",
    "        super().__init__()\n",
    "        self.lr = lr\n",
    "\n",
    "        self.conv_layers = nn.Sequential(\n",
    "            nn.Conv2d(3, 16, kernel_size=3, padding=1),\n",
    "            nn.ReLU(),\n",
    "            nn.MaxPool2d(2, 2),\n",
    "\n",
    "            nn.Conv2d(16, 32, kernel_size=3, padding=1),\n",
    "            nn.ReLU(),\n",
    "            nn.MaxPool2d(2, 2),\n",
    "\n",
    "            nn.Conv2d(32, 64, kernel_size=3, padding=1),\n",
    "            nn.ReLU(),\n",
    "            nn.AdaptiveAvgPool2d((1, 1))\n",
    "        )\n",
    "\n",
    "        # Fully Connected Regression Head\n",
    "        self.fc = nn.Sequential(\n",
    "            nn.Flatten(),\n",
    "            nn.Linear(64, 32),\n",
    "            nn.ReLU(),\n",
    "            nn.Linear(32, 1)  # Regression output\n",
    "        )\n",
    "\n",
    "        self.criterion = nn.MSELoss()\n",
    "\n",
    "    def forward(self, x):\n",
    "        x = self.conv_layers(x)\n",
    "        x = self.fc(x)\n",
    "        return x\n",
    "\n",
    "    def training_step(self, batch, batch_idx):\n",
    "        images, targets = batch\n",
    "        preds = self(images).squeeze()\n",
    "        loss = self.criterion(preds, targets)\n",
    "        self.log(\"train_loss\", loss, prog_bar=True)\n",
    "        return loss\n",
    "\n",
    "    def validation_step(self, batch, batch_idx):\n",
    "        images, targets = batch\n",
    "        preds = self(images).squeeze()\n",
    "        loss = self.criterion(preds, targets)\n",
    "        self.log(\"val_loss\", loss, prog_bar=True)\n",
    "        return loss\n",
    "\n",
    "    def configure_optimizers(self):\n",
    "        return torch.optim.Adam(self.parameters(), lr=self.lr)\n",
    "\n",
    "model = RootVolumeRegressor()\n",
    "model"
   ]
  },
  {
   "cell_type": "markdown",
   "metadata": {},
   "source": [
    "# Training using torch lightning "
   ]
  },
  {
   "cell_type": "code",
   "execution_count": 123,
   "metadata": {},
   "outputs": [
    {
     "name": "stderr",
     "output_type": "stream",
     "text": [
      "Seed set to 42\n"
     ]
    }
   ],
   "source": [
    "def seed_everything(seed):\n",
    "    torch.manual_seed(seed) \n",
    "    torch.cuda.manual_seed(seed)\n",
    "    torch.cuda.manual_seed_all(seed)\n",
    "    torch.backends.cudnn.deterministic = True \n",
    "    torch.backends.cudnn.benchmark = False\n",
    "    L.pytorch.seed_everything(seed, workers=True)\n",
    "    \n",
    "seed_everything(42)"
   ]
  },
  {
   "cell_type": "code",
   "execution_count": 50,
   "metadata": {
    "execution": {
     "iopub.execute_input": "2025-02-01T20:59:16.639132Z",
     "iopub.status.busy": "2025-02-01T20:59:16.638805Z",
     "iopub.status.idle": "2025-02-01T20:59:47.014913Z",
     "shell.execute_reply": "2025-02-01T20:59:47.014059Z",
     "shell.execute_reply.started": "2025-02-01T20:59:16.639104Z"
    },
    "trusted": true
   },
   "outputs": [
    {
     "name": "stderr",
     "output_type": "stream",
     "text": [
      "GPU available: False, used: False\n",
      "TPU available: False, using: 0 TPU cores\n",
      "HPU available: False, using: 0 HPUs\n",
      "c:\\Users\\Reinhard\\anaconda3\\envs\\deeplearning\\Lib\\site-packages\\lightning\\pytorch\\trainer\\connectors\\logger_connector\\logger_connector.py:76: Starting from v1.9.0, `tensorboardX` has been removed as a dependency of the `lightning.pytorch` package, due to potential conflicts with other packages in the ML ecosystem. For this reason, `logger=True` will use `CSVLogger` as the default logger, unless the `tensorboard` or `tensorboardX` packages are found. Please `pip install lightning[extra]` or one of them to enable TensorBoard support by default\n",
      "c:\\Users\\Reinhard\\anaconda3\\envs\\deeplearning\\Lib\\site-packages\\lightning\\pytorch\\trainer\\configuration_validator.py:70: You defined a `validation_step` but have no `val_dataloader`. Skipping val loop.\n",
      "\n",
      "  | Name        | Type       | Params | Mode \n",
      "---------------------------------------------------\n",
      "0 | conv_layers | Sequential | 23.6 K | train\n",
      "1 | fc          | Sequential | 2.1 K  | train\n",
      "2 | criterion   | MSELoss    | 0      | train\n",
      "---------------------------------------------------\n",
      "25.7 K    Trainable params\n",
      "0         Non-trainable params\n",
      "25.7 K    Total params\n",
      "0.103     Total estimated model params size (MB)\n",
      "16        Modules in train mode\n",
      "0         Modules in eval mode\n",
      "c:\\Users\\Reinhard\\anaconda3\\envs\\deeplearning\\Lib\\site-packages\\lightning\\pytorch\\trainer\\connectors\\data_connector.py:425: The 'train_dataloader' does not have many workers which may be a bottleneck. Consider increasing the value of the `num_workers` argument` to `num_workers=3` in the `DataLoader` to improve performance.\n",
      "c:\\Users\\Reinhard\\anaconda3\\envs\\deeplearning\\Lib\\site-packages\\lightning\\pytorch\\loops\\fit_loop.py:310: The number of training batches (25) is smaller than the logging interval Trainer(log_every_n_steps=50). Set a lower value for log_every_n_steps if you want to see logs for the training epoch.\n"
     ]
    },
    {
     "name": "stdout",
     "output_type": "stream",
     "text": [
      "Epoch 49: 100%|██████████| 25/25 [00:05<00:00,  4.44it/s, v_num=21, train_loss=2.020] "
     ]
    },
    {
     "name": "stderr",
     "output_type": "stream",
     "text": [
      "`Trainer.fit` stopped: `max_epochs=50` reached.\n"
     ]
    },
    {
     "name": "stdout",
     "output_type": "stream",
     "text": [
      "Epoch 49: 100%|██████████| 25/25 [00:05<00:00,  4.42it/s, v_num=21, train_loss=2.020]\n"
     ]
    }
   ],
   "source": [
    "# \n",
    "trainer = L.Trainer(max_epochs = 50)\n",
    "\n",
    "trainer.fit(model, train_dataloader)"
   ]
  },
  {
   "cell_type": "code",
   "execution_count": 51,
   "metadata": {
    "execution": {
     "iopub.execute_input": "2025-02-01T21:10:10.195245Z",
     "iopub.status.busy": "2025-02-01T21:10:10.19488Z",
     "iopub.status.idle": "2025-02-01T21:10:11.495075Z",
     "shell.execute_reply": "2025-02-01T21:10:11.494135Z",
     "shell.execute_reply.started": "2025-02-01T21:10:10.195215Z"
    },
    "trusted": true
   },
   "outputs": [],
   "source": [
    "def get_model_preds(model, dataloader, device=\"cuda\" if torch.cuda.is_available() else \"cpu\"):\n",
    "    preds, targets = [], []\n",
    "    model.to(device)\n",
    "    model.eval()\n",
    "\n",
    "    with torch.no_grad():\n",
    "        for batch in dataloader:\n",
    "            images, labels = batch\n",
    "            images, labels = images.to(device), labels.to(device)\n",
    "\n",
    "            outputs = model(images)  # Predict\n",
    "            preds.extend(outputs.cpu().numpy().flatten())\n",
    "            targets.extend(labels.cpu().numpy().flatten())\n",
    "\n",
    "    return np.array(preds), np.array(targets)\n",
    "\n",
    "train_preds, target = get_model_preds(model, train_dataloader)"
   ]
  },
  {
   "cell_type": "code",
   "execution_count": 52,
   "metadata": {
    "execution": {
     "iopub.execute_input": "2025-02-01T21:10:20.452291Z",
     "iopub.status.busy": "2025-02-01T21:10:20.451969Z",
     "iopub.status.idle": "2025-02-01T21:10:20.459022Z",
     "shell.execute_reply": "2025-02-01T21:10:20.458131Z",
     "shell.execute_reply.started": "2025-02-01T21:10:20.452263Z"
    },
    "trusted": true
   },
   "outputs": [
    {
     "data": {
      "text/plain": [
       "1.4858037"
      ]
     },
     "execution_count": 52,
     "metadata": {},
     "output_type": "execute_result"
    }
   ],
   "source": [
    "def calculate_rmse(preds, targets):\n",
    "    \"\"\"\n",
    "    Compute Root Mean Squared Error (RMSE) between predictions and ground truth targets.\n",
    "    \"\"\"\n",
    "    preds = np.array(preds) if not isinstance(preds, np.ndarray) else preds\n",
    "    targets = np.array(targets) if not isinstance(targets, np.ndarray) else targets\n",
    "    \n",
    "    return np.sqrt(np.mean((preds - targets) ** 2))\n",
    "\n",
    "calculate_rmse(train_preds, target)"
   ]
  },
  {
   "cell_type": "code",
   "execution_count": 53,
   "metadata": {
    "execution": {
     "iopub.execute_input": "2025-02-01T21:12:50.547637Z",
     "iopub.status.busy": "2025-02-01T21:12:50.547296Z",
     "iopub.status.idle": "2025-02-01T21:12:50.96107Z",
     "shell.execute_reply": "2025-02-01T21:12:50.960342Z",
     "shell.execute_reply.started": "2025-02-01T21:12:50.547612Z"
    },
    "trusted": true
   },
   "outputs": [],
   "source": [
    "def get_test_preds(model, dataloader, device=\"cuda\" if torch.cuda.is_available() else \"cpu\"):\n",
    "    preds = []\n",
    "    model.to(device)\n",
    "    model.eval()\n",
    "\n",
    "    with torch.no_grad():\n",
    "        for batch in dataloader:\n",
    "            images = batch if isinstance(batch, torch.Tensor) else batch[0]\n",
    "            images = images.to(device)\n",
    "\n",
    "            outputs = model(images)\n",
    "            preds.extend(outputs.cpu().numpy().flatten()) \n",
    "\n",
    "    return np.array(preds)\n",
    "\n",
    "test_preds = get_test_preds(model, test_dataloader)"
   ]
  },
  {
   "cell_type": "code",
   "execution_count": 54,
   "metadata": {
    "execution": {
     "iopub.execute_input": "2025-02-01T21:13:37.258449Z",
     "iopub.status.busy": "2025-02-01T21:13:37.258122Z",
     "iopub.status.idle": "2025-02-01T21:13:37.271984Z",
     "shell.execute_reply": "2025-02-01T21:13:37.271089Z",
     "shell.execute_reply.started": "2025-02-01T21:13:37.258419Z"
    },
    "trusted": true
   },
   "outputs": [
    {
     "data": {
      "text/html": [
       "<div>\n",
       "<style scoped>\n",
       "    .dataframe tbody tr th:only-of-type {\n",
       "        vertical-align: middle;\n",
       "    }\n",
       "\n",
       "    .dataframe tbody tr th {\n",
       "        vertical-align: top;\n",
       "    }\n",
       "\n",
       "    .dataframe thead th {\n",
       "        text-align: right;\n",
       "    }\n",
       "</style>\n",
       "<table border=\"1\" class=\"dataframe\">\n",
       "  <thead>\n",
       "    <tr style=\"text-align: right;\">\n",
       "      <th></th>\n",
       "      <th>ID</th>\n",
       "      <th>FolderName</th>\n",
       "      <th>PlantNumber</th>\n",
       "      <th>Side</th>\n",
       "      <th>Start</th>\n",
       "      <th>End</th>\n",
       "      <th>Genotype</th>\n",
       "      <th>Stage</th>\n",
       "      <th>image segments</th>\n",
       "      <th>RootVolume</th>\n",
       "    </tr>\n",
       "  </thead>\n",
       "  <tbody>\n",
       "    <tr>\n",
       "      <th>0</th>\n",
       "      <td>ID_208667_Hnkl8q</td>\n",
       "      <td>L5l1h3kekg</td>\n",
       "      <td>7</td>\n",
       "      <td>L</td>\n",
       "      <td>38</td>\n",
       "      <td>50</td>\n",
       "      <td>IITA-TMS-IBA000070</td>\n",
       "      <td>Early</td>\n",
       "      <td>C:\\Users\\Reinhard\\Documents\\computer_vision_pr...</td>\n",
       "      <td>2.196713</td>\n",
       "    </tr>\n",
       "    <tr>\n",
       "      <th>1</th>\n",
       "      <td>ID_285249_Jnjvav</td>\n",
       "      <td>Wgutyon8uu</td>\n",
       "      <td>6</td>\n",
       "      <td>R</td>\n",
       "      <td>23</td>\n",
       "      <td>37</td>\n",
       "      <td>TMEB419</td>\n",
       "      <td>Early</td>\n",
       "      <td>C:\\Users\\Reinhard\\Documents\\computer_vision_pr...</td>\n",
       "      <td>1.945417</td>\n",
       "    </tr>\n",
       "    <tr>\n",
       "      <th>2</th>\n",
       "      <td>ID_697947_Yec6bd</td>\n",
       "      <td>Mylwjeq6tq</td>\n",
       "      <td>3</td>\n",
       "      <td>R</td>\n",
       "      <td>19</td>\n",
       "      <td>42</td>\n",
       "      <td>IBA980581</td>\n",
       "      <td>Early</td>\n",
       "      <td>C:\\Users\\Reinhard\\Documents\\computer_vision_pr...</td>\n",
       "      <td>1.897175</td>\n",
       "    </tr>\n",
       "    <tr>\n",
       "      <th>3</th>\n",
       "      <td>ID_534638_X3j91f</td>\n",
       "      <td>Pfp24vx905</td>\n",
       "      <td>2</td>\n",
       "      <td>R</td>\n",
       "      <td>27</td>\n",
       "      <td>34</td>\n",
       "      <td>TMEB419</td>\n",
       "      <td>Early</td>\n",
       "      <td>C:\\Users\\Reinhard\\Documents\\computer_vision_pr...</td>\n",
       "      <td>1.951070</td>\n",
       "    </tr>\n",
       "    <tr>\n",
       "      <th>4</th>\n",
       "      <td>ID_929298_Xvymuz</td>\n",
       "      <td>Mrw7chmalv</td>\n",
       "      <td>4</td>\n",
       "      <td>R</td>\n",
       "      <td>30</td>\n",
       "      <td>43</td>\n",
       "      <td>IBA154810</td>\n",
       "      <td>Early</td>\n",
       "      <td>C:\\Users\\Reinhard\\Documents\\computer_vision_pr...</td>\n",
       "      <td>1.907450</td>\n",
       "    </tr>\n",
       "  </tbody>\n",
       "</table>\n",
       "</div>"
      ],
      "text/plain": [
       "                 ID  FolderName  PlantNumber Side  Start  End  \\\n",
       "0  ID_208667_Hnkl8q  L5l1h3kekg            7    L     38   50   \n",
       "1  ID_285249_Jnjvav  Wgutyon8uu            6    R     23   37   \n",
       "2  ID_697947_Yec6bd  Mylwjeq6tq            3    R     19   42   \n",
       "3  ID_534638_X3j91f  Pfp24vx905            2    R     27   34   \n",
       "4  ID_929298_Xvymuz  Mrw7chmalv            4    R     30   43   \n",
       "\n",
       "             Genotype  Stage  \\\n",
       "0  IITA-TMS-IBA000070  Early   \n",
       "1             TMEB419  Early   \n",
       "2           IBA980581  Early   \n",
       "3             TMEB419  Early   \n",
       "4           IBA154810  Early   \n",
       "\n",
       "                                      image segments  RootVolume  \n",
       "0  C:\\Users\\Reinhard\\Documents\\computer_vision_pr...    2.196713  \n",
       "1  C:\\Users\\Reinhard\\Documents\\computer_vision_pr...    1.945417  \n",
       "2  C:\\Users\\Reinhard\\Documents\\computer_vision_pr...    1.897175  \n",
       "3  C:\\Users\\Reinhard\\Documents\\computer_vision_pr...    1.951070  \n",
       "4  C:\\Users\\Reinhard\\Documents\\computer_vision_pr...    1.907450  "
      ]
     },
     "execution_count": 54,
     "metadata": {},
     "output_type": "execute_result"
    }
   ],
   "source": [
    "test_df['RootVolume'] = test_preds\n",
    "test_df.head()"
   ]
  },
  {
   "cell_type": "code",
   "execution_count": null,
   "metadata": {
    "execution": {
     "iopub.execute_input": "2025-02-01T21:15:04.369506Z",
     "iopub.status.busy": "2025-02-01T21:15:04.369201Z",
     "iopub.status.idle": "2025-02-01T21:15:04.380344Z",
     "shell.execute_reply": "2025-02-01T21:15:04.379666Z",
     "shell.execute_reply.started": "2025-02-01T21:15:04.369484Z"
    },
    "trusted": true
   },
   "outputs": [
    {
     "data": {
      "text/html": [
       "<div>\n",
       "<style scoped>\n",
       "    .dataframe tbody tr th:only-of-type {\n",
       "        vertical-align: middle;\n",
       "    }\n",
       "\n",
       "    .dataframe tbody tr th {\n",
       "        vertical-align: top;\n",
       "    }\n",
       "\n",
       "    .dataframe thead th {\n",
       "        text-align: right;\n",
       "    }\n",
       "</style>\n",
       "<table border=\"1\" class=\"dataframe\">\n",
       "  <thead>\n",
       "    <tr style=\"text-align: right;\">\n",
       "      <th></th>\n",
       "      <th>ID</th>\n",
       "      <th>RootVolume</th>\n",
       "    </tr>\n",
       "  </thead>\n",
       "  <tbody>\n",
       "    <tr>\n",
       "      <th>0</th>\n",
       "      <td>ID_208667_Hnkl8q</td>\n",
       "      <td>2.196713</td>\n",
       "    </tr>\n",
       "    <tr>\n",
       "      <th>1</th>\n",
       "      <td>ID_285249_Jnjvav</td>\n",
       "      <td>1.945417</td>\n",
       "    </tr>\n",
       "    <tr>\n",
       "      <th>2</th>\n",
       "      <td>ID_697947_Yec6bd</td>\n",
       "      <td>1.897175</td>\n",
       "    </tr>\n",
       "    <tr>\n",
       "      <th>3</th>\n",
       "      <td>ID_534638_X3j91f</td>\n",
       "      <td>1.951070</td>\n",
       "    </tr>\n",
       "    <tr>\n",
       "      <th>4</th>\n",
       "      <td>ID_929298_Xvymuz</td>\n",
       "      <td>1.907450</td>\n",
       "    </tr>\n",
       "  </tbody>\n",
       "</table>\n",
       "</div>"
      ],
      "text/plain": [
       "                 ID  RootVolume\n",
       "0  ID_208667_Hnkl8q    2.196713\n",
       "1  ID_285249_Jnjvav    1.945417\n",
       "2  ID_697947_Yec6bd    1.897175\n",
       "3  ID_534638_X3j91f    1.951070\n",
       "4  ID_929298_Xvymuz    1.907450"
      ]
     },
     "execution_count": 55,
     "metadata": {},
     "output_type": "execute_result"
    },
    {
     "ename": "",
     "evalue": "",
     "output_type": "error",
     "traceback": [
      "\u001b[1;31mThe Kernel crashed while executing code in the current cell or a previous cell. \n",
      "\u001b[1;31mPlease review the code in the cell(s) to identify a possible cause of the failure. \n",
      "\u001b[1;31mClick <a href='https://aka.ms/vscodeJupyterKernelCrash'>here</a> for more info. \n",
      "\u001b[1;31mView Jupyter <a href='command:jupyter.viewOutput'>log</a> for further details."
     ]
    }
   ],
   "source": [
    "submission = test_df[['ID', 'RootVolume']]\n",
    "submission.to_csv(\"submission_15.csv\", index = False)\n",
    "submission.head()"
   ]
  },
  {
   "cell_type": "code",
   "execution_count": null,
   "metadata": {
    "trusted": true
   },
   "outputs": [],
   "source": []
  },
  {
   "cell_type": "markdown",
   "metadata": {},
   "source": [
    "### Assesing the performance of the segmentation models"
   ]
  },
  {
   "cell_type": "code",
   "execution_count": 84,
   "metadata": {},
   "outputs": [],
   "source": [
    "import os \n",
    "import random\n",
    "import cv2\n",
    "import torch\n",
    "import numpy as np\n",
    "import matplotlib.pyplot as plt\n",
    "from ultralytics import YOLO"
   ]
  },
  {
   "cell_type": "code",
   "execution_count": 101,
   "metadata": {},
   "outputs": [],
   "source": [
    "test_images_dir = \"data/test/\"\n",
    "model_paths = {\n",
    "    \"early\": \"Models/Models/best_early.pt\",\n",
    "    \"late\": \"Models/Models/best_late.pt\",\n",
    "    \"full\": \"Models/Models/best_full.pt\"\n",
    "}"
   ]
  },
  {
   "cell_type": "code",
   "execution_count": 105,
   "metadata": {},
   "outputs": [],
   "source": [
    "num_samples = 10\n",
    "random_folders = random.sample(os.listdir(test_images_dir), num_samples)\n",
    "test_images = []\n",
    "for folder in random_folders:\n",
    "    folder_path = os.path.join(test_images_dir, folder)\n",
    "    images = [os.path.join(folder_path, img) for img in os.listdir(folder_path) if img.endswith(('.png', '.jpg', '.jpeg'))]\n",
    "    if images:\n",
    "        test_images.append(random.choice(images))\n",
    "\n",
    "\n",
    "# Load the models \n",
    "models = {name: YOLO(path) for name, path in model_paths.items()}"
   ]
  },
  {
   "cell_type": "code",
   "execution_count": 123,
   "metadata": {},
   "outputs": [],
   "source": [
    "# Run inference and visualize results\n",
    "def visualize_results(image_path, models):\n",
    "    original_img = cv2.imread(image_path)\n",
    "    original_img = cv2.cvtColor(original_img, cv2.COLOR_BGR2RGB)\n",
    "    \n",
    "    fig, axes = plt.subplots(1, len(models) + 1, figsize=(15, 5))\n",
    "    \n",
    "    # Show original image\n",
    "    axes[0].imshow(original_img)\n",
    "    axes[0].set_title(\"Original Image\")\n",
    "    axes[0].axis(\"off\")\n",
    "    \n",
    "    # Process each model\n",
    "    for i, (model_name, model) in enumerate(models.items()):\n",
    "        results = model(image_path, conf= 0.2)[0]  # Get prediction\n",
    "        \n",
    "        # Create a blank mask\n",
    "        mask = np.zeros_like(original_img[:, :, 0], dtype=np.uint8)\n",
    "        \n",
    "        # Draw segmentation masks\n",
    "        if results.masks is not None:\n",
    "            for seg in results.masks.xy:\n",
    "                seg = np.array(seg, np.int32).reshape((-1, 1, 2))\n",
    "                cv2.fillPoly(mask, [seg], 255)\n",
    "\n",
    "        # Overlay mask on image\n",
    "        overlay = original_img.copy()\n",
    "        overlay[mask > 0] = (255, 0, 0)  # Highlight mask in red\n",
    "\n",
    "        axes[i+1].imshow(overlay)\n",
    "        axes[i+1].set_title(f\"{model_name} Model\")\n",
    "        axes[i+1].axis(\"off\")\n",
    "    \n",
    "    plt.show()\n"
   ]
  },
  {
   "cell_type": "code",
   "execution_count": 139,
   "metadata": {},
   "outputs": [
    {
     "name": "stdout",
     "output_type": "stream",
     "text": [
      "\n",
      "image 1/1 c:\\Users\\Reinhard\\Documents\\computer_vision_projects\\root_volume_estimation_challenge\\data\\test\\Vlcavd4dwj\\Vlcavd4dwj_R_061.png: 32x640 (no detections), 2242.1ms\n",
      "Speed: 43.2ms preprocess, 2242.1ms inference, 34.0ms postprocess per image at shape (1, 3, 32, 640)\n",
      "\n",
      "image 1/1 c:\\Users\\Reinhard\\Documents\\computer_vision_projects\\root_volume_estimation_challenge\\data\\test\\Vlcavd4dwj\\Vlcavd4dwj_R_061.png: 32x640 (no detections), 1986.4ms\n",
      "Speed: 2.6ms preprocess, 1986.4ms inference, 14.1ms postprocess per image at shape (1, 3, 32, 640)\n",
      "\n",
      "image 1/1 c:\\Users\\Reinhard\\Documents\\computer_vision_projects\\root_volume_estimation_challenge\\data\\test\\Vlcavd4dwj\\Vlcavd4dwj_R_061.png: 32x640 (no detections), 2626.6ms\n",
      "Speed: 11.9ms preprocess, 2626.6ms inference, 35.8ms postprocess per image at shape (1, 3, 32, 640)\n"
     ]
    },
    {
     "data": {
      "image/png": "[encoded data removed]",
      "text/plain": [
       "<Figure size 1500x500 with 4 Axes>"
      ]
     },
     "metadata": {},
     "output_type": "display_data"
    },
    {
     "name": "stdout",
     "output_type": "stream",
     "text": [
      "\n",
      "image 1/1 c:\\Users\\Reinhard\\Documents\\computer_vision_projects\\root_volume_estimation_challenge\\data\\test\\Vlcavd4dwj\\Vlcavd4dwj_L_057.png: 32x640 (no detections), 913.0ms\n",
      "Speed: 20.3ms preprocess, 913.0ms inference, 0.6ms postprocess per image at shape (1, 3, 32, 640)\n",
      "\n",
      "image 1/1 c:\\Users\\Reinhard\\Documents\\computer_vision_projects\\root_volume_estimation_challenge\\data\\test\\Vlcavd4dwj\\Vlcavd4dwj_L_057.png: 32x640 (no detections), 1161.3ms\n",
      "Speed: 0.8ms preprocess, 1161.3ms inference, 0.7ms postprocess per image at shape (1, 3, 32, 640)\n",
      "\n",
      "image 1/1 c:\\Users\\Reinhard\\Documents\\computer_vision_projects\\root_volume_estimation_challenge\\data\\test\\Vlcavd4dwj\\Vlcavd4dwj_L_057.png: 32x640 (no detections), 726.1ms\n",
      "Speed: 0.9ms preprocess, 726.1ms inference, 0.5ms postprocess per image at shape (1, 3, 32, 640)\n"
     ]
    },
    {
     "data": {
      "image/png": "[encoded data removed]",
      "text/plain": [
       "<Figure size 1500x500 with 4 Axes>"
      ]
     },
     "metadata": {},
     "output_type": "display_data"
    },
    {
     "name": "stdout",
     "output_type": "stream",
     "text": [
      "\n",
      "image 1/1 c:\\Users\\Reinhard\\Documents\\computer_vision_projects\\root_volume_estimation_challenge\\data\\test\\Vlcavd4dwj\\Vlcavd4dwj_R_002.png: 32x640 2 roots, 904.2ms\n",
      "Speed: 0.7ms preprocess, 904.2ms inference, 99.2ms postprocess per image at shape (1, 3, 32, 640)\n",
      "\n",
      "image 1/1 c:\\Users\\Reinhard\\Documents\\computer_vision_projects\\root_volume_estimation_challenge\\data\\test\\Vlcavd4dwj\\Vlcavd4dwj_R_002.png: 32x640 8 roots, 428.2ms\n",
      "Speed: 10.6ms preprocess, 428.2ms inference, 5.2ms postprocess per image at shape (1, 3, 32, 640)\n",
      "\n",
      "image 1/1 c:\\Users\\Reinhard\\Documents\\computer_vision_projects\\root_volume_estimation_challenge\\data\\test\\Vlcavd4dwj\\Vlcavd4dwj_R_002.png: 32x640 6 roots, 795.1ms\n",
      "Speed: 0.8ms preprocess, 795.1ms inference, 4.0ms postprocess per image at shape (1, 3, 32, 640)\n"
     ]
    },
    {
     "data": {
      "image/png": "[encoded data removed]",
      "text/plain": [
       "<Figure size 1500x500 with 4 Axes>"
      ]
     },
     "metadata": {},
     "output_type": "display_data"
    },
    {
     "name": "stdout",
     "output_type": "stream",
     "text": [
      "\n",
      "image 1/1 c:\\Users\\Reinhard\\Documents\\computer_vision_projects\\root_volume_estimation_challenge\\data\\test\\Vlcavd4dwj\\Vlcavd4dwj_L_015.png: 32x640 (no detections), 330.9ms\n",
      "Speed: 1.6ms preprocess, 330.9ms inference, 0.5ms postprocess per image at shape (1, 3, 32, 640)\n",
      "\n",
      "image 1/1 c:\\Users\\Reinhard\\Documents\\computer_vision_projects\\root_volume_estimation_challenge\\data\\test\\Vlcavd4dwj\\Vlcavd4dwj_L_015.png: 32x640 1 root, 365.5ms\n",
      "Speed: 0.6ms preprocess, 365.5ms inference, 2.5ms postprocess per image at shape (1, 3, 32, 640)\n",
      "\n",
      "image 1/1 c:\\Users\\Reinhard\\Documents\\computer_vision_projects\\root_volume_estimation_challenge\\data\\test\\Vlcavd4dwj\\Vlcavd4dwj_L_015.png: 32x640 (no detections), 336.3ms\n",
      "Speed: 0.8ms preprocess, 336.3ms inference, 0.5ms postprocess per image at shape (1, 3, 32, 640)\n"
     ]
    },
    {
     "data": {
      "image/png": "[encoded data removed]",
      "text/plain": [
       "<Figure size 1500x500 with 4 Axes>"
      ]
     },
     "metadata": {},
     "output_type": "display_data"
    },
    {
     "name": "stdout",
     "output_type": "stream",
     "text": [
      "\n",
      "image 1/1 c:\\Users\\Reinhard\\Documents\\computer_vision_projects\\root_volume_estimation_challenge\\data\\test\\Vlcavd4dwj\\Vlcavd4dwj_L_059.png: 32x640 (no detections), 380.2ms\n",
      "Speed: 0.5ms preprocess, 380.2ms inference, 0.4ms postprocess per image at shape (1, 3, 32, 640)\n",
      "\n",
      "image 1/1 c:\\Users\\Reinhard\\Documents\\computer_vision_projects\\root_volume_estimation_challenge\\data\\test\\Vlcavd4dwj\\Vlcavd4dwj_L_059.png: 32x640 (no detections), 346.2ms\n",
      "Speed: 0.6ms preprocess, 346.2ms inference, 0.8ms postprocess per image at shape (1, 3, 32, 640)\n",
      "\n",
      "image 1/1 c:\\Users\\Reinhard\\Documents\\computer_vision_projects\\root_volume_estimation_challenge\\data\\test\\Vlcavd4dwj\\Vlcavd4dwj_L_059.png: 32x640 (no detections), 346.4ms\n",
      "Speed: 0.7ms preprocess, 346.4ms inference, 0.5ms postprocess per image at shape (1, 3, 32, 640)\n"
     ]
    },
    {
     "data": {
      "image/png": "[encoded data removed]",
      "text/plain": [
       "<Figure size 1500x500 with 4 Axes>"
      ]
     },
     "metadata": {},
     "output_type": "display_data"
    }
   ],
   "source": [
    "for img_path in test_images:\n",
    "    visualize_results(img_path, models)"
   ]
  },
  {
   "cell_type": "markdown",
   "metadata": {},
   "source": [
    "## Volume stimation"
   ]
  },
  {
   "cell_type": "code",
   "execution_count": 96,
   "metadata": {},
   "outputs": [],
   "source": [
    "import os\n",
    "import random\n",
    "import cv2\n",
    "import torch\n",
    "import numpy \n",
    "import pandas\n",
    "import matplotlib.pyplot as plt\n",
    "from ultralytics import YOLO\n",
    "from sklearn.metrics import mean_squared_error"
   ]
  },
  {
   "cell_type": "code",
   "execution_count": 108,
   "metadata": {},
   "outputs": [],
   "source": [
    "test_images_dir = \"data/test/\"\n",
    "train_csv = \"Train.csv\"\n",
    "model_paths = {\n",
    "    \"early\": \"Models/Models/best_early.pt\",\n",
    "    \"late\": \"Models/Models/best_late.pt\",\n",
    "    \"full\": \"Models/Models/best_full.pt\"\n",
    "}\n"
   ]
  },
  {
   "cell_type": "code",
   "execution_count": 98,
   "metadata": {},
   "outputs": [],
   "source": [
    "train_data = pd.read_csv(train_csv)"
   ]
  },
  {
   "cell_type": "code",
   "execution_count": 110,
   "metadata": {},
   "outputs": [],
   "source": [
    "num_samples = 5\n",
    "random_folders = random.sample(os.listdir(test_images_dir), num_samples)\n",
    "test_images = []\n",
    "for foler in random_folders:\n",
    "    folder_path = os.path.join(test_images_dir, folder)\n",
    "    images = [os.path.join(folder_path, img) for img in os.listdir(folder_path) if img.endswith(('.png', '.jpg', '.jpeg'))]\n",
    "    if images:\n",
    "        test_images.append(random.choice(images))"
   ]
  },
  {
   "cell_type": "code",
   "execution_count": 112,
   "metadata": {},
   "outputs": [],
   "source": [
    "models = {name: YOLO(path) for name, path in model_paths.items()}"
   ]
  },
  {
   "cell_type": "code",
   "execution_count": 113,
   "metadata": {},
   "outputs": [
    {
     "data": {
      "text/html": [
       "<div>\n",
       "<style scoped>\n",
       "    .dataframe tbody tr th:only-of-type {\n",
       "        vertical-align: middle;\n",
       "    }\n",
       "\n",
       "    .dataframe tbody tr th {\n",
       "        vertical-align: top;\n",
       "    }\n",
       "\n",
       "    .dataframe thead th {\n",
       "        text-align: right;\n",
       "    }\n",
       "</style>\n",
       "<table border=\"1\" class=\"dataframe\">\n",
       "  <thead>\n",
       "    <tr style=\"text-align: right;\">\n",
       "      <th></th>\n",
       "      <th>ID</th>\n",
       "      <th>FolderName</th>\n",
       "      <th>PlantNumber</th>\n",
       "      <th>Side</th>\n",
       "      <th>Start</th>\n",
       "      <th>End</th>\n",
       "      <th>RootVolume</th>\n",
       "      <th>Genotype</th>\n",
       "      <th>Stage</th>\n",
       "    </tr>\n",
       "  </thead>\n",
       "  <tbody>\n",
       "    <tr>\n",
       "      <th>0</th>\n",
       "      <td>ID_826322_Lbmaya</td>\n",
       "      <td>A6dzrkjqvl</td>\n",
       "      <td>3</td>\n",
       "      <td>L</td>\n",
       "      <td>33</td>\n",
       "      <td>42</td>\n",
       "      <td>0.9</td>\n",
       "      <td>IITA-TMS-IBA000070</td>\n",
       "      <td>Early</td>\n",
       "    </tr>\n",
       "    <tr>\n",
       "      <th>1</th>\n",
       "      <td>ID_718181_Bslpwx</td>\n",
       "      <td>Ypktwvqjbn</td>\n",
       "      <td>7</td>\n",
       "      <td>L</td>\n",
       "      <td>33</td>\n",
       "      <td>41</td>\n",
       "      <td>1.5</td>\n",
       "      <td>IBA154810</td>\n",
       "      <td>Early</td>\n",
       "    </tr>\n",
       "    <tr>\n",
       "      <th>2</th>\n",
       "      <td>ID_465762_L1n61d</td>\n",
       "      <td>Ox18ob0syv</td>\n",
       "      <td>4</td>\n",
       "      <td>R</td>\n",
       "      <td>21</td>\n",
       "      <td>28</td>\n",
       "      <td>2.7</td>\n",
       "      <td>IBA980581</td>\n",
       "      <td>Early</td>\n",
       "    </tr>\n",
       "    <tr>\n",
       "      <th>3</th>\n",
       "      <td>ID_626872_Pbmx2e</td>\n",
       "      <td>Hqcekwpxgu</td>\n",
       "      <td>2</td>\n",
       "      <td>R</td>\n",
       "      <td>30</td>\n",
       "      <td>39</td>\n",
       "      <td>2.6</td>\n",
       "      <td>IITA-TMS-IBA000070</td>\n",
       "      <td>Early</td>\n",
       "    </tr>\n",
       "    <tr>\n",
       "      <th>4</th>\n",
       "      <td>ID_518846_Opko8c</td>\n",
       "      <td>Ummqfuetoc</td>\n",
       "      <td>1</td>\n",
       "      <td>R</td>\n",
       "      <td>17</td>\n",
       "      <td>26</td>\n",
       "      <td>2.7</td>\n",
       "      <td>IBA980581</td>\n",
       "      <td>Early</td>\n",
       "    </tr>\n",
       "  </tbody>\n",
       "</table>\n",
       "</div>"
      ],
      "text/plain": [
       "                 ID  FolderName  PlantNumber Side  Start  End  RootVolume  \\\n",
       "0  ID_826322_Lbmaya  A6dzrkjqvl            3    L     33   42         0.9   \n",
       "1  ID_718181_Bslpwx  Ypktwvqjbn            7    L     33   41         1.5   \n",
       "2  ID_465762_L1n61d  Ox18ob0syv            4    R     21   28         2.7   \n",
       "3  ID_626872_Pbmx2e  Hqcekwpxgu            2    R     30   39         2.6   \n",
       "4  ID_518846_Opko8c  Ummqfuetoc            1    R     17   26         2.7   \n",
       "\n",
       "             Genotype  Stage  \n",
       "0  IITA-TMS-IBA000070  Early  \n",
       "1           IBA154810  Early  \n",
       "2           IBA980581  Early  \n",
       "3  IITA-TMS-IBA000070  Early  \n",
       "4           IBA980581  Early  "
      ]
     },
     "execution_count": 113,
     "metadata": {},
     "output_type": "execute_result"
    }
   ],
   "source": [
    "train_data.head()"
   ]
  },
  {
   "cell_type": "code",
   "execution_count": null,
   "metadata": {},
   "outputs": [],
   "source": [
    "def estimate_volume(image_path, model):\n",
    "    original_img = cv2.imread(image_path)\n",
    "    original_img = cv2.cvtColor(original_img, cv2.COLOR_BGR2RGB)\n",
    "\n",
    "    results = model(image_path, conf=0.2)[0]\n",
    "\n",
    "    mask = np.zeros_like(original_img[:, :, 0], dtype=np.uint8)\n",
    "\n",
    "    if results.masks is not None:\n",
    "        for seg in results.masks.xy:\n",
    "            seg = np.array(seg, np.int32).reshape((-1, 1, 2))\n",
    "            cv2.fillPoly(mask, [seg], 255)\n",
    "    \n",
    "    root_area = np.sum(mask > 0)\n",
    "\n",
    "    depth_layer = 0.5\n",
    "    volume = root_area * depth_layer   \n",
    "\n",
    "    return volume"
   ]
  },
  {
   "cell_type": "code",
   "execution_count": 119,
   "metadata": {},
   "outputs": [],
   "source": [
    "predictions = {\"image\": [], \"early\": [], \"late\": [], \"full\": []}"
   ]
  },
  {
   "cell_type": "code",
   "execution_count": 120,
   "metadata": {},
   "outputs": [
    {
     "name": "stdout",
     "output_type": "stream",
     "text": [
      "\n",
      "image 1/1 c:\\Users\\Reinhard\\Documents\\computer_vision_projects\\root_volume_estimation_challenge\\data\\test\\Vlcavd4dwj\\Vlcavd4dwj_R_061.png: 32x640 (no detections), 736.2ms\n",
      "Speed: 39.2ms preprocess, 736.2ms inference, 21.6ms postprocess per image at shape (1, 3, 32, 640)\n",
      "\n",
      "image 1/1 c:\\Users\\Reinhard\\Documents\\computer_vision_projects\\root_volume_estimation_challenge\\data\\test\\Vlcavd4dwj\\Vlcavd4dwj_R_061.png: 32x640 (no detections), 696.0ms\n",
      "Speed: 34.1ms preprocess, 696.0ms inference, 18.4ms postprocess per image at shape (1, 3, 32, 640)\n",
      "\n",
      "image 1/1 c:\\Users\\Reinhard\\Documents\\computer_vision_projects\\root_volume_estimation_challenge\\data\\test\\Vlcavd4dwj\\Vlcavd4dwj_R_061.png: 32x640 (no detections), 1054.7ms\n",
      "Speed: 47.6ms preprocess, 1054.7ms inference, 30.4ms postprocess per image at shape (1, 3, 32, 640)\n",
      "\n",
      "image 1/1 c:\\Users\\Reinhard\\Documents\\computer_vision_projects\\root_volume_estimation_challenge\\data\\test\\Vlcavd4dwj\\Vlcavd4dwj_L_057.png: 32x640 (no detections), 1372.8ms\n",
      "Speed: 4.8ms preprocess, 1372.8ms inference, 1.6ms postprocess per image at shape (1, 3, 32, 640)\n",
      "\n",
      "image 1/1 c:\\Users\\Reinhard\\Documents\\computer_vision_projects\\root_volume_estimation_challenge\\data\\test\\Vlcavd4dwj\\Vlcavd4dwj_L_057.png: 32x640 (no detections), 2423.0ms\n",
      "Speed: 1.0ms preprocess, 2423.0ms inference, 47.1ms postprocess per image at shape (1, 3, 32, 640)\n",
      "\n",
      "image 1/1 c:\\Users\\Reinhard\\Documents\\computer_vision_projects\\root_volume_estimation_challenge\\data\\test\\Vlcavd4dwj\\Vlcavd4dwj_L_057.png: 32x640 (no detections), 1421.7ms\n",
      "Speed: 90.1ms preprocess, 1421.7ms inference, 2.3ms postprocess per image at shape (1, 3, 32, 640)\n",
      "\n",
      "image 1/1 c:\\Users\\Reinhard\\Documents\\computer_vision_projects\\root_volume_estimation_challenge\\data\\test\\Vlcavd4dwj\\Vlcavd4dwj_R_002.png: 32x640 2 roots, 1166.6ms\n",
      "Speed: 2.7ms preprocess, 1166.6ms inference, 124.7ms postprocess per image at shape (1, 3, 32, 640)\n",
      "\n",
      "image 1/1 c:\\Users\\Reinhard\\Documents\\computer_vision_projects\\root_volume_estimation_challenge\\data\\test\\Vlcavd4dwj\\Vlcavd4dwj_R_002.png: 32x640 5 roots, 1229.3ms\n",
      "Speed: 1.6ms preprocess, 1229.3ms inference, 7.6ms postprocess per image at shape (1, 3, 32, 640)\n",
      "\n",
      "image 1/1 c:\\Users\\Reinhard\\Documents\\computer_vision_projects\\root_volume_estimation_challenge\\data\\test\\Vlcavd4dwj\\Vlcavd4dwj_R_002.png: 32x640 2 roots, 781.5ms\n",
      "Speed: 3.6ms preprocess, 781.5ms inference, 3.6ms postprocess per image at shape (1, 3, 32, 640)\n",
      "\n",
      "image 1/1 c:\\Users\\Reinhard\\Documents\\computer_vision_projects\\root_volume_estimation_challenge\\data\\test\\Vlcavd4dwj\\Vlcavd4dwj_L_015.png: 32x640 (no detections), 469.3ms\n",
      "Speed: 6.2ms preprocess, 469.3ms inference, 0.8ms postprocess per image at shape (1, 3, 32, 640)\n",
      "\n",
      "image 1/1 c:\\Users\\Reinhard\\Documents\\computer_vision_projects\\root_volume_estimation_challenge\\data\\test\\Vlcavd4dwj\\Vlcavd4dwj_L_015.png: 32x640 (no detections), 482.0ms\n",
      "Speed: 0.6ms preprocess, 482.0ms inference, 0.6ms postprocess per image at shape (1, 3, 32, 640)\n",
      "\n",
      "image 1/1 c:\\Users\\Reinhard\\Documents\\computer_vision_projects\\root_volume_estimation_challenge\\data\\test\\Vlcavd4dwj\\Vlcavd4dwj_L_015.png: 32x640 (no detections), 451.8ms\n",
      "Speed: 2.7ms preprocess, 451.8ms inference, 0.5ms postprocess per image at shape (1, 3, 32, 640)\n",
      "\n",
      "image 1/1 c:\\Users\\Reinhard\\Documents\\computer_vision_projects\\root_volume_estimation_challenge\\data\\test\\Vlcavd4dwj\\Vlcavd4dwj_L_059.png: 32x640 (no detections), 466.4ms\n",
      "Speed: 1.3ms preprocess, 466.4ms inference, 0.6ms postprocess per image at shape (1, 3, 32, 640)\n",
      "\n",
      "image 1/1 c:\\Users\\Reinhard\\Documents\\computer_vision_projects\\root_volume_estimation_challenge\\data\\test\\Vlcavd4dwj\\Vlcavd4dwj_L_059.png: 32x640 (no detections), 453.7ms\n",
      "Speed: 1.2ms preprocess, 453.7ms inference, 0.3ms postprocess per image at shape (1, 3, 32, 640)\n",
      "\n",
      "image 1/1 c:\\Users\\Reinhard\\Documents\\computer_vision_projects\\root_volume_estimation_challenge\\data\\test\\Vlcavd4dwj\\Vlcavd4dwj_L_059.png: 32x640 (no detections), 359.0ms\n",
      "Speed: 0.7ms preprocess, 359.0ms inference, 0.5ms postprocess per image at shape (1, 3, 32, 640)\n"
     ]
    }
   ],
   "source": [
    "for img_path in test_images:\n",
    "    img_name = os.path.basename(img_path)\n",
    "    predictions[\"image\"].append(img_name)\n",
    "    \n",
    "    for model_name, model in models.items():\n",
    "        volume = estimate_volume(img_path, model)\n",
    "        predictions[model_name].append(volume)\n"
   ]
  },
  {
   "cell_type": "code",
   "execution_count": 121,
   "metadata": {},
   "outputs": [],
   "source": [
    "pred_df = pd.DataFrame(predictions)\n"
   ]
  },
  {
   "cell_type": "code",
   "execution_count": 122,
   "metadata": {},
   "outputs": [
    {
     "name": "stdout",
     "output_type": "stream",
     "text": [
      "                  image  early    late   full\n",
      "0  Vlcavd4dwj_R_061.png    0.0     0.0    0.0\n",
      "1  Vlcavd4dwj_L_057.png    0.0     0.0    0.0\n",
      "2  Vlcavd4dwj_R_002.png  712.5  1981.5  466.0\n",
      "3  Vlcavd4dwj_L_015.png    0.0     0.0    0.0\n",
      "4  Vlcavd4dwj_L_059.png    0.0     0.0    0.0\n"
     ]
    }
   ],
   "source": [
    "print(pred_df)"
   ]
  },
  {
   "cell_type": "markdown",
   "metadata": {},
   "source": [
    "## Improved tweaked model"
   ]
  },
  {
   "cell_type": "code",
   "execution_count": 188,
   "metadata": {},
   "outputs": [],
   "source": [
    "import torch\n",
    "import torchvision.transforms as transforms\n",
    "from torch.utils.data import DataLoader, Dataset\n",
    "from PIL import Image\n",
    "import pandas as pd\n",
    "import os"
   ]
  },
  {
   "cell_type": "code",
   "execution_count": 231,
   "metadata": {},
   "outputs": [],
   "source": [
    "class CassavaDataset(Dataset):\n",
    "    def __init__(self, csv_file, img_dir, transform=None):\n",
    "        self.data = pd.read_csv(csv_file)\n",
    "        self.img_dir = img_dir\n",
    "        self.transform = transform\n",
    "\n",
    "\n",
    "        #Filter  out no-existing folders\n",
    "        self.valid_samples = self.data[self.data['FolderName'].apply(lambda x: os.path.exists(os.path.join(self.img_dir, x)))].reset_index(drop=True)   \n",
    "\n",
    "    def __len__(self):\n",
    "        return len(self.data)\n",
    "    \n",
    "    def __getitem__(self, idx):\n",
    "        folder_name = self.data.iloc[idx]['FolderName']\n",
    "        img_path = os.path.join(self.img_dir, folder_name)\n",
    "\n",
    "        possible_extensions = ['.png', '.jpg', '.jpeg']\n",
    "        image_file = None\n",
    "        for ext in possible_extensions:\n",
    "            temp_path = img_path + ext\n",
    "            if os.path.exists(temp_path):\n",
    "                image_file = temp_path\n",
    "                break\n",
    "\n",
    "        if image_file is None:\n",
    "            new_idx = random.randint(0, len(self.valid_samples) - 1)\n",
    "            return self.__getitem__(new_idx)\n",
    "        \n",
    "        image = Image.open(image_file).convert('RGB')\n",
    "\n",
    "        if self.transform:\n",
    "            image = self.transform(image)\n",
    "\n",
    "        label = self.data.iloc[idx]['RootVolume']\n",
    "\n",
    "        return image, label\n",
    "                     "
   ]
  },
  {
   "cell_type": "code",
   "execution_count": 232,
   "metadata": {},
   "outputs": [],
   "source": [
    "# Unfreeze only the last few layers\n",
    "for param in model.resnet.fc.parameters():\n",
    "    param.requires_grad = True  # Train only the final layer"
   ]
  },
  {
   "cell_type": "code",
   "execution_count": 233,
   "metadata": {},
   "outputs": [],
   "source": [
    "transform = transforms.Compose([\n",
    "    transforms.Resize((224, 224)),\n",
    "    transforms.ToTensor(),\n",
    "    transforms.Normalize(mean=[0.485, 0.456, 0.406], std=[0.229, 0.224, 0.225])\n",
    "\n",
    "])\n",
    "\n",
    "train_dataset = CassavaDataset(csv_file='Train.csv',img_dir = 'data/train', transform=transform)\n",
    "val_dataset = CassavaDataset(csv_file='Test.csv',img_dir = 'data/test', transform=transform)"
   ]
  },
  {
   "cell_type": "code",
   "execution_count": 234,
   "metadata": {},
   "outputs": [],
   "source": [
    "train_loader = DataLoader(train_dataset, batch_size=32, shuffle=True)\n",
    "val_loader = DataLoader(val_dataset, batch_size=32, shuffle=False)  "
   ]
  },
  {
   "cell_type": "code",
   "execution_count": 235,
   "metadata": {},
   "outputs": [
    {
     "name": "stderr",
     "output_type": "stream",
     "text": [
      "c:\\Users\\Reinhard\\anaconda3\\envs\\deeplearning\\Lib\\site-packages\\torchvision\\models\\_utils.py:208: UserWarning: The parameter 'pretrained' is deprecated since 0.13 and may be removed in the future, please use 'weights' instead.\n",
      "  warnings.warn(\n",
      "c:\\Users\\Reinhard\\anaconda3\\envs\\deeplearning\\Lib\\site-packages\\torchvision\\models\\_utils.py:223: UserWarning: Arguments other than a weight enum or `None` for 'weights' are deprecated since 0.13 and may be removed in the future. The current behavior is equivalent to passing `weights=ResNet50_Weights.IMAGENET1K_V1`. You can also use `weights=ResNet50_Weights.DEFAULT` to get the most up-to-date weights.\n",
      "  warnings.warn(msg)\n"
     ]
    }
   ],
   "source": [
    "import torchvision.models as models\n",
    "import torch\n",
    "import torch.nn as nn\n",
    "\n",
    "class RootVolumeModel(nn.Module):\n",
    "    def __init__(self, pretrained=True):\n",
    "        super(RootVolumeModel, self).__init__()\n",
    "        self.resnet = models.resnet50(pretrained=pretrained)\n",
    "\n",
    "        # Freeze all layers first\n",
    "        for param in self.resnet.parameters():\n",
    "            param.requires_grad = False\n",
    "\n",
    "        # Unfreeze only the last few layers\n",
    "        for param in self.resnet.fc.parameters():\n",
    "            param.requires_grad = True\n",
    "\n",
    "        # Replce Fully connected layer\n",
    "        in_features = self.resnet.fc.in_features\n",
    "        self.resnet.fc = nn.Linear(in_features, 1)\n",
    "\n",
    "    def forward(self, x):\n",
    "        return self.resnet(x)\n",
    "    \n",
    "# Initialize Model\n",
    "#Initialize Model\n",
    "model = RootVolumeModel(pretrained=True)"
   ]
  },
  {
   "cell_type": "code",
   "execution_count": 236,
   "metadata": {},
   "outputs": [
    {
     "data": {
      "text/plain": [
       "RootVolumeModel(\n",
       "  (resnet): ResNet(\n",
       "    (conv1): Conv2d(3, 64, kernel_size=(7, 7), stride=(2, 2), padding=(3, 3), bias=False)\n",
       "    (bn1): BatchNorm2d(64, eps=1e-05, momentum=0.1, affine=True, track_running_stats=True)\n",
       "    (relu): ReLU(inplace=True)\n",
       "    (maxpool): MaxPool2d(kernel_size=3, stride=2, padding=1, dilation=1, ceil_mode=False)\n",
       "    (layer1): Sequential(\n",
       "      (0): Bottleneck(\n",
       "        (conv1): Conv2d(64, 64, kernel_size=(1, 1), stride=(1, 1), bias=False)\n",
       "        (bn1): BatchNorm2d(64, eps=1e-05, momentum=0.1, affine=True, track_running_stats=True)\n",
       "        (conv2): Conv2d(64, 64, kernel_size=(3, 3), stride=(1, 1), padding=(1, 1), bias=False)\n",
       "        (bn2): BatchNorm2d(64, eps=1e-05, momentum=0.1, affine=True, track_running_stats=True)\n",
       "        (conv3): Conv2d(64, 256, kernel_size=(1, 1), stride=(1, 1), bias=False)\n",
       "        (bn3): BatchNorm2d(256, eps=1e-05, momentum=0.1, affine=True, track_running_stats=True)\n",
       "        (relu): ReLU(inplace=True)\n",
       "        (downsample): Sequential(\n",
       "          (0): Conv2d(64, 256, kernel_size=(1, 1), stride=(1, 1), bias=False)\n",
       "          (1): BatchNorm2d(256, eps=1e-05, momentum=0.1, affine=True, track_running_stats=True)\n",
       "        )\n",
       "      )\n",
       "      (1): Bottleneck(\n",
       "        (conv1): Conv2d(256, 64, kernel_size=(1, 1), stride=(1, 1), bias=False)\n",
       "        (bn1): BatchNorm2d(64, eps=1e-05, momentum=0.1, affine=True, track_running_stats=True)\n",
       "        (conv2): Conv2d(64, 64, kernel_size=(3, 3), stride=(1, 1), padding=(1, 1), bias=False)\n",
       "        (bn2): BatchNorm2d(64, eps=1e-05, momentum=0.1, affine=True, track_running_stats=True)\n",
       "        (conv3): Conv2d(64, 256, kernel_size=(1, 1), stride=(1, 1), bias=False)\n",
       "        (bn3): BatchNorm2d(256, eps=1e-05, momentum=0.1, affine=True, track_running_stats=True)\n",
       "        (relu): ReLU(inplace=True)\n",
       "      )\n",
       "      (2): Bottleneck(\n",
       "        (conv1): Conv2d(256, 64, kernel_size=(1, 1), stride=(1, 1), bias=False)\n",
       "        (bn1): BatchNorm2d(64, eps=1e-05, momentum=0.1, affine=True, track_running_stats=True)\n",
       "        (conv2): Conv2d(64, 64, kernel_size=(3, 3), stride=(1, 1), padding=(1, 1), bias=False)\n",
       "        (bn2): BatchNorm2d(64, eps=1e-05, momentum=0.1, affine=True, track_running_stats=True)\n",
       "        (conv3): Conv2d(64, 256, kernel_size=(1, 1), stride=(1, 1), bias=False)\n",
       "        (bn3): BatchNorm2d(256, eps=1e-05, momentum=0.1, affine=True, track_running_stats=True)\n",
       "        (relu): ReLU(inplace=True)\n",
       "      )\n",
       "    )\n",
       "    (layer2): Sequential(\n",
       "      (0): Bottleneck(\n",
       "        (conv1): Conv2d(256, 128, kernel_size=(1, 1), stride=(1, 1), bias=False)\n",
       "        (bn1): BatchNorm2d(128, eps=1e-05, momentum=0.1, affine=True, track_running_stats=True)\n",
       "        (conv2): Conv2d(128, 128, kernel_size=(3, 3), stride=(2, 2), padding=(1, 1), bias=False)\n",
       "        (bn2): BatchNorm2d(128, eps=1e-05, momentum=0.1, affine=True, track_running_stats=True)\n",
       "        (conv3): Conv2d(128, 512, kernel_size=(1, 1), stride=(1, 1), bias=False)\n",
       "        (bn3): BatchNorm2d(512, eps=1e-05, momentum=0.1, affine=True, track_running_stats=True)\n",
       "        (relu): ReLU(inplace=True)\n",
       "        (downsample): Sequential(\n",
       "          (0): Conv2d(256, 512, kernel_size=(1, 1), stride=(2, 2), bias=False)\n",
       "          (1): BatchNorm2d(512, eps=1e-05, momentum=0.1, affine=True, track_running_stats=True)\n",
       "        )\n",
       "      )\n",
       "      (1): Bottleneck(\n",
       "        (conv1): Conv2d(512, 128, kernel_size=(1, 1), stride=(1, 1), bias=False)\n",
       "        (bn1): BatchNorm2d(128, eps=1e-05, momentum=0.1, affine=True, track_running_stats=True)\n",
       "        (conv2): Conv2d(128, 128, kernel_size=(3, 3), stride=(1, 1), padding=(1, 1), bias=False)\n",
       "        (bn2): BatchNorm2d(128, eps=1e-05, momentum=0.1, affine=True, track_running_stats=True)\n",
       "        (conv3): Conv2d(128, 512, kernel_size=(1, 1), stride=(1, 1), bias=False)\n",
       "        (bn3): BatchNorm2d(512, eps=1e-05, momentum=0.1, affine=True, track_running_stats=True)\n",
       "        (relu): ReLU(inplace=True)\n",
       "      )\n",
       "      (2): Bottleneck(\n",
       "        (conv1): Conv2d(512, 128, kernel_size=(1, 1), stride=(1, 1), bias=False)\n",
       "        (bn1): BatchNorm2d(128, eps=1e-05, momentum=0.1, affine=True, track_running_stats=True)\n",
       "        (conv2): Conv2d(128, 128, kernel_size=(3, 3), stride=(1, 1), padding=(1, 1), bias=False)\n",
       "        (bn2): BatchNorm2d(128, eps=1e-05, momentum=0.1, affine=True, track_running_stats=True)\n",
       "        (conv3): Conv2d(128, 512, kernel_size=(1, 1), stride=(1, 1), bias=False)\n",
       "        (bn3): BatchNorm2d(512, eps=1e-05, momentum=0.1, affine=True, track_running_stats=True)\n",
       "        (relu): ReLU(inplace=True)\n",
       "      )\n",
       "      (3): Bottleneck(\n",
       "        (conv1): Conv2d(512, 128, kernel_size=(1, 1), stride=(1, 1), bias=False)\n",
       "        (bn1): BatchNorm2d(128, eps=1e-05, momentum=0.1, affine=True, track_running_stats=True)\n",
       "        (conv2): Conv2d(128, 128, kernel_size=(3, 3), stride=(1, 1), padding=(1, 1), bias=False)\n",
       "        (bn2): BatchNorm2d(128, eps=1e-05, momentum=0.1, affine=True, track_running_stats=True)\n",
       "        (conv3): Conv2d(128, 512, kernel_size=(1, 1), stride=(1, 1), bias=False)\n",
       "        (bn3): BatchNorm2d(512, eps=1e-05, momentum=0.1, affine=True, track_running_stats=True)\n",
       "        (relu): ReLU(inplace=True)\n",
       "      )\n",
       "    )\n",
       "    (layer3): Sequential(\n",
       "      (0): Bottleneck(\n",
       "        (conv1): Conv2d(512, 256, kernel_size=(1, 1), stride=(1, 1), bias=False)\n",
       "        (bn1): BatchNorm2d(256, eps=1e-05, momentum=0.1, affine=True, track_running_stats=True)\n",
       "        (conv2): Conv2d(256, 256, kernel_size=(3, 3), stride=(2, 2), padding=(1, 1), bias=False)\n",
       "        (bn2): BatchNorm2d(256, eps=1e-05, momentum=0.1, affine=True, track_running_stats=True)\n",
       "        (conv3): Conv2d(256, 1024, kernel_size=(1, 1), stride=(1, 1), bias=False)\n",
       "        (bn3): BatchNorm2d(1024, eps=1e-05, momentum=0.1, affine=True, track_running_stats=True)\n",
       "        (relu): ReLU(inplace=True)\n",
       "        (downsample): Sequential(\n",
       "          (0): Conv2d(512, 1024, kernel_size=(1, 1), stride=(2, 2), bias=False)\n",
       "          (1): BatchNorm2d(1024, eps=1e-05, momentum=0.1, affine=True, track_running_stats=True)\n",
       "        )\n",
       "      )\n",
       "      (1): Bottleneck(\n",
       "        (conv1): Conv2d(1024, 256, kernel_size=(1, 1), stride=(1, 1), bias=False)\n",
       "        (bn1): BatchNorm2d(256, eps=1e-05, momentum=0.1, affine=True, track_running_stats=True)\n",
       "        (conv2): Conv2d(256, 256, kernel_size=(3, 3), stride=(1, 1), padding=(1, 1), bias=False)\n",
       "        (bn2): BatchNorm2d(256, eps=1e-05, momentum=0.1, affine=True, track_running_stats=True)\n",
       "        (conv3): Conv2d(256, 1024, kernel_size=(1, 1), stride=(1, 1), bias=False)\n",
       "        (bn3): BatchNorm2d(1024, eps=1e-05, momentum=0.1, affine=True, track_running_stats=True)\n",
       "        (relu): ReLU(inplace=True)\n",
       "      )\n",
       "      (2): Bottleneck(\n",
       "        (conv1): Conv2d(1024, 256, kernel_size=(1, 1), stride=(1, 1), bias=False)\n",
       "        (bn1): BatchNorm2d(256, eps=1e-05, momentum=0.1, affine=True, track_running_stats=True)\n",
       "        (conv2): Conv2d(256, 256, kernel_size=(3, 3), stride=(1, 1), padding=(1, 1), bias=False)\n",
       "        (bn2): BatchNorm2d(256, eps=1e-05, momentum=0.1, affine=True, track_running_stats=True)\n",
       "        (conv3): Conv2d(256, 1024, kernel_size=(1, 1), stride=(1, 1), bias=False)\n",
       "        (bn3): BatchNorm2d(1024, eps=1e-05, momentum=0.1, affine=True, track_running_stats=True)\n",
       "        (relu): ReLU(inplace=True)\n",
       "      )\n",
       "      (3): Bottleneck(\n",
       "        (conv1): Conv2d(1024, 256, kernel_size=(1, 1), stride=(1, 1), bias=False)\n",
       "        (bn1): BatchNorm2d(256, eps=1e-05, momentum=0.1, affine=True, track_running_stats=True)\n",
       "        (conv2): Conv2d(256, 256, kernel_size=(3, 3), stride=(1, 1), padding=(1, 1), bias=False)\n",
       "        (bn2): BatchNorm2d(256, eps=1e-05, momentum=0.1, affine=True, track_running_stats=True)\n",
       "        (conv3): Conv2d(256, 1024, kernel_size=(1, 1), stride=(1, 1), bias=False)\n",
       "        (bn3): BatchNorm2d(1024, eps=1e-05, momentum=0.1, affine=True, track_running_stats=True)\n",
       "        (relu): ReLU(inplace=True)\n",
       "      )\n",
       "      (4): Bottleneck(\n",
       "        (conv1): Conv2d(1024, 256, kernel_size=(1, 1), stride=(1, 1), bias=False)\n",
       "        (bn1): BatchNorm2d(256, eps=1e-05, momentum=0.1, affine=True, track_running_stats=True)\n",
       "        (conv2): Conv2d(256, 256, kernel_size=(3, 3), stride=(1, 1), padding=(1, 1), bias=False)\n",
       "        (bn2): BatchNorm2d(256, eps=1e-05, momentum=0.1, affine=True, track_running_stats=True)\n",
       "        (conv3): Conv2d(256, 1024, kernel_size=(1, 1), stride=(1, 1), bias=False)\n",
       "        (bn3): BatchNorm2d(1024, eps=1e-05, momentum=0.1, affine=True, track_running_stats=True)\n",
       "        (relu): ReLU(inplace=True)\n",
       "      )\n",
       "      (5): Bottleneck(\n",
       "        (conv1): Conv2d(1024, 256, kernel_size=(1, 1), stride=(1, 1), bias=False)\n",
       "        (bn1): BatchNorm2d(256, eps=1e-05, momentum=0.1, affine=True, track_running_stats=True)\n",
       "        (conv2): Conv2d(256, 256, kernel_size=(3, 3), stride=(1, 1), padding=(1, 1), bias=False)\n",
       "        (bn2): BatchNorm2d(256, eps=1e-05, momentum=0.1, affine=True, track_running_stats=True)\n",
       "        (conv3): Conv2d(256, 1024, kernel_size=(1, 1), stride=(1, 1), bias=False)\n",
       "        (bn3): BatchNorm2d(1024, eps=1e-05, momentum=0.1, affine=True, track_running_stats=True)\n",
       "        (relu): ReLU(inplace=True)\n",
       "      )\n",
       "    )\n",
       "    (layer4): Sequential(\n",
       "      (0): Bottleneck(\n",
       "        (conv1): Conv2d(1024, 512, kernel_size=(1, 1), stride=(1, 1), bias=False)\n",
       "        (bn1): BatchNorm2d(512, eps=1e-05, momentum=0.1, affine=True, track_running_stats=True)\n",
       "        (conv2): Conv2d(512, 512, kernel_size=(3, 3), stride=(2, 2), padding=(1, 1), bias=False)\n",
       "        (bn2): BatchNorm2d(512, eps=1e-05, momentum=0.1, affine=True, track_running_stats=True)\n",
       "        (conv3): Conv2d(512, 2048, kernel_size=(1, 1), stride=(1, 1), bias=False)\n",
       "        (bn3): BatchNorm2d(2048, eps=1e-05, momentum=0.1, affine=True, track_running_stats=True)\n",
       "        (relu): ReLU(inplace=True)\n",
       "        (downsample): Sequential(\n",
       "          (0): Conv2d(1024, 2048, kernel_size=(1, 1), stride=(2, 2), bias=False)\n",
       "          (1): BatchNorm2d(2048, eps=1e-05, momentum=0.1, affine=True, track_running_stats=True)\n",
       "        )\n",
       "      )\n",
       "      (1): Bottleneck(\n",
       "        (conv1): Conv2d(2048, 512, kernel_size=(1, 1), stride=(1, 1), bias=False)\n",
       "        (bn1): BatchNorm2d(512, eps=1e-05, momentum=0.1, affine=True, track_running_stats=True)\n",
       "        (conv2): Conv2d(512, 512, kernel_size=(3, 3), stride=(1, 1), padding=(1, 1), bias=False)\n",
       "        (bn2): BatchNorm2d(512, eps=1e-05, momentum=0.1, affine=True, track_running_stats=True)\n",
       "        (conv3): Conv2d(512, 2048, kernel_size=(1, 1), stride=(1, 1), bias=False)\n",
       "        (bn3): BatchNorm2d(2048, eps=1e-05, momentum=0.1, affine=True, track_running_stats=True)\n",
       "        (relu): ReLU(inplace=True)\n",
       "      )\n",
       "      (2): Bottleneck(\n",
       "        (conv1): Conv2d(2048, 512, kernel_size=(1, 1), stride=(1, 1), bias=False)\n",
       "        (bn1): BatchNorm2d(512, eps=1e-05, momentum=0.1, affine=True, track_running_stats=True)\n",
       "        (conv2): Conv2d(512, 512, kernel_size=(3, 3), stride=(1, 1), padding=(1, 1), bias=False)\n",
       "        (bn2): BatchNorm2d(512, eps=1e-05, momentum=0.1, affine=True, track_running_stats=True)\n",
       "        (conv3): Conv2d(512, 2048, kernel_size=(1, 1), stride=(1, 1), bias=False)\n",
       "        (bn3): BatchNorm2d(2048, eps=1e-05, momentum=0.1, affine=True, track_running_stats=True)\n",
       "        (relu): ReLU(inplace=True)\n",
       "      )\n",
       "    )\n",
       "    (avgpool): AdaptiveAvgPool2d(output_size=(1, 1))\n",
       "    (fc): Linear(in_features=2048, out_features=1, bias=True)\n",
       "  )\n",
       ")"
      ]
     },
     "execution_count": 236,
     "metadata": {},
     "output_type": "execute_result"
    }
   ],
   "source": [
    "import torch.optim as optim\n",
    "\n",
    "#Loss Function\n",
    "criterion = nn.MSELoss()\n",
    "\n",
    "# optimizer (only updating unfrozen layers)\n",
    "optimizer = optim.Adam(filter(lambda p: p.requires_grad, model.parameters()), lr=0.0001)\n",
    "\n",
    "# Move to GPU if available\n",
    "device = torch.device('cuda' if torch.cuda.is_available() else 'cpu')\n",
    "model.to(device)"
   ]
  },
  {
   "cell_type": "code",
   "execution_count": 237,
   "metadata": {},
   "outputs": [
    {
     "ename": "RecursionError",
     "evalue": "maximum recursion depth exceeded",
     "output_type": "error",
     "traceback": [
      "\u001b[1;31m---------------------------------------------------------------------------\u001b[0m",
      "\u001b[1;31mRecursionError\u001b[0m                            Traceback (most recent call last)",
      "Cell \u001b[1;32mIn[237], line 6\u001b[0m\n\u001b[0;32m      3\u001b[0m model\u001b[38;5;241m.\u001b[39mtrain()\n\u001b[0;32m      4\u001b[0m running_loss \u001b[38;5;241m=\u001b[39m \u001b[38;5;241m0.0\u001b[39m\n\u001b[1;32m----> 6\u001b[0m \u001b[43m\u001b[49m\u001b[38;5;28;43;01mfor\u001b[39;49;00m\u001b[43m \u001b[49m\u001b[43mimages\u001b[49m\u001b[43m,\u001b[49m\u001b[43m \u001b[49m\u001b[43mlabels\u001b[49m\u001b[43m \u001b[49m\u001b[38;5;129;43;01min\u001b[39;49;00m\u001b[43m \u001b[49m\u001b[43mtrain_loader\u001b[49m\u001b[43m:\u001b[49m\n\u001b[0;32m      7\u001b[0m \u001b[43m    \u001b[49m\u001b[38;5;28;43;01mtry\u001b[39;49;00m\u001b[43m:\u001b[49m\n\u001b[0;32m      8\u001b[0m \u001b[43m        \u001b[49m\u001b[43mimages\u001b[49m\u001b[43m,\u001b[49m\u001b[43m \u001b[49m\u001b[43mlabels\u001b[49m\u001b[43m \u001b[49m\u001b[38;5;241;43m=\u001b[39;49m\u001b[43m \u001b[49m\u001b[43mimages\u001b[49m\u001b[38;5;241;43m.\u001b[39;49m\u001b[43mto\u001b[49m\u001b[43m(\u001b[49m\u001b[43mdevice\u001b[49m\u001b[43m)\u001b[49m\u001b[43m,\u001b[49m\u001b[43m \u001b[49m\u001b[43mlabels\u001b[49m\u001b[38;5;241;43m.\u001b[39;49m\u001b[43mto\u001b[49m\u001b[43m(\u001b[49m\u001b[43mdevice\u001b[49m\u001b[43m)\u001b[49m\u001b[38;5;241;43m.\u001b[39;49m\u001b[43munsqueeze\u001b[49m\u001b[43m(\u001b[49m\u001b[38;5;241;43m1\u001b[39;49m\u001b[43m)\u001b[49m\n",
      "File \u001b[1;32mc:\\Users\\Reinhard\\anaconda3\\envs\\deeplearning\\Lib\\site-packages\\torch\\utils\\data\\dataloader.py:701\u001b[0m, in \u001b[0;36m_BaseDataLoaderIter.__next__\u001b[1;34m(self)\u001b[0m\n\u001b[0;32m    698\u001b[0m \u001b[38;5;28;01mif\u001b[39;00m \u001b[38;5;28mself\u001b[39m\u001b[38;5;241m.\u001b[39m_sampler_iter \u001b[38;5;129;01mis\u001b[39;00m \u001b[38;5;28;01mNone\u001b[39;00m:\n\u001b[0;32m    699\u001b[0m     \u001b[38;5;66;03m# TODO(https://github.com/pytorch/pytorch/issues/76750)\u001b[39;00m\n\u001b[0;32m    700\u001b[0m     \u001b[38;5;28mself\u001b[39m\u001b[38;5;241m.\u001b[39m_reset()  \u001b[38;5;66;03m# type: ignore[call-arg]\u001b[39;00m\n\u001b[1;32m--> 701\u001b[0m data \u001b[38;5;241m=\u001b[39m \u001b[38;5;28;43mself\u001b[39;49m\u001b[38;5;241;43m.\u001b[39;49m\u001b[43m_next_data\u001b[49m\u001b[43m(\u001b[49m\u001b[43m)\u001b[49m\n\u001b[0;32m    702\u001b[0m \u001b[38;5;28mself\u001b[39m\u001b[38;5;241m.\u001b[39m_num_yielded \u001b[38;5;241m+\u001b[39m\u001b[38;5;241m=\u001b[39m \u001b[38;5;241m1\u001b[39m\n\u001b[0;32m    703\u001b[0m \u001b[38;5;28;01mif\u001b[39;00m (\n\u001b[0;32m    704\u001b[0m     \u001b[38;5;28mself\u001b[39m\u001b[38;5;241m.\u001b[39m_dataset_kind \u001b[38;5;241m==\u001b[39m _DatasetKind\u001b[38;5;241m.\u001b[39mIterable\n\u001b[0;32m    705\u001b[0m     \u001b[38;5;129;01mand\u001b[39;00m \u001b[38;5;28mself\u001b[39m\u001b[38;5;241m.\u001b[39m_IterableDataset_len_called \u001b[38;5;129;01mis\u001b[39;00m \u001b[38;5;129;01mnot\u001b[39;00m \u001b[38;5;28;01mNone\u001b[39;00m\n\u001b[0;32m    706\u001b[0m     \u001b[38;5;129;01mand\u001b[39;00m \u001b[38;5;28mself\u001b[39m\u001b[38;5;241m.\u001b[39m_num_yielded \u001b[38;5;241m>\u001b[39m \u001b[38;5;28mself\u001b[39m\u001b[38;5;241m.\u001b[39m_IterableDataset_len_called\n\u001b[0;32m    707\u001b[0m ):\n",
      "File \u001b[1;32mc:\\Users\\Reinhard\\anaconda3\\envs\\deeplearning\\Lib\\site-packages\\torch\\utils\\data\\dataloader.py:757\u001b[0m, in \u001b[0;36m_SingleProcessDataLoaderIter._next_data\u001b[1;34m(self)\u001b[0m\n\u001b[0;32m    755\u001b[0m \u001b[38;5;28;01mdef\u001b[39;00m\u001b[38;5;250m \u001b[39m\u001b[38;5;21m_next_data\u001b[39m(\u001b[38;5;28mself\u001b[39m):\n\u001b[0;32m    756\u001b[0m     index \u001b[38;5;241m=\u001b[39m \u001b[38;5;28mself\u001b[39m\u001b[38;5;241m.\u001b[39m_next_index()  \u001b[38;5;66;03m# may raise StopIteration\u001b[39;00m\n\u001b[1;32m--> 757\u001b[0m     data \u001b[38;5;241m=\u001b[39m \u001b[38;5;28;43mself\u001b[39;49m\u001b[38;5;241;43m.\u001b[39;49m\u001b[43m_dataset_fetcher\u001b[49m\u001b[38;5;241;43m.\u001b[39;49m\u001b[43mfetch\u001b[49m\u001b[43m(\u001b[49m\u001b[43mindex\u001b[49m\u001b[43m)\u001b[49m  \u001b[38;5;66;03m# may raise StopIteration\u001b[39;00m\n\u001b[0;32m    758\u001b[0m     \u001b[38;5;28;01mif\u001b[39;00m \u001b[38;5;28mself\u001b[39m\u001b[38;5;241m.\u001b[39m_pin_memory:\n\u001b[0;32m    759\u001b[0m         data \u001b[38;5;241m=\u001b[39m _utils\u001b[38;5;241m.\u001b[39mpin_memory\u001b[38;5;241m.\u001b[39mpin_memory(data, \u001b[38;5;28mself\u001b[39m\u001b[38;5;241m.\u001b[39m_pin_memory_device)\n",
      "File \u001b[1;32mc:\\Users\\Reinhard\\anaconda3\\envs\\deeplearning\\Lib\\site-packages\\torch\\utils\\data\\_utils\\fetch.py:52\u001b[0m, in \u001b[0;36m_MapDatasetFetcher.fetch\u001b[1;34m(self, possibly_batched_index)\u001b[0m\n\u001b[0;32m     50\u001b[0m         data \u001b[38;5;241m=\u001b[39m \u001b[38;5;28mself\u001b[39m\u001b[38;5;241m.\u001b[39mdataset\u001b[38;5;241m.\u001b[39m__getitems__(possibly_batched_index)\n\u001b[0;32m     51\u001b[0m     \u001b[38;5;28;01melse\u001b[39;00m:\n\u001b[1;32m---> 52\u001b[0m         data \u001b[38;5;241m=\u001b[39m [\u001b[38;5;28;43mself\u001b[39;49m\u001b[38;5;241;43m.\u001b[39;49m\u001b[43mdataset\u001b[49m\u001b[43m[\u001b[49m\u001b[43midx\u001b[49m\u001b[43m]\u001b[49m \u001b[38;5;28;01mfor\u001b[39;00m idx \u001b[38;5;129;01min\u001b[39;00m possibly_batched_index]\n\u001b[0;32m     53\u001b[0m \u001b[38;5;28;01melse\u001b[39;00m:\n\u001b[0;32m     54\u001b[0m     data \u001b[38;5;241m=\u001b[39m \u001b[38;5;28mself\u001b[39m\u001b[38;5;241m.\u001b[39mdataset[possibly_batched_index]\n",
      "Cell \u001b[1;32mIn[231], line 28\u001b[0m, in \u001b[0;36mCassavaDataset.__getitem__\u001b[1;34m(self, idx)\u001b[0m\n\u001b[0;32m     26\u001b[0m \u001b[38;5;28;01mif\u001b[39;00m image_file \u001b[38;5;129;01mis\u001b[39;00m \u001b[38;5;28;01mNone\u001b[39;00m:\n\u001b[0;32m     27\u001b[0m     new_idx \u001b[38;5;241m=\u001b[39m random\u001b[38;5;241m.\u001b[39mrandint(\u001b[38;5;241m0\u001b[39m, \u001b[38;5;28mlen\u001b[39m(\u001b[38;5;28mself\u001b[39m\u001b[38;5;241m.\u001b[39mvalid_samples) \u001b[38;5;241m-\u001b[39m \u001b[38;5;241m1\u001b[39m)\n\u001b[1;32m---> 28\u001b[0m     \u001b[38;5;28;01mreturn\u001b[39;00m \u001b[38;5;28;43mself\u001b[39;49m\u001b[38;5;241;43m.\u001b[39;49m\u001b[38;5;21;43m__getitem__\u001b[39;49m\u001b[43m(\u001b[49m\u001b[43mnew_idx\u001b[49m\u001b[43m)\u001b[49m\n\u001b[0;32m     30\u001b[0m image \u001b[38;5;241m=\u001b[39m Image\u001b[38;5;241m.\u001b[39mopen(image_file)\u001b[38;5;241m.\u001b[39mconvert(\u001b[38;5;124m'\u001b[39m\u001b[38;5;124mRGB\u001b[39m\u001b[38;5;124m'\u001b[39m)\n\u001b[0;32m     32\u001b[0m \u001b[38;5;28;01mif\u001b[39;00m \u001b[38;5;28mself\u001b[39m\u001b[38;5;241m.\u001b[39mtransform:\n",
      "Cell \u001b[1;32mIn[231], line 28\u001b[0m, in \u001b[0;36mCassavaDataset.__getitem__\u001b[1;34m(self, idx)\u001b[0m\n\u001b[0;32m     26\u001b[0m \u001b[38;5;28;01mif\u001b[39;00m image_file \u001b[38;5;129;01mis\u001b[39;00m \u001b[38;5;28;01mNone\u001b[39;00m:\n\u001b[0;32m     27\u001b[0m     new_idx \u001b[38;5;241m=\u001b[39m random\u001b[38;5;241m.\u001b[39mrandint(\u001b[38;5;241m0\u001b[39m, \u001b[38;5;28mlen\u001b[39m(\u001b[38;5;28mself\u001b[39m\u001b[38;5;241m.\u001b[39mvalid_samples) \u001b[38;5;241m-\u001b[39m \u001b[38;5;241m1\u001b[39m)\n\u001b[1;32m---> 28\u001b[0m     \u001b[38;5;28;01mreturn\u001b[39;00m \u001b[38;5;28;43mself\u001b[39;49m\u001b[38;5;241;43m.\u001b[39;49m\u001b[38;5;21;43m__getitem__\u001b[39;49m\u001b[43m(\u001b[49m\u001b[43mnew_idx\u001b[49m\u001b[43m)\u001b[49m\n\u001b[0;32m     30\u001b[0m image \u001b[38;5;241m=\u001b[39m Image\u001b[38;5;241m.\u001b[39mopen(image_file)\u001b[38;5;241m.\u001b[39mconvert(\u001b[38;5;124m'\u001b[39m\u001b[38;5;124mRGB\u001b[39m\u001b[38;5;124m'\u001b[39m)\n\u001b[0;32m     32\u001b[0m \u001b[38;5;28;01mif\u001b[39;00m \u001b[38;5;28mself\u001b[39m\u001b[38;5;241m.\u001b[39mtransform:\n",
      "    \u001b[1;31m[... skipping similar frames: CassavaDataset.__getitem__ at line 28 (2963 times)]\u001b[0m\n",
      "Cell \u001b[1;32mIn[231], line 28\u001b[0m, in \u001b[0;36mCassavaDataset.__getitem__\u001b[1;34m(self, idx)\u001b[0m\n\u001b[0;32m     26\u001b[0m \u001b[38;5;28;01mif\u001b[39;00m image_file \u001b[38;5;129;01mis\u001b[39;00m \u001b[38;5;28;01mNone\u001b[39;00m:\n\u001b[0;32m     27\u001b[0m     new_idx \u001b[38;5;241m=\u001b[39m random\u001b[38;5;241m.\u001b[39mrandint(\u001b[38;5;241m0\u001b[39m, \u001b[38;5;28mlen\u001b[39m(\u001b[38;5;28mself\u001b[39m\u001b[38;5;241m.\u001b[39mvalid_samples) \u001b[38;5;241m-\u001b[39m \u001b[38;5;241m1\u001b[39m)\n\u001b[1;32m---> 28\u001b[0m     \u001b[38;5;28;01mreturn\u001b[39;00m \u001b[38;5;28;43mself\u001b[39;49m\u001b[38;5;241;43m.\u001b[39;49m\u001b[38;5;21;43m__getitem__\u001b[39;49m\u001b[43m(\u001b[49m\u001b[43mnew_idx\u001b[49m\u001b[43m)\u001b[49m\n\u001b[0;32m     30\u001b[0m image \u001b[38;5;241m=\u001b[39m Image\u001b[38;5;241m.\u001b[39mopen(image_file)\u001b[38;5;241m.\u001b[39mconvert(\u001b[38;5;124m'\u001b[39m\u001b[38;5;124mRGB\u001b[39m\u001b[38;5;124m'\u001b[39m)\n\u001b[0;32m     32\u001b[0m \u001b[38;5;28;01mif\u001b[39;00m \u001b[38;5;28mself\u001b[39m\u001b[38;5;241m.\u001b[39mtransform:\n",
      "Cell \u001b[1;32mIn[231], line 15\u001b[0m, in \u001b[0;36mCassavaDataset.__getitem__\u001b[1;34m(self, idx)\u001b[0m\n\u001b[0;32m     14\u001b[0m \u001b[38;5;28;01mdef\u001b[39;00m\u001b[38;5;250m \u001b[39m\u001b[38;5;21m__getitem__\u001b[39m(\u001b[38;5;28mself\u001b[39m, idx):\n\u001b[1;32m---> 15\u001b[0m     folder_name \u001b[38;5;241m=\u001b[39m \u001b[38;5;28;43mself\u001b[39;49m\u001b[38;5;241;43m.\u001b[39;49m\u001b[43mdata\u001b[49m\u001b[38;5;241;43m.\u001b[39;49m\u001b[43miloc\u001b[49m\u001b[43m[\u001b[49m\u001b[43midx\u001b[49m\u001b[43m]\u001b[49m[\u001b[38;5;124m'\u001b[39m\u001b[38;5;124mFolderName\u001b[39m\u001b[38;5;124m'\u001b[39m]\n\u001b[0;32m     16\u001b[0m     img_path \u001b[38;5;241m=\u001b[39m os\u001b[38;5;241m.\u001b[39mpath\u001b[38;5;241m.\u001b[39mjoin(\u001b[38;5;28mself\u001b[39m\u001b[38;5;241m.\u001b[39mimg_dir, folder_name)\n\u001b[0;32m     18\u001b[0m     possible_extensions \u001b[38;5;241m=\u001b[39m [\u001b[38;5;124m'\u001b[39m\u001b[38;5;124m.png\u001b[39m\u001b[38;5;124m'\u001b[39m, \u001b[38;5;124m'\u001b[39m\u001b[38;5;124m.jpg\u001b[39m\u001b[38;5;124m'\u001b[39m, \u001b[38;5;124m'\u001b[39m\u001b[38;5;124m.jpeg\u001b[39m\u001b[38;5;124m'\u001b[39m]\n",
      "File \u001b[1;32mc:\\Users\\Reinhard\\anaconda3\\envs\\deeplearning\\Lib\\site-packages\\pandas\\core\\indexing.py:1191\u001b[0m, in \u001b[0;36m_LocationIndexer.__getitem__\u001b[1;34m(self, key)\u001b[0m\n\u001b[0;32m   1189\u001b[0m maybe_callable \u001b[38;5;241m=\u001b[39m com\u001b[38;5;241m.\u001b[39mapply_if_callable(key, \u001b[38;5;28mself\u001b[39m\u001b[38;5;241m.\u001b[39mobj)\n\u001b[0;32m   1190\u001b[0m maybe_callable \u001b[38;5;241m=\u001b[39m \u001b[38;5;28mself\u001b[39m\u001b[38;5;241m.\u001b[39m_check_deprecated_callable_usage(key, maybe_callable)\n\u001b[1;32m-> 1191\u001b[0m \u001b[38;5;28;01mreturn\u001b[39;00m \u001b[38;5;28;43mself\u001b[39;49m\u001b[38;5;241;43m.\u001b[39;49m\u001b[43m_getitem_axis\u001b[49m\u001b[43m(\u001b[49m\u001b[43mmaybe_callable\u001b[49m\u001b[43m,\u001b[49m\u001b[43m \u001b[49m\u001b[43maxis\u001b[49m\u001b[38;5;241;43m=\u001b[39;49m\u001b[43maxis\u001b[49m\u001b[43m)\u001b[49m\n",
      "File \u001b[1;32mc:\\Users\\Reinhard\\anaconda3\\envs\\deeplearning\\Lib\\site-packages\\pandas\\core\\indexing.py:1754\u001b[0m, in \u001b[0;36m_iLocIndexer._getitem_axis\u001b[1;34m(self, key, axis)\u001b[0m\n\u001b[0;32m   1751\u001b[0m \u001b[38;5;66;03m# validate the location\u001b[39;00m\n\u001b[0;32m   1752\u001b[0m \u001b[38;5;28mself\u001b[39m\u001b[38;5;241m.\u001b[39m_validate_integer(key, axis)\n\u001b[1;32m-> 1754\u001b[0m \u001b[38;5;28;01mreturn\u001b[39;00m \u001b[38;5;28;43mself\u001b[39;49m\u001b[38;5;241;43m.\u001b[39;49m\u001b[43mobj\u001b[49m\u001b[38;5;241;43m.\u001b[39;49m\u001b[43m_ixs\u001b[49m\u001b[43m(\u001b[49m\u001b[43mkey\u001b[49m\u001b[43m,\u001b[49m\u001b[43m \u001b[49m\u001b[43maxis\u001b[49m\u001b[38;5;241;43m=\u001b[39;49m\u001b[43maxis\u001b[49m\u001b[43m)\u001b[49m\n",
      "File \u001b[1;32mc:\\Users\\Reinhard\\anaconda3\\envs\\deeplearning\\Lib\\site-packages\\pandas\\core\\frame.py:3996\u001b[0m, in \u001b[0;36mDataFrame._ixs\u001b[1;34m(self, i, axis)\u001b[0m\n\u001b[0;32m   3994\u001b[0m \u001b[38;5;66;03m# irow\u001b[39;00m\n\u001b[0;32m   3995\u001b[0m \u001b[38;5;28;01mif\u001b[39;00m axis \u001b[38;5;241m==\u001b[39m \u001b[38;5;241m0\u001b[39m:\n\u001b[1;32m-> 3996\u001b[0m     new_mgr \u001b[38;5;241m=\u001b[39m \u001b[38;5;28;43mself\u001b[39;49m\u001b[38;5;241;43m.\u001b[39;49m\u001b[43m_mgr\u001b[49m\u001b[38;5;241;43m.\u001b[39;49m\u001b[43mfast_xs\u001b[49m\u001b[43m(\u001b[49m\u001b[43mi\u001b[49m\u001b[43m)\u001b[49m\n\u001b[0;32m   3998\u001b[0m     \u001b[38;5;66;03m# if we are a copy, mark as such\u001b[39;00m\n\u001b[0;32m   3999\u001b[0m     copy \u001b[38;5;241m=\u001b[39m \u001b[38;5;28misinstance\u001b[39m(new_mgr\u001b[38;5;241m.\u001b[39marray, np\u001b[38;5;241m.\u001b[39mndarray) \u001b[38;5;129;01mand\u001b[39;00m new_mgr\u001b[38;5;241m.\u001b[39marray\u001b[38;5;241m.\u001b[39mbase \u001b[38;5;129;01mis\u001b[39;00m \u001b[38;5;28;01mNone\u001b[39;00m\n",
      "File \u001b[1;32mc:\\Users\\Reinhard\\anaconda3\\envs\\deeplearning\\Lib\\site-packages\\pandas\\core\\internals\\managers.py:984\u001b[0m, in \u001b[0;36mBlockManager.fast_xs\u001b[1;34m(self, loc)\u001b[0m\n\u001b[0;32m    976\u001b[0m     block \u001b[38;5;241m=\u001b[39m new_block(\n\u001b[0;32m    977\u001b[0m         result,\n\u001b[0;32m    978\u001b[0m         placement\u001b[38;5;241m=\u001b[39mbp,\n\u001b[0;32m    979\u001b[0m         ndim\u001b[38;5;241m=\u001b[39m\u001b[38;5;241m1\u001b[39m,\n\u001b[0;32m    980\u001b[0m         refs\u001b[38;5;241m=\u001b[39m\u001b[38;5;28mself\u001b[39m\u001b[38;5;241m.\u001b[39mblocks[\u001b[38;5;241m0\u001b[39m]\u001b[38;5;241m.\u001b[39mrefs,\n\u001b[0;32m    981\u001b[0m     )\n\u001b[0;32m    982\u001b[0m     \u001b[38;5;28;01mreturn\u001b[39;00m SingleBlockManager(block, \u001b[38;5;28mself\u001b[39m\u001b[38;5;241m.\u001b[39maxes[\u001b[38;5;241m0\u001b[39m])\n\u001b[1;32m--> 984\u001b[0m dtype \u001b[38;5;241m=\u001b[39m \u001b[43minterleaved_dtype\u001b[49m\u001b[43m(\u001b[49m\u001b[43m[\u001b[49m\u001b[43mblk\u001b[49m\u001b[38;5;241;43m.\u001b[39;49m\u001b[43mdtype\u001b[49m\u001b[43m \u001b[49m\u001b[38;5;28;43;01mfor\u001b[39;49;00m\u001b[43m \u001b[49m\u001b[43mblk\u001b[49m\u001b[43m \u001b[49m\u001b[38;5;129;43;01min\u001b[39;49;00m\u001b[43m \u001b[49m\u001b[38;5;28;43mself\u001b[39;49m\u001b[38;5;241;43m.\u001b[39;49m\u001b[43mblocks\u001b[49m\u001b[43m]\u001b[49m\u001b[43m)\u001b[49m\n\u001b[0;32m    986\u001b[0m n \u001b[38;5;241m=\u001b[39m \u001b[38;5;28mlen\u001b[39m(\u001b[38;5;28mself\u001b[39m)\n\u001b[0;32m    988\u001b[0m \u001b[38;5;28;01mif\u001b[39;00m \u001b[38;5;28misinstance\u001b[39m(dtype, ExtensionDtype):\n\u001b[0;32m    989\u001b[0m     \u001b[38;5;66;03m# TODO: use object dtype as workaround for non-performant\u001b[39;00m\n\u001b[0;32m    990\u001b[0m     \u001b[38;5;66;03m#  EA.__setitem__ methods. (primarily ArrowExtensionArray.__setitem__\u001b[39;00m\n\u001b[0;32m    991\u001b[0m     \u001b[38;5;66;03m#  when iteratively setting individual values)\u001b[39;00m\n\u001b[0;32m    992\u001b[0m     \u001b[38;5;66;03m#  https://github.com/pandas-dev/pandas/pull/54508#issuecomment-1675827918\u001b[39;00m\n",
      "File \u001b[1;32mc:\\Users\\Reinhard\\anaconda3\\envs\\deeplearning\\Lib\\site-packages\\pandas\\core\\internals\\base.py:394\u001b[0m, in \u001b[0;36minterleaved_dtype\u001b[1;34m(dtypes)\u001b[0m\n\u001b[0;32m    391\u001b[0m \u001b[38;5;28;01mif\u001b[39;00m \u001b[38;5;129;01mnot\u001b[39;00m \u001b[38;5;28mlen\u001b[39m(dtypes):\n\u001b[0;32m    392\u001b[0m     \u001b[38;5;28;01mreturn\u001b[39;00m \u001b[38;5;28;01mNone\u001b[39;00m\n\u001b[1;32m--> 394\u001b[0m \u001b[38;5;28;01mreturn\u001b[39;00m \u001b[43mfind_common_type\u001b[49m\u001b[43m(\u001b[49m\u001b[43mdtypes\u001b[49m\u001b[43m)\u001b[49m\n",
      "File \u001b[1;32mc:\\Users\\Reinhard\\anaconda3\\envs\\deeplearning\\Lib\\site-packages\\pandas\\core\\dtypes\\cast.py:1484\u001b[0m, in \u001b[0;36mfind_common_type\u001b[1;34m(types)\u001b[0m\n\u001b[0;32m   1481\u001b[0m         \u001b[38;5;28;01mif\u001b[39;00m t\u001b[38;5;241m.\u001b[39mkind \u001b[38;5;129;01min\u001b[39;00m \u001b[38;5;124m\"\u001b[39m\u001b[38;5;124miufc\u001b[39m\u001b[38;5;124m\"\u001b[39m:\n\u001b[0;32m   1482\u001b[0m             \u001b[38;5;28;01mreturn\u001b[39;00m np\u001b[38;5;241m.\u001b[39mdtype(\u001b[38;5;124m\"\u001b[39m\u001b[38;5;124mobject\u001b[39m\u001b[38;5;124m\"\u001b[39m)\n\u001b[1;32m-> 1484\u001b[0m \u001b[38;5;28;01mreturn\u001b[39;00m \u001b[43mnp_find_common_type\u001b[49m\u001b[43m(\u001b[49m\u001b[38;5;241;43m*\u001b[39;49m\u001b[43mtypes\u001b[49m\u001b[43m)\u001b[49m\n",
      "File \u001b[1;32mc:\\Users\\Reinhard\\anaconda3\\envs\\deeplearning\\Lib\\site-packages\\pandas\\core\\dtypes\\cast.py:1405\u001b[0m, in \u001b[0;36mnp_find_common_type\u001b[1;34m(*dtypes)\u001b[0m\n\u001b[0;32m   1392\u001b[0m \u001b[38;5;250m\u001b[39m\u001b[38;5;124;03m\"\"\"\u001b[39;00m\n\u001b[0;32m   1393\u001b[0m \u001b[38;5;124;03mnp.find_common_type implementation pre-1.25 deprecation using np.result_type\u001b[39;00m\n\u001b[0;32m   1394\u001b[0m \u001b[38;5;124;03mhttps://github.com/pandas-dev/pandas/pull/49569#issuecomment-1308300065\u001b[39;00m\n\u001b[1;32m   (...)\u001b[0m\n\u001b[0;32m   1402\u001b[0m \u001b[38;5;124;03mnp.dtype\u001b[39;00m\n\u001b[0;32m   1403\u001b[0m \u001b[38;5;124;03m\"\"\"\u001b[39;00m\n\u001b[0;32m   1404\u001b[0m \u001b[38;5;28;01mtry\u001b[39;00m:\n\u001b[1;32m-> 1405\u001b[0m     common_dtype \u001b[38;5;241m=\u001b[39m \u001b[43mnp\u001b[49m\u001b[38;5;241;43m.\u001b[39;49m\u001b[43mresult_type\u001b[49m\u001b[43m(\u001b[49m\u001b[38;5;241;43m*\u001b[39;49m\u001b[43mdtypes\u001b[49m\u001b[43m)\u001b[49m\n\u001b[0;32m   1406\u001b[0m     \u001b[38;5;28;01mif\u001b[39;00m common_dtype\u001b[38;5;241m.\u001b[39mkind \u001b[38;5;129;01min\u001b[39;00m \u001b[38;5;124m\"\u001b[39m\u001b[38;5;124mmMSU\u001b[39m\u001b[38;5;124m\"\u001b[39m:\n\u001b[0;32m   1407\u001b[0m         \u001b[38;5;66;03m# NumPy promotion currently (1.25) misbehaves for for times and strings,\u001b[39;00m\n\u001b[0;32m   1408\u001b[0m         \u001b[38;5;66;03m# so fall back to object (find_common_dtype did unless there\u001b[39;00m\n\u001b[0;32m   1409\u001b[0m         \u001b[38;5;66;03m# was only one dtype)\u001b[39;00m\n\u001b[0;32m   1410\u001b[0m         common_dtype \u001b[38;5;241m=\u001b[39m np\u001b[38;5;241m.\u001b[39mdtype(\u001b[38;5;124m\"\u001b[39m\u001b[38;5;124mO\u001b[39m\u001b[38;5;124m\"\u001b[39m)\n",
      "\u001b[1;31mRecursionError\u001b[0m: maximum recursion depth exceeded"
     ]
    }
   ],
   "source": [
    "num_epochs = 10\n",
    "for epoch in range(num_epochs):\n",
    "    model.train()\n",
    "    running_loss = 0.0\n",
    "\n",
    "    for images, labels in train_loader:\n",
    "        try:\n",
    "            images, labels = images.to(device), labels.to(device).unsqueeze(1)\n",
    "\n",
    "            optimizer.zero_grad()\n",
    "            outputs = model(images)\n",
    "            loss = criterion(outputs, labels)\n",
    "\n",
    "            loss.backward()\n",
    "            optimizer.step()\n",
    "\n",
    "            running_loss += loss.item()\n",
    "        except FileNotFoundError as e:\n",
    "            print(f\"Error: {e}\")\n",
    "            continue\n",
    "\n",
    "    print(f\"Epoch [{epoch+1}/{num_epochs}], Loss: {running_loss / len(train_loader):.4f}\")\n"
   ]
  },
  {
   "cell_type": "code",
   "execution_count": null,
   "metadata": {},
   "outputs": [],
   "source": []
  },
  {
   "cell_type": "code",
   "execution_count": null,
   "metadata": {},
   "outputs": [],
   "source": []
  },
  {
   "cell_type": "code",
   "execution_count": null,
   "metadata": {},
   "outputs": [],
   "source": []
  }
 ],
 "metadata": {
  "kaggle": {
   "accelerator": "gpu",
   "dataSources": [
    {
     "datasetId": 6576210,
     "sourceId": 10621026,
     "sourceType": "datasetVersion"
    },
    {
     "modelId": 232613,
     "modelInstanceId": 210917,
     "sourceId": 246804,
     "sourceType": "modelInstanceVersion"
    }
   ],
   "dockerImageVersionId": 30840,
   "isGpuEnabled": true,
   "isInternetEnabled": true,
   "language": "python",
   "sourceType": "notebook"
  },
  "kernelspec": {
   "display_name": "deeplearning",
   "language": "python",
   "name": "python3"
  },
  "language_info": {
   "codemirror_mode": {
    "name": "ipython",
    "version": 3
   },
   "file_extension": ".py",
   "mimetype": "text/x-python",
   "name": "python",
   "nbconvert_exporter": "python",
   "pygments_lexer": "ipython3",
   "version": "3.12.8"
  }
 },
 "nbformat": 4,
 "nbformat_minor": 4
}
