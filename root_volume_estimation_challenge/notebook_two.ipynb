{
 "cells": [
  {
   "cell_type": "code",
   "execution_count": 1,
   "metadata": {},
   "outputs": [],
   "source": [
    "import os \n",
    "import cv2\n",
    "import pandas as pd\n",
    "import torch\n",
    "from ultralytics import YOLO\n",
    "import numpy as np\n",
    "from glob import glob\n",
    "from tqdm import tqdm\n",
    "from sklearn.ensemble import RandomForestRegressor #type: ignore\n",
    "from sklearn.model_selection import train_test_split#type: ignore\n",
    "from sklearn.metrics import mean_squared_error      #type: ignore   "
   ]
  },
  {
   "cell_type": "code",
   "execution_count": 2,
   "metadata": {},
   "outputs": [],
   "source": [
    "train_df = pd.read_csv('Train.csv')\n",
    "test_df = pd.read_csv('Test.csv')   "
   ]
  },
  {
   "cell_type": "code",
   "execution_count": 3,
   "metadata": {},
   "outputs": [],
   "source": [
    "train_path = 'data/train'\n",
    "test_path = 'data/test'\n",
    "model_path = 'Models/Models'"
   ]
  },
  {
   "cell_type": "code",
   "execution_count": 4,
   "metadata": {},
   "outputs": [],
   "source": [
    "model = YOLO(os.path.join(model_path, 'best_full.pt'))"
   ]
  },
  {
   "cell_type": "code",
   "execution_count": 7,
   "metadata": {},
   "outputs": [],
   "source": [
    "# Function to get image paths\n",
    "def get_image_paths(folder):\n",
    "    return sorted(glob(os.path.join(folder, '*.jpg')))  "
   ]
  },
  {
   "cell_type": "code",
   "execution_count": 6,
   "metadata": {},
   "outputs": [],
   "source": [
    "def extract_features(model, image_path):\n",
    "    image = cv2.imread(image_path)\n",
    "    results = model(image)\n",
    "\n",
    "    masks = results[0].masks.xy if results[0].masks else []\n",
    "    segmented_image = np.zeros_like(image)\n",
    "\n",
    "\n",
    "    total_area = 0\n",
    "    for mask in masks:\n",
    "        points = np.array(mask, dtype=np.int32)\n",
    "        cv2.fillPoly(segmented_image, [points], (255, 255, 255))\n",
    "        total_area += cv2.contourArea(points)\n",
    "\n",
    "    return total_area"
   ]
  },
  {
   "cell_type": "code",
   "execution_count": 8,
   "metadata": {},
   "outputs": [
    {
     "name": "stderr",
     "output_type": "stream",
     "text": [
      "100%|██████████| 386/386 [00:03<00:00, 117.24it/s]\n"
     ]
    }
   ],
   "source": [
    "train_features = []\n",
    "train_labels = []\n",
    "\n",
    "for _, row in tqdm(train_df.iterrows(), total=len(train_df)):\n",
    "    folder = os.path.join(train_path, row['FolderName'])\n",
    "    side = row['Side']\n",
    "    images = get_image_paths(folder)\n",
    "    images = [img for img in images if f'_{side}']\n",
    "\n",
    "    best_area = 0 \n",
    "    for img_path in images:\n",
    "        area = extract_features(model, img_path)\n",
    "        best_area = max(best_area, area)\n",
    "\n",
    "    train_features.append(best_area)\n",
    "    train_labels.append(row['RootVolume'])\n",
    "\n",
    "train_features = np.array(train_features).reshape(-1, 1)\n",
    "train_labels = np.array(train_labels)"
   ]
  },
  {
   "cell_type": "code",
   "execution_count": 9,
   "metadata": {},
   "outputs": [
    {
     "name": "stdout",
     "output_type": "stream",
     "text": [
      "Validation RMSE: 1.3679645003081706\n"
     ]
    }
   ],
   "source": [
    "X_train, X_val, y_train, y_val = train_test_split(train_features, train_labels, test_size=0.2, random_state=42)\n",
    "regressor = RandomForestRegressor(n_estimators=100, random_state=42)\n",
    "regressor.fit(X_train, y_train)\n",
    "\n",
    "y_pred = regressor.predict(X_val)\n",
    "rmse = np.sqrt(mean_squared_error(y_val, y_pred))\n",
    "print(f'Validation RMSE: {rmse}')"
   ]
  },
  {
   "cell_type": "code",
   "execution_count": 13,
   "metadata": {},
   "outputs": [
    {
     "name": "stderr",
     "output_type": "stream",
     "text": [
      "100%|██████████| 130/130 [00:00<00:00, 172.41it/s]\n"
     ]
    }
   ],
   "source": [
    "test_features = []\n",
    "test_ids = []\n",
    "\n",
    "for _, row in tqdm(test_df.iterrows(), total=len(test_df)):\n",
    "    folder = os.path.join(test_path, row['FolderName'])\n",
    "    side = row['Side']\n",
    "    images = get_image_paths(folder)\n",
    "    images = [img for img in images if f'_{side}_' in img]\n",
    "\n",
    "    best_area = 0 \n",
    "    for img_path in images:\n",
    "        area = extract_features(model, img_path)\n",
    "        best_area = max(best_area, area)\n",
    "\n",
    "    test_features.append(best_area)\n",
    "    test_ids.append(row['FolderName'])\n",
    "\n",
    "test_features = np.array(test_features).reshape(-1, 1)\n",
    "predictions = regressor.predict(test_features)"
   ]
  },
  {
   "cell_type": "code",
   "execution_count": 14,
   "metadata": {},
   "outputs": [],
   "source": [
    "submission_df = pd.DataFrame({\"ID\": test_ids, \"RootVolume\": predictions})"
   ]
  },
  {
   "cell_type": "code",
   "execution_count": 16,
   "metadata": {},
   "outputs": [
    {
     "data": {
      "text/plain": [
       "<bound method Series.unique of 0      2.088643\n",
       "1      2.088643\n",
       "2      2.088643\n",
       "3      2.088643\n",
       "4      2.088643\n",
       "         ...   \n",
       "125    2.088643\n",
       "126    2.088643\n",
       "127    2.088643\n",
       "128    2.088643\n",
       "129    2.088643\n",
       "Name: RootVolume, Length: 130, dtype: float64>"
      ]
     },
     "execution_count": 16,
     "metadata": {},
     "output_type": "execute_result"
    }
   ],
   "source": [
    "submission_df['RootVolume'].unique"
   ]
  },
  {
   "cell_type": "code",
   "execution_count": 17,
   "metadata": {},
   "outputs": [],
   "source": [
    "#converting to csv\n",
    "submission_df.to_csv('submission201.csv', index=False)"
   ]
  },
  {
   "cell_type": "code",
   "execution_count": null,
   "metadata": {},
   "outputs": [],
   "source": []
  },
  {
   "cell_type": "code",
   "execution_count": null,
   "metadata": {},
   "outputs": [],
   "source": []
  },
  {
   "cell_type": "code",
   "execution_count": null,
   "metadata": {},
   "outputs": [
    {
     "data": {
      "text/plain": [
       "(130, 2)"
      ]
     },
     "execution_count": 18,
     "metadata": {},
     "output_type": "execute_result"
    }
   ],
   "source": [
    "def display_sample_images(dir_path, sample=5):\n",
    "    dir_path = Path(dir_path) if isinstance(dir_path, str) else dir_path\n",
    "\n",
    "    image_list = []\n",
    "    # Sort the images to ensure they are processed in order\n",
    "    images = sorted(dir_path.glob(\"*.jpg\"))\n",
    "    if not images:\n",
    "        return None\n",
    "\n",
    "    # Iterate over the first 'sample' images\n",
    "    for img_path in images[:sample]:\n",
    "        img = read_image(str(img_path))\n",
    "        resize_transform = transforms.Resize((240, 240))\n",
    "        img = resize_transform(img)\n",
    "        image_list.append(img)\n",
    "\n",
    "    # Organize the grid to have 'sample' images per row\n",
    "    Grid = make_grid(image_list, nrow=5)\n",
    "    # Convert the tensor grid to a PIL Image for display\n",
    "    img = torchvision.transforms.ToPILImage()(Grid)\n",
    "    return img"
   ]
  },
  {
   "cell_type": "code",
   "execution_count": null,
   "metadata": {},
   "outputs": [],
   "source": []
  },
  {
   "cell_type": "code",
   "execution_count": null,
   "metadata": {},
   "outputs": [],
   "source": []
  },
  {
   "cell_type": "code",
   "execution_count": null,
   "metadata": {},
   "outputs": [],
   "source": []
  },
  {
   "cell_type": "code",
   "execution_count": null,
   "metadata": {},
   "outputs": [],
   "source": []
  },
  {
   "cell_type": "code",
   "execution_count": null,
   "metadata": {},
   "outputs": [],
   "source": []
  },
  {
   "cell_type": "code",
   "execution_count": null,
   "metadata": {},
   "outputs": [],
   "source": []
  },
  {
   "cell_type": "code",
   "execution_count": null,
   "metadata": {},
   "outputs": [],
   "source": []
  },
  {
   "cell_type": "code",
   "execution_count": null,
   "metadata": {},
   "outputs": [],
   "source": []
  },
  {
   "cell_type": "code",
   "execution_count": null,
   "metadata": {},
   "outputs": [],
   "source": []
  }
 ],
 "metadata": {
  "kernelspec": {
   "display_name": "deeplearning",
   "language": "python",
   "name": "python3"
  },
  "language_info": {
   "codemirror_mode": {
    "name": "ipython",
    "version": 3
   },
   "file_extension": ".py",
   "mimetype": "text/x-python",
   "name": "python",
   "nbconvert_exporter": "python",
   "pygments_lexer": "ipython3",
   "version": "3.12.8"
  }
 },
 "nbformat": 4,
 "nbformat_minor": 2
}
