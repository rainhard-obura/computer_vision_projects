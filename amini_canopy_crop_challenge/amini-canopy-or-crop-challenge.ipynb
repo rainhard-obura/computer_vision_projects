{
 "cells": [
  {
   "cell_type": "code",
   "execution_count": null,
   "metadata": {
    "_cell_guid": "b1076dfc-b9ad-4769-8c92-a6c4dae69d19",
    "_uuid": "8f2839f25d086af736a60e9eeb907d3b93b6e0e5",
    "execution": {
     "iopub.execute_input": "2025-02-07T12:51:03.790123Z",
     "iopub.status.busy": "2025-02-07T12:51:03.789676Z",
     "iopub.status.idle": "2025-02-07T12:51:04.202434Z",
     "shell.execute_reply": "2025-02-07T12:51:04.201026Z",
     "shell.execute_reply.started": "2025-02-07T12:51:03.790086Z"
    },
    "trusted": true
   },
   "outputs": [],
   "source": [
    "############## AGGGREAGTE  FEATURES BY MEANS ON SAME ID ############\n",
    "import pandas  as pd \n",
    "train = pd.read_csv(\"/kaggle/input/cleaned-data/Train_Cleaned.csv\")\n",
    "test = pd.read_csv(\"/kaggle/input/cleaned-data/Test_Cleaned.csv\")\n",
    "test_ids  = test['ID']\n",
    "y = train['Target_y'].astype(int)\n",
    "test = test.drop(columns=['ID', 'Padding', 'Padding.1'])\n",
    "train = train.drop(columns=['ID','Target_y','Target_x'])\n",
    "train"
   ]
  },
  {
   "cell_type": "code",
   "execution_count": null,
   "metadata": {
    "execution": {
     "iopub.execute_input": "2025-02-07T12:51:04.20476Z",
     "iopub.status.busy": "2025-02-07T12:51:04.204301Z"
    },
    "trusted": true
   },
   "outputs": [],
   "source": [
    "import pandas as pd\n",
    "import numpy as np\n",
    "from sklearn.metrics import f1_score\n",
    "from sklearn.model_selection import train_test_split\n",
    "from catboost import CatBoostClassifier\n",
    "\n",
    "# Split the data into training and test sets\n",
    "X_train, X_test, y_train, y_test = train_test_split(train, y, test_size=0.001, random_state=42)\n",
    "\n",
    "model = CatBoostClassifier(iterations=1000, depth=10, learning_rate=0.05, loss_function='MultiClass', verbose=0)\n",
    "model.fit(X_train, y_train)\n",
    "\n",
    "train_preds = model.predict(X_train)\n",
    "test_preds = model.predict(X_test)\n",
    "submission_preds = model.predict(test)\n",
    "\n",
    "train_preds = train_preds.astype(int)\n",
    "test_preds = test_preds.astype(int)\n",
    "submission_preds = submission_preds.astype(int)\n",
    "\n",
    "f1 = f1_score(y_train, train_preds, average='weighted')  # Use weighted average for multiclass problems\n",
    "print(f\"{model_name} F1 Score (Weighted): {f1:.4f}\")\n",
    "\n",
    "submission_dataframe = pd.read_csv(\"/kaggle/input/cleaned-data/Test_Cleaned.csv\")\n",
    "sub = pd.DataFrame()\n",
    "sub['ID'] = submission_dataframe['ID']\n",
    "sub['Target'] = submission_preds\n",
    "submission_file = f'/kaggle/working/Submission.csv'\n",
    "sub.to_csv(submission_file, index=False)\n",
    "print(f\"Submission file created: {submission_file}\")\n"
   ]
  }
 ],
 "metadata": {
  "kaggle": {
   "accelerator": "none",
   "dataSources": [
    {
     "datasetId": 6557244,
     "sourceId": 10594318,
     "sourceType": "datasetVersion"
    },
    {
     "datasetId": 6621452,
     "sourceId": 10687218,
     "sourceType": "datasetVersion"
    }
   ],
   "dockerImageVersionId": 30839,
   "isGpuEnabled": false,
   "isInternetEnabled": true,
   "language": "python",
   "sourceType": "notebook"
  },
  "kernelspec": {
   "display_name": "Datascience",
   "language": "python",
   "name": "python3"
  },
  "language_info": {
   "codemirror_mode": {
    "name": "ipython",
    "version": 3
   },
   "file_extension": ".py",
   "mimetype": "text/x-python",
   "name": "python",
   "nbconvert_exporter": "python",
   "pygments_lexer": "ipython3",
   "version": "3.12.4"
  }
 },
 "nbformat": 4,
 "nbformat_minor": 4
}
